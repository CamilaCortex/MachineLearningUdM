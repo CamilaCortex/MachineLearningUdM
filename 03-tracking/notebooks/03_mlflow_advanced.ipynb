{
 "cells": [
  {
   "cell_type": "markdown",
   "metadata": {},
   "source": [
    "# MLflow avanzado: Optimización de hiperparámetros y registro de modelos\n",
    " \n",
    "En este notebook, exploraremos algunas de las funciones más avanzadas de MLflow, incluyendo:\n",
    "\n",
    "-   **Optimización de hiperparámetros:** Usar Optuna para encontrar los mejores hiperparámetros para nuestro modelo y registrar los resultados en MLflow.\n",
    "-   **Registro de modelos:** Registrar el mejor modelo en el Registro de Modelos de MLflow para versionado y despliegue."
   ]
  },
  {
   "cell_type": "code",
   "execution_count": 1,
   "metadata": {},
   "outputs": [],
   "source": [
    "import os\n",
    "import pandas as pd\n",
    "from sklearn.feature_extraction import DictVectorizer\n",
    "import pickle"
   ]
  },
  {
   "cell_type": "markdown",
   "metadata": {},
   "source": [
    "## **Cargamos datos \"procesados\"**"
   ]
  },
  {
   "cell_type": "code",
   "execution_count": 2,
   "metadata": {},
   "outputs": [],
   "source": [
    "df_jan = pd.read_parquet(\"data/processed/jan.parquet\")\n",
    "df_feb = pd.read_parquet(\"data/processed/feb.parquet\")\n"
   ]
  },
  {
   "cell_type": "markdown",
   "metadata": {},
   "source": [
    "## **Definir columnas a modelar**"
   ]
  },
  {
   "cell_type": "code",
   "execution_count": 3,
   "metadata": {},
   "outputs": [],
   "source": [
    "categorical = ['PULocationID', 'DOLocationID']\n",
    "numerical = [\"trip_distance\"]"
   ]
  },
  {
   "cell_type": "markdown",
   "metadata": {},
   "source": [
    "## Definir set de train y test"
   ]
  },
  {
   "cell_type": "code",
   "execution_count": 4,
   "metadata": {},
   "outputs": [],
   "source": [
    "df_train = df_jan\n",
    "df_val = df_feb"
   ]
  },
  {
   "cell_type": "markdown",
   "metadata": {},
   "source": [
    "## **Preprocesar**"
   ]
  },
  {
   "cell_type": "code",
   "execution_count": 5,
   "metadata": {},
   "outputs": [],
   "source": [
    "from sklearn.feature_extraction import DictVectorizer\n",
    "from sklearn.compose import ColumnTransformer\n",
    "from sklearn.preprocessing import StandardScaler\n",
    "from sklearn.impute import SimpleImputer\n",
    "from sklearn.pipeline import Pipeline\n",
    "\n",
    "df_train = df_train.copy()\n",
    "df_val   = df_val.copy()\n",
    "df_train[\"categorical_dict\"] = df_train[categorical].to_dict(orient=\"records\")\n",
    "df_val[\"categorical_dict\"]   = df_val[categorical].to_dict(orient=\"records\")\n",
    "\n",
    "preprocessor = ColumnTransformer(\n",
    "    transformers=[\n",
    "        (\"cat\", DictVectorizer(), \"categorical_dict\"),\n",
    "        (\"num\", Pipeline([(\"imputer\", SimpleImputer(strategy=\"median\")),\n",
    "                          (\"scaler\", StandardScaler())]), numerical),\n",
    "    ]\n",
    ")\n",
    "\n",
    "X_train = preprocessor.fit_transform(df_train)\n",
    "y_train = df_train[\"duration\"].values\n",
    "X_val   = preprocessor.transform(df_val)\n",
    "y_val   = df_val[\"duration\"].values"
   ]
  },
  {
   "cell_type": "markdown",
   "metadata": {},
   "source": [
    "## **Entrenar**"
   ]
  },
  {
   "cell_type": "markdown",
   "metadata": {},
   "source": [
    "Antes de ejecutar lo siguiente correr en la terminal en la misma carpeta donde esta el notebook:\n",
    "\n",
    "`mlflow server --backend-store-uri sqlite:///backend.db`\n",
    "\n"
   ]
  },
  {
   "cell_type": "code",
   "execution_count": 6,
   "metadata": {},
   "outputs": [],
   "source": [
    "import mlflow\n",
    "\n",
    "mlflow.set_tracking_uri(\"http://127.0.0.1:5000\")"
   ]
  },
  {
   "cell_type": "code",
   "execution_count": 7,
   "metadata": {},
   "outputs": [
    {
     "name": "stdout",
     "output_type": "stream",
     "text": [
      "tracking URI: 'http://127.0.0.1:5000'\n"
     ]
    }
   ],
   "source": [
    "print(f\"tracking URI: '{mlflow.get_tracking_uri()}'\")"
   ]
  },
  {
   "cell_type": "code",
   "execution_count": 8,
   "metadata": {},
   "outputs": [
    {
     "name": "stdout",
     "output_type": "stream",
     "text": [
      "🏃 View run clumsy-fawn-403 at: http://127.0.0.1:5000/#/experiments/1/runs/f356deb3ab5349c2b729e00e2105a7f6\n",
      "🧪 View experiment at: http://127.0.0.1:5000/#/experiments/1\n"
     ]
    }
   ],
   "source": [
    "from sklearn.ensemble import RandomForestRegressor\n",
    "from sklearn.metrics import mean_squared_error\n",
    "import numpy as np\n",
    "\n",
    "experiment_name = \"rf-nyc-taxi\"\n",
    "mlflow.set_experiment(experiment_name)\n",
    "\n",
    "with mlflow.start_run():\n",
    "    rf = RandomForestRegressor(n_estimators=100, random_state=0, max_depth=10)\n",
    "    rf.fit(X_train, y_train)\n",
    "    y_pred = rf.predict(X_val)\n",
    "    mlflow.log_param(\"n_estimators\", 100)\n",
    "    mlflow.log_param(\"max_depth\", 10)\n",
    "\n",
    "    rmse = np.sqrt(mean_squared_error(y_val, y_pred))\n",
    "    mlflow.log_metric(\"rmse\", rmse)"
   ]
  },
  {
   "cell_type": "markdown",
   "metadata": {},
   "source": [
    "## **Probando otro modelo**"
   ]
  },
  {
   "cell_type": "code",
   "execution_count": 9,
   "metadata": {},
   "outputs": [
    {
     "name": "stdout",
     "output_type": "stream",
     "text": [
      "🏃 View run selective-cod-2 at: http://127.0.0.1:5000/#/experiments/1/runs/17ee89efd3f440859e243a7144c19c31\n",
      "🧪 View experiment at: http://127.0.0.1:5000/#/experiments/1\n"
     ]
    }
   ],
   "source": [
    "import xgboost as xgb\n",
    "\n",
    "with mlflow.start_run():\n",
    "    xgb_reg = xgb.XGBRegressor(objective='reg:squarederror', random_state=42)\n",
    "    xgb_reg.fit(X_train, y_train)\n",
    "    y_pred = xgb_reg.predict(X_val)\n",
    "    rmse = np.sqrt(mean_squared_error(y_val, y_pred))\n",
    "    mlflow.log_metric(\"rmse\", rmse)"
   ]
  },
  {
   "cell_type": "markdown",
   "metadata": {},
   "source": [
    "## **Probando autologgin**"
   ]
  },
  {
   "cell_type": "code",
   "execution_count": 13,
   "metadata": {},
   "outputs": [
    {
     "name": "stderr",
     "output_type": "stream",
     "text": [
      "2025/09/03 21:24:20 INFO mlflow.tracking.fluent: Autologging successfully enabled for sklearn.\n",
      "2025/09/03 21:24:20 WARNING mlflow.utils.autologging_utils: MLflow xgboost autologging is known to be compatible with 2.0.0 <= xgboost <= 3.0.2, but the installed version is 3.0.4. If you encounter errors during autologging, try upgrading / downgrading xgboost to a compatible version, or try upgrading MLflow.\n",
      "2025/09/03 21:24:20 INFO mlflow.tracking.fluent: Autologging successfully enabled for xgboost.\n",
      "2025/09/03 21:24:25 WARNING mlflow.utils.environment: Failed to resolve installed pip version. ``pip`` will be added to conda.yaml environment spec without a version specifier.\n"
     ]
    },
    {
     "name": "stdout",
     "output_type": "stream",
     "text": [
      "🏃 View run unleashed-wasp-528 at: http://127.0.0.1:5000/#/experiments/2/runs/a08c2f7a958346fc85961081092e58ec\n",
      "🧪 View experiment at: http://127.0.0.1:5000/#/experiments/2\n"
     ]
    }
   ],
   "source": [
    "import mlflow\n",
    "\n",
    "experiment_name = \"rf-nyc-taxi-autolog\"\n",
    "mlflow.set_experiment(experiment_name)\n",
    "mlflow.autolog()\n",
    "\n",
    "with mlflow.start_run():\n",
    "    rf = RandomForestRegressor(n_estimators=100, random_state=0, max_depth=10)\n",
    "    rf.fit(X_train, y_train)\n",
    "    y_pred = rf.predict(X_val)\n",
    "    mlflow.log_param(\"n_estimators\", 100)\n",
    "    mlflow.log_param(\"max_depth\", 10)\n",
    "\n",
    "    rmse = np.sqrt(mean_squared_error(y_val, y_pred))\n",
    "    mlflow.log_metric(\"rmse\", rmse)\n"
   ]
  },
  {
   "cell_type": "markdown",
   "metadata": {},
   "source": [
    "## **Optimización de Hiperparametros**"
   ]
  },
  {
   "cell_type": "markdown",
   "metadata": {},
   "source": [
    "## **¿Por qué es importante la optimización de hiperparámetros?**\n",
    "\n",
    "En ML, los hiperparámetros son como los “ajustes” que le damos a nuestros modelos antes de entrenarlos. Cosas como la cantidad de árboles en un Random Forest, la profundidad máxima, o la tasa de aprendizaje en un modelo de boosting. Elegir bien estos valores puede marcar la diferencia entre un modelo mediocre y uno realmente bueno."
   ]
  },
  {
   "cell_type": "markdown",
   "metadata": {},
   "source": [
    "Optimizar los hiperparámetros no es solo cuestión de probar al azar: es un proceso sistemático para encontrar la mejor combinación posible, y así lograr que nuestro modelo aprenda mejor y generalice bien a datos nuevos. Si no los ajustamos, podemos quedarnos con un modelo que no aprovecha todo su potencial."
   ]
  },
  {
   "cell_type": "markdown",
   "metadata": {},
   "source": [
    "## **Usando Optuna**\n",
    "\n",
    "Para facilitar este proceso, existen herramientas como **Optuna**, que nos ayudan a buscar automáticamente los mejores hiperparámetros de manera eficiente e inteligente. Optuna prueba diferentes combinaciones, aprende de los resultados y se enfoca en las opciones más prometedoras, ahorrándonos mucho tiempo y esfuerzo.\n",
    "\n",
    "En resumen: dedicarle tiempo a la optimización de hiperparámetros, usando herramientas como Optuna, es clave para sacar el máximo provecho de nuestros modelos de ML."
   ]
  },
  {
   "cell_type": "markdown",
   "metadata": {},
   "source": [
    "<img src=\"optim.png\">"
   ]
  },
  {
   "cell_type": "code",
   "execution_count": null,
   "metadata": {},
   "outputs": [
    {
     "name": "stderr",
     "output_type": "stream",
     "text": [
      "/Users/macano/Desktop/code_personal/MLOps_UdM/.venv/lib/python3.11/site-packages/tqdm/auto.py:21: TqdmWarning: IProgress not found. Please update jupyter and ipywidgets. See https://ipywidgets.readthedocs.io/en/stable/user_install.html\n",
      "  from .autonotebook import tqdm as notebook_tqdm\n",
      "[I 2025-09-16 21:10:57,773] A new study created in memory with name: no-name-6265d10b-c88e-4757-a4ec-b777c253be76\n",
      "/var/folders/02/7p49pcn90q5ftb99dns9v18c0000gp/T/ipykernel_80721/4268162343.py:8: FutureWarning: suggest_int() got {'step'} as positional arguments but they were expected to be given as keyword arguments.\n",
      "Positional arguments ['self', 'name', 'low', 'high', 'step', 'log'] in suggest_int() have been deprecated since v3.5.0. They will be replaced with the corresponding keyword arguments in v5.0.0, so please use the keyword specification instead. See https://github.com/optuna/optuna/releases/tag/v3.5.0 for details.\n",
      "  'n_estimators': trial.suggest_int('n_estimators', 10, 50, 1),\n",
      "/var/folders/02/7p49pcn90q5ftb99dns9v18c0000gp/T/ipykernel_80721/4268162343.py:9: FutureWarning: suggest_int() got {'step'} as positional arguments but they were expected to be given as keyword arguments.\n",
      "Positional arguments ['self', 'name', 'low', 'high', 'step', 'log'] in suggest_int() have been deprecated since v3.5.0. They will be replaced with the corresponding keyword arguments in v5.0.0, so please use the keyword specification instead. See https://github.com/optuna/optuna/releases/tag/v3.5.0 for details.\n",
      "  'max_depth': trial.suggest_int('max_depth', 1, 20, 1),\n",
      "/var/folders/02/7p49pcn90q5ftb99dns9v18c0000gp/T/ipykernel_80721/4268162343.py:10: FutureWarning: suggest_int() got {'step'} as positional arguments but they were expected to be given as keyword arguments.\n",
      "Positional arguments ['self', 'name', 'low', 'high', 'step', 'log'] in suggest_int() have been deprecated since v3.5.0. They will be replaced with the corresponding keyword arguments in v5.0.0, so please use the keyword specification instead. See https://github.com/optuna/optuna/releases/tag/v3.5.0 for details.\n",
      "  'min_samples_split': trial.suggest_int('min_samples_split', 2, 10, 1),\n",
      "/var/folders/02/7p49pcn90q5ftb99dns9v18c0000gp/T/ipykernel_80721/4268162343.py:11: FutureWarning: suggest_int() got {'step'} as positional arguments but they were expected to be given as keyword arguments.\n",
      "Positional arguments ['self', 'name', 'low', 'high', 'step', 'log'] in suggest_int() have been deprecated since v3.5.0. They will be replaced with the corresponding keyword arguments in v5.0.0, so please use the keyword specification instead. See https://github.com/optuna/optuna/releases/tag/v3.5.0 for details.\n",
      "  'min_samples_leaf': trial.suggest_int('min_samples_leaf', 1, 4, 1),\n",
      "[I 2025-09-16 21:10:58,021] Trial 0 finished with value: 5.066289811079069 and parameters: {'n_estimators': 25, 'max_depth': 20, 'min_samples_split': 8, 'min_samples_leaf': 3}. Best is trial 0 with value: 5.066289811079069.\n",
      "/var/folders/02/7p49pcn90q5ftb99dns9v18c0000gp/T/ipykernel_80721/4268162343.py:8: FutureWarning: suggest_int() got {'step'} as positional arguments but they were expected to be given as keyword arguments.\n",
      "Positional arguments ['self', 'name', 'low', 'high', 'step', 'log'] in suggest_int() have been deprecated since v3.5.0. They will be replaced with the corresponding keyword arguments in v5.0.0, so please use the keyword specification instead. See https://github.com/optuna/optuna/releases/tag/v3.5.0 for details.\n",
      "  'n_estimators': trial.suggest_int('n_estimators', 10, 50, 1),\n",
      "/var/folders/02/7p49pcn90q5ftb99dns9v18c0000gp/T/ipykernel_80721/4268162343.py:9: FutureWarning: suggest_int() got {'step'} as positional arguments but they were expected to be given as keyword arguments.\n",
      "Positional arguments ['self', 'name', 'low', 'high', 'step', 'log'] in suggest_int() have been deprecated since v3.5.0. They will be replaced with the corresponding keyword arguments in v5.0.0, so please use the keyword specification instead. See https://github.com/optuna/optuna/releases/tag/v3.5.0 for details.\n",
      "  'max_depth': trial.suggest_int('max_depth', 1, 20, 1),\n",
      "/var/folders/02/7p49pcn90q5ftb99dns9v18c0000gp/T/ipykernel_80721/4268162343.py:10: FutureWarning: suggest_int() got {'step'} as positional arguments but they were expected to be given as keyword arguments.\n",
      "Positional arguments ['self', 'name', 'low', 'high', 'step', 'log'] in suggest_int() have been deprecated since v3.5.0. They will be replaced with the corresponding keyword arguments in v5.0.0, so please use the keyword specification instead. See https://github.com/optuna/optuna/releases/tag/v3.5.0 for details.\n",
      "  'min_samples_split': trial.suggest_int('min_samples_split', 2, 10, 1),\n",
      "/var/folders/02/7p49pcn90q5ftb99dns9v18c0000gp/T/ipykernel_80721/4268162343.py:11: FutureWarning: suggest_int() got {'step'} as positional arguments but they were expected to be given as keyword arguments.\n",
      "Positional arguments ['self', 'name', 'low', 'high', 'step', 'log'] in suggest_int() have been deprecated since v3.5.0. They will be replaced with the corresponding keyword arguments in v5.0.0, so please use the keyword specification instead. See https://github.com/optuna/optuna/releases/tag/v3.5.0 for details.\n",
      "  'min_samples_leaf': trial.suggest_int('min_samples_leaf', 1, 4, 1),\n",
      "[I 2025-09-16 21:10:58,118] Trial 1 finished with value: 5.625794708504083 and parameters: {'n_estimators': 16, 'max_depth': 4, 'min_samples_split': 2, 'min_samples_leaf': 4}. Best is trial 0 with value: 5.066289811079069.\n"
     ]
    },
    {
     "name": "stdout",
     "output_type": "stream",
     "text": [
      "🏃 View run capricious-yak-7 at: http://127.0.0.1:5000/#/experiments/2/runs/57b52f0e49f84cd090c23999d4fd9fa5\n",
      "🧪 View experiment at: http://127.0.0.1:5000/#/experiments/2\n",
      "🏃 View run skittish-bird-7 at: http://127.0.0.1:5000/#/experiments/2/runs/1d19609d2b5b49ecb69f7ba364579440\n",
      "🧪 View experiment at: http://127.0.0.1:5000/#/experiments/2\n"
     ]
    },
    {
     "name": "stderr",
     "output_type": "stream",
     "text": [
      "/var/folders/02/7p49pcn90q5ftb99dns9v18c0000gp/T/ipykernel_80721/4268162343.py:8: FutureWarning: suggest_int() got {'step'} as positional arguments but they were expected to be given as keyword arguments.\n",
      "Positional arguments ['self', 'name', 'low', 'high', 'step', 'log'] in suggest_int() have been deprecated since v3.5.0. They will be replaced with the corresponding keyword arguments in v5.0.0, so please use the keyword specification instead. See https://github.com/optuna/optuna/releases/tag/v3.5.0 for details.\n",
      "  'n_estimators': trial.suggest_int('n_estimators', 10, 50, 1),\n",
      "/var/folders/02/7p49pcn90q5ftb99dns9v18c0000gp/T/ipykernel_80721/4268162343.py:9: FutureWarning: suggest_int() got {'step'} as positional arguments but they were expected to be given as keyword arguments.\n",
      "Positional arguments ['self', 'name', 'low', 'high', 'step', 'log'] in suggest_int() have been deprecated since v3.5.0. They will be replaced with the corresponding keyword arguments in v5.0.0, so please use the keyword specification instead. See https://github.com/optuna/optuna/releases/tag/v3.5.0 for details.\n",
      "  'max_depth': trial.suggest_int('max_depth', 1, 20, 1),\n",
      "/var/folders/02/7p49pcn90q5ftb99dns9v18c0000gp/T/ipykernel_80721/4268162343.py:10: FutureWarning: suggest_int() got {'step'} as positional arguments but they were expected to be given as keyword arguments.\n",
      "Positional arguments ['self', 'name', 'low', 'high', 'step', 'log'] in suggest_int() have been deprecated since v3.5.0. They will be replaced with the corresponding keyword arguments in v5.0.0, so please use the keyword specification instead. See https://github.com/optuna/optuna/releases/tag/v3.5.0 for details.\n",
      "  'min_samples_split': trial.suggest_int('min_samples_split', 2, 10, 1),\n",
      "/var/folders/02/7p49pcn90q5ftb99dns9v18c0000gp/T/ipykernel_80721/4268162343.py:11: FutureWarning: suggest_int() got {'step'} as positional arguments but they were expected to be given as keyword arguments.\n",
      "Positional arguments ['self', 'name', 'low', 'high', 'step', 'log'] in suggest_int() have been deprecated since v3.5.0. They will be replaced with the corresponding keyword arguments in v5.0.0, so please use the keyword specification instead. See https://github.com/optuna/optuna/releases/tag/v3.5.0 for details.\n",
      "  'min_samples_leaf': trial.suggest_int('min_samples_leaf', 1, 4, 1),\n",
      "[I 2025-09-16 21:10:58,369] Trial 2 finished with value: 5.034253440524673 and parameters: {'n_estimators': 34, 'max_depth': 15, 'min_samples_split': 2, 'min_samples_leaf': 4}. Best is trial 2 with value: 5.034253440524673.\n",
      "/var/folders/02/7p49pcn90q5ftb99dns9v18c0000gp/T/ipykernel_80721/4268162343.py:8: FutureWarning: suggest_int() got {'step'} as positional arguments but they were expected to be given as keyword arguments.\n",
      "Positional arguments ['self', 'name', 'low', 'high', 'step', 'log'] in suggest_int() have been deprecated since v3.5.0. They will be replaced with the corresponding keyword arguments in v5.0.0, so please use the keyword specification instead. See https://github.com/optuna/optuna/releases/tag/v3.5.0 for details.\n",
      "  'n_estimators': trial.suggest_int('n_estimators', 10, 50, 1),\n",
      "/var/folders/02/7p49pcn90q5ftb99dns9v18c0000gp/T/ipykernel_80721/4268162343.py:9: FutureWarning: suggest_int() got {'step'} as positional arguments but they were expected to be given as keyword arguments.\n",
      "Positional arguments ['self', 'name', 'low', 'high', 'step', 'log'] in suggest_int() have been deprecated since v3.5.0. They will be replaced with the corresponding keyword arguments in v5.0.0, so please use the keyword specification instead. See https://github.com/optuna/optuna/releases/tag/v3.5.0 for details.\n",
      "  'max_depth': trial.suggest_int('max_depth', 1, 20, 1),\n",
      "/var/folders/02/7p49pcn90q5ftb99dns9v18c0000gp/T/ipykernel_80721/4268162343.py:10: FutureWarning: suggest_int() got {'step'} as positional arguments but they were expected to be given as keyword arguments.\n",
      "Positional arguments ['self', 'name', 'low', 'high', 'step', 'log'] in suggest_int() have been deprecated since v3.5.0. They will be replaced with the corresponding keyword arguments in v5.0.0, so please use the keyword specification instead. See https://github.com/optuna/optuna/releases/tag/v3.5.0 for details.\n",
      "  'min_samples_split': trial.suggest_int('min_samples_split', 2, 10, 1),\n",
      "/var/folders/02/7p49pcn90q5ftb99dns9v18c0000gp/T/ipykernel_80721/4268162343.py:11: FutureWarning: suggest_int() got {'step'} as positional arguments but they were expected to be given as keyword arguments.\n",
      "Positional arguments ['self', 'name', 'low', 'high', 'step', 'log'] in suggest_int() have been deprecated since v3.5.0. They will be replaced with the corresponding keyword arguments in v5.0.0, so please use the keyword specification instead. See https://github.com/optuna/optuna/releases/tag/v3.5.0 for details.\n",
      "  'min_samples_leaf': trial.suggest_int('min_samples_leaf', 1, 4, 1),\n",
      "[I 2025-09-16 21:10:58,546] Trial 3 finished with value: 5.532595440372496 and parameters: {'n_estimators': 44, 'max_depth': 5, 'min_samples_split': 3, 'min_samples_leaf': 1}. Best is trial 2 with value: 5.034253440524673.\n"
     ]
    },
    {
     "name": "stdout",
     "output_type": "stream",
     "text": [
      "🏃 View run powerful-rook-734 at: http://127.0.0.1:5000/#/experiments/2/runs/ce32e7c44a5d4f288a987f24fd2e36b2\n",
      "🧪 View experiment at: http://127.0.0.1:5000/#/experiments/2\n",
      "🏃 View run fortunate-auk-796 at: http://127.0.0.1:5000/#/experiments/2/runs/ac4ee44200494e1a9e1e334519eba163\n",
      "🧪 View experiment at: http://127.0.0.1:5000/#/experiments/2\n"
     ]
    },
    {
     "name": "stderr",
     "output_type": "stream",
     "text": [
      "/var/folders/02/7p49pcn90q5ftb99dns9v18c0000gp/T/ipykernel_80721/4268162343.py:8: FutureWarning: suggest_int() got {'step'} as positional arguments but they were expected to be given as keyword arguments.\n",
      "Positional arguments ['self', 'name', 'low', 'high', 'step', 'log'] in suggest_int() have been deprecated since v3.5.0. They will be replaced with the corresponding keyword arguments in v5.0.0, so please use the keyword specification instead. See https://github.com/optuna/optuna/releases/tag/v3.5.0 for details.\n",
      "  'n_estimators': trial.suggest_int('n_estimators', 10, 50, 1),\n",
      "/var/folders/02/7p49pcn90q5ftb99dns9v18c0000gp/T/ipykernel_80721/4268162343.py:9: FutureWarning: suggest_int() got {'step'} as positional arguments but they were expected to be given as keyword arguments.\n",
      "Positional arguments ['self', 'name', 'low', 'high', 'step', 'log'] in suggest_int() have been deprecated since v3.5.0. They will be replaced with the corresponding keyword arguments in v5.0.0, so please use the keyword specification instead. See https://github.com/optuna/optuna/releases/tag/v3.5.0 for details.\n",
      "  'max_depth': trial.suggest_int('max_depth', 1, 20, 1),\n",
      "/var/folders/02/7p49pcn90q5ftb99dns9v18c0000gp/T/ipykernel_80721/4268162343.py:10: FutureWarning: suggest_int() got {'step'} as positional arguments but they were expected to be given as keyword arguments.\n",
      "Positional arguments ['self', 'name', 'low', 'high', 'step', 'log'] in suggest_int() have been deprecated since v3.5.0. They will be replaced with the corresponding keyword arguments in v5.0.0, so please use the keyword specification instead. See https://github.com/optuna/optuna/releases/tag/v3.5.0 for details.\n",
      "  'min_samples_split': trial.suggest_int('min_samples_split', 2, 10, 1),\n",
      "/var/folders/02/7p49pcn90q5ftb99dns9v18c0000gp/T/ipykernel_80721/4268162343.py:11: FutureWarning: suggest_int() got {'step'} as positional arguments but they were expected to be given as keyword arguments.\n",
      "Positional arguments ['self', 'name', 'low', 'high', 'step', 'log'] in suggest_int() have been deprecated since v3.5.0. They will be replaced with the corresponding keyword arguments in v5.0.0, so please use the keyword specification instead. See https://github.com/optuna/optuna/releases/tag/v3.5.0 for details.\n",
      "  'min_samples_leaf': trial.suggest_int('min_samples_leaf', 1, 4, 1),\n",
      "[I 2025-09-16 21:10:58,711] Trial 4 finished with value: 5.103835598488317 and parameters: {'n_estimators': 22, 'max_depth': 11, 'min_samples_split': 5, 'min_samples_leaf': 2}. Best is trial 2 with value: 5.034253440524673.\n",
      "/var/folders/02/7p49pcn90q5ftb99dns9v18c0000gp/T/ipykernel_80721/4268162343.py:8: FutureWarning: suggest_int() got {'step'} as positional arguments but they were expected to be given as keyword arguments.\n",
      "Positional arguments ['self', 'name', 'low', 'high', 'step', 'log'] in suggest_int() have been deprecated since v3.5.0. They will be replaced with the corresponding keyword arguments in v5.0.0, so please use the keyword specification instead. See https://github.com/optuna/optuna/releases/tag/v3.5.0 for details.\n",
      "  'n_estimators': trial.suggest_int('n_estimators', 10, 50, 1),\n",
      "/var/folders/02/7p49pcn90q5ftb99dns9v18c0000gp/T/ipykernel_80721/4268162343.py:9: FutureWarning: suggest_int() got {'step'} as positional arguments but they were expected to be given as keyword arguments.\n",
      "Positional arguments ['self', 'name', 'low', 'high', 'step', 'log'] in suggest_int() have been deprecated since v3.5.0. They will be replaced with the corresponding keyword arguments in v5.0.0, so please use the keyword specification instead. See https://github.com/optuna/optuna/releases/tag/v3.5.0 for details.\n",
      "  'max_depth': trial.suggest_int('max_depth', 1, 20, 1),\n",
      "/var/folders/02/7p49pcn90q5ftb99dns9v18c0000gp/T/ipykernel_80721/4268162343.py:10: FutureWarning: suggest_int() got {'step'} as positional arguments but they were expected to be given as keyword arguments.\n",
      "Positional arguments ['self', 'name', 'low', 'high', 'step', 'log'] in suggest_int() have been deprecated since v3.5.0. They will be replaced with the corresponding keyword arguments in v5.0.0, so please use the keyword specification instead. See https://github.com/optuna/optuna/releases/tag/v3.5.0 for details.\n",
      "  'min_samples_split': trial.suggest_int('min_samples_split', 2, 10, 1),\n",
      "/var/folders/02/7p49pcn90q5ftb99dns9v18c0000gp/T/ipykernel_80721/4268162343.py:11: FutureWarning: suggest_int() got {'step'} as positional arguments but they were expected to be given as keyword arguments.\n",
      "Positional arguments ['self', 'name', 'low', 'high', 'step', 'log'] in suggest_int() have been deprecated since v3.5.0. They will be replaced with the corresponding keyword arguments in v5.0.0, so please use the keyword specification instead. See https://github.com/optuna/optuna/releases/tag/v3.5.0 for details.\n",
      "  'min_samples_leaf': trial.suggest_int('min_samples_leaf', 1, 4, 1),\n",
      "[I 2025-09-16 21:10:58,830] Trial 5 finished with value: 5.769795066797643 and parameters: {'n_estimators': 35, 'max_depth': 3, 'min_samples_split': 4, 'min_samples_leaf': 2}. Best is trial 2 with value: 5.034253440524673.\n"
     ]
    },
    {
     "name": "stdout",
     "output_type": "stream",
     "text": [
      "🏃 View run intrigued-moth-298 at: http://127.0.0.1:5000/#/experiments/2/runs/c151d55432c14de1a7985e0e77f95e93\n",
      "🧪 View experiment at: http://127.0.0.1:5000/#/experiments/2\n",
      "🏃 View run shivering-quail-397 at: http://127.0.0.1:5000/#/experiments/2/runs/83d5394158e14b3c942f1456c49bcd3a\n",
      "🧪 View experiment at: http://127.0.0.1:5000/#/experiments/2\n"
     ]
    },
    {
     "name": "stderr",
     "output_type": "stream",
     "text": [
      "/var/folders/02/7p49pcn90q5ftb99dns9v18c0000gp/T/ipykernel_80721/4268162343.py:8: FutureWarning: suggest_int() got {'step'} as positional arguments but they were expected to be given as keyword arguments.\n",
      "Positional arguments ['self', 'name', 'low', 'high', 'step', 'log'] in suggest_int() have been deprecated since v3.5.0. They will be replaced with the corresponding keyword arguments in v5.0.0, so please use the keyword specification instead. See https://github.com/optuna/optuna/releases/tag/v3.5.0 for details.\n",
      "  'n_estimators': trial.suggest_int('n_estimators', 10, 50, 1),\n",
      "/var/folders/02/7p49pcn90q5ftb99dns9v18c0000gp/T/ipykernel_80721/4268162343.py:9: FutureWarning: suggest_int() got {'step'} as positional arguments but they were expected to be given as keyword arguments.\n",
      "Positional arguments ['self', 'name', 'low', 'high', 'step', 'log'] in suggest_int() have been deprecated since v3.5.0. They will be replaced with the corresponding keyword arguments in v5.0.0, so please use the keyword specification instead. See https://github.com/optuna/optuna/releases/tag/v3.5.0 for details.\n",
      "  'max_depth': trial.suggest_int('max_depth', 1, 20, 1),\n",
      "/var/folders/02/7p49pcn90q5ftb99dns9v18c0000gp/T/ipykernel_80721/4268162343.py:10: FutureWarning: suggest_int() got {'step'} as positional arguments but they were expected to be given as keyword arguments.\n",
      "Positional arguments ['self', 'name', 'low', 'high', 'step', 'log'] in suggest_int() have been deprecated since v3.5.0. They will be replaced with the corresponding keyword arguments in v5.0.0, so please use the keyword specification instead. See https://github.com/optuna/optuna/releases/tag/v3.5.0 for details.\n",
      "  'min_samples_split': trial.suggest_int('min_samples_split', 2, 10, 1),\n",
      "/var/folders/02/7p49pcn90q5ftb99dns9v18c0000gp/T/ipykernel_80721/4268162343.py:11: FutureWarning: suggest_int() got {'step'} as positional arguments but they were expected to be given as keyword arguments.\n",
      "Positional arguments ['self', 'name', 'low', 'high', 'step', 'log'] in suggest_int() have been deprecated since v3.5.0. They will be replaced with the corresponding keyword arguments in v5.0.0, so please use the keyword specification instead. See https://github.com/optuna/optuna/releases/tag/v3.5.0 for details.\n",
      "  'min_samples_leaf': trial.suggest_int('min_samples_leaf', 1, 4, 1),\n",
      "[I 2025-09-16 21:10:59,054] Trial 6 finished with value: 5.048056486763829 and parameters: {'n_estimators': 28, 'max_depth': 16, 'min_samples_split': 3, 'min_samples_leaf': 3}. Best is trial 2 with value: 5.034253440524673.\n",
      "/var/folders/02/7p49pcn90q5ftb99dns9v18c0000gp/T/ipykernel_80721/4268162343.py:8: FutureWarning: suggest_int() got {'step'} as positional arguments but they were expected to be given as keyword arguments.\n",
      "Positional arguments ['self', 'name', 'low', 'high', 'step', 'log'] in suggest_int() have been deprecated since v3.5.0. They will be replaced with the corresponding keyword arguments in v5.0.0, so please use the keyword specification instead. See https://github.com/optuna/optuna/releases/tag/v3.5.0 for details.\n",
      "  'n_estimators': trial.suggest_int('n_estimators', 10, 50, 1),\n",
      "/var/folders/02/7p49pcn90q5ftb99dns9v18c0000gp/T/ipykernel_80721/4268162343.py:9: FutureWarning: suggest_int() got {'step'} as positional arguments but they were expected to be given as keyword arguments.\n",
      "Positional arguments ['self', 'name', 'low', 'high', 'step', 'log'] in suggest_int() have been deprecated since v3.5.0. They will be replaced with the corresponding keyword arguments in v5.0.0, so please use the keyword specification instead. See https://github.com/optuna/optuna/releases/tag/v3.5.0 for details.\n",
      "  'max_depth': trial.suggest_int('max_depth', 1, 20, 1),\n",
      "/var/folders/02/7p49pcn90q5ftb99dns9v18c0000gp/T/ipykernel_80721/4268162343.py:10: FutureWarning: suggest_int() got {'step'} as positional arguments but they were expected to be given as keyword arguments.\n",
      "Positional arguments ['self', 'name', 'low', 'high', 'step', 'log'] in suggest_int() have been deprecated since v3.5.0. They will be replaced with the corresponding keyword arguments in v5.0.0, so please use the keyword specification instead. See https://github.com/optuna/optuna/releases/tag/v3.5.0 for details.\n",
      "  'min_samples_split': trial.suggest_int('min_samples_split', 2, 10, 1),\n",
      "/var/folders/02/7p49pcn90q5ftb99dns9v18c0000gp/T/ipykernel_80721/4268162343.py:11: FutureWarning: suggest_int() got {'step'} as positional arguments but they were expected to be given as keyword arguments.\n",
      "Positional arguments ['self', 'name', 'low', 'high', 'step', 'log'] in suggest_int() have been deprecated since v3.5.0. They will be replaced with the corresponding keyword arguments in v5.0.0, so please use the keyword specification instead. See https://github.com/optuna/optuna/releases/tag/v3.5.0 for details.\n",
      "  'min_samples_leaf': trial.suggest_int('min_samples_leaf', 1, 4, 1),\n",
      "[I 2025-09-16 21:10:59,138] Trial 7 finished with value: 7.239469939162794 and parameters: {'n_estimators': 34, 'max_depth': 1, 'min_samples_split': 7, 'min_samples_leaf': 1}. Best is trial 2 with value: 5.034253440524673.\n"
     ]
    },
    {
     "name": "stdout",
     "output_type": "stream",
     "text": [
      "🏃 View run unruly-gull-240 at: http://127.0.0.1:5000/#/experiments/2/runs/014b0af94dad4a6f805f119b84c50775\n",
      "🧪 View experiment at: http://127.0.0.1:5000/#/experiments/2\n",
      "🏃 View run dazzling-stag-95 at: http://127.0.0.1:5000/#/experiments/2/runs/7e5294bb088049d1ac21926c6d50b914\n",
      "🧪 View experiment at: http://127.0.0.1:5000/#/experiments/2\n"
     ]
    },
    {
     "name": "stderr",
     "output_type": "stream",
     "text": [
      "/var/folders/02/7p49pcn90q5ftb99dns9v18c0000gp/T/ipykernel_80721/4268162343.py:8: FutureWarning: suggest_int() got {'step'} as positional arguments but they were expected to be given as keyword arguments.\n",
      "Positional arguments ['self', 'name', 'low', 'high', 'step', 'log'] in suggest_int() have been deprecated since v3.5.0. They will be replaced with the corresponding keyword arguments in v5.0.0, so please use the keyword specification instead. See https://github.com/optuna/optuna/releases/tag/v3.5.0 for details.\n",
      "  'n_estimators': trial.suggest_int('n_estimators', 10, 50, 1),\n",
      "/var/folders/02/7p49pcn90q5ftb99dns9v18c0000gp/T/ipykernel_80721/4268162343.py:9: FutureWarning: suggest_int() got {'step'} as positional arguments but they were expected to be given as keyword arguments.\n",
      "Positional arguments ['self', 'name', 'low', 'high', 'step', 'log'] in suggest_int() have been deprecated since v3.5.0. They will be replaced with the corresponding keyword arguments in v5.0.0, so please use the keyword specification instead. See https://github.com/optuna/optuna/releases/tag/v3.5.0 for details.\n",
      "  'max_depth': trial.suggest_int('max_depth', 1, 20, 1),\n",
      "/var/folders/02/7p49pcn90q5ftb99dns9v18c0000gp/T/ipykernel_80721/4268162343.py:10: FutureWarning: suggest_int() got {'step'} as positional arguments but they were expected to be given as keyword arguments.\n",
      "Positional arguments ['self', 'name', 'low', 'high', 'step', 'log'] in suggest_int() have been deprecated since v3.5.0. They will be replaced with the corresponding keyword arguments in v5.0.0, so please use the keyword specification instead. See https://github.com/optuna/optuna/releases/tag/v3.5.0 for details.\n",
      "  'min_samples_split': trial.suggest_int('min_samples_split', 2, 10, 1),\n",
      "/var/folders/02/7p49pcn90q5ftb99dns9v18c0000gp/T/ipykernel_80721/4268162343.py:11: FutureWarning: suggest_int() got {'step'} as positional arguments but they were expected to be given as keyword arguments.\n",
      "Positional arguments ['self', 'name', 'low', 'high', 'step', 'log'] in suggest_int() have been deprecated since v3.5.0. They will be replaced with the corresponding keyword arguments in v5.0.0, so please use the keyword specification instead. See https://github.com/optuna/optuna/releases/tag/v3.5.0 for details.\n",
      "  'min_samples_leaf': trial.suggest_int('min_samples_leaf', 1, 4, 1),\n",
      "[I 2025-09-16 21:10:59,277] Trial 8 finished with value: 5.087033098150753 and parameters: {'n_estimators': 12, 'max_depth': 19, 'min_samples_split': 10, 'min_samples_leaf': 4}. Best is trial 2 with value: 5.034253440524673.\n",
      "/var/folders/02/7p49pcn90q5ftb99dns9v18c0000gp/T/ipykernel_80721/4268162343.py:8: FutureWarning: suggest_int() got {'step'} as positional arguments but they were expected to be given as keyword arguments.\n",
      "Positional arguments ['self', 'name', 'low', 'high', 'step', 'log'] in suggest_int() have been deprecated since v3.5.0. They will be replaced with the corresponding keyword arguments in v5.0.0, so please use the keyword specification instead. See https://github.com/optuna/optuna/releases/tag/v3.5.0 for details.\n",
      "  'n_estimators': trial.suggest_int('n_estimators', 10, 50, 1),\n",
      "/var/folders/02/7p49pcn90q5ftb99dns9v18c0000gp/T/ipykernel_80721/4268162343.py:9: FutureWarning: suggest_int() got {'step'} as positional arguments but they were expected to be given as keyword arguments.\n",
      "Positional arguments ['self', 'name', 'low', 'high', 'step', 'log'] in suggest_int() have been deprecated since v3.5.0. They will be replaced with the corresponding keyword arguments in v5.0.0, so please use the keyword specification instead. See https://github.com/optuna/optuna/releases/tag/v3.5.0 for details.\n",
      "  'max_depth': trial.suggest_int('max_depth', 1, 20, 1),\n",
      "/var/folders/02/7p49pcn90q5ftb99dns9v18c0000gp/T/ipykernel_80721/4268162343.py:10: FutureWarning: suggest_int() got {'step'} as positional arguments but they were expected to be given as keyword arguments.\n",
      "Positional arguments ['self', 'name', 'low', 'high', 'step', 'log'] in suggest_int() have been deprecated since v3.5.0. They will be replaced with the corresponding keyword arguments in v5.0.0, so please use the keyword specification instead. See https://github.com/optuna/optuna/releases/tag/v3.5.0 for details.\n",
      "  'min_samples_split': trial.suggest_int('min_samples_split', 2, 10, 1),\n",
      "/var/folders/02/7p49pcn90q5ftb99dns9v18c0000gp/T/ipykernel_80721/4268162343.py:11: FutureWarning: suggest_int() got {'step'} as positional arguments but they were expected to be given as keyword arguments.\n",
      "Positional arguments ['self', 'name', 'low', 'high', 'step', 'log'] in suggest_int() have been deprecated since v3.5.0. They will be replaced with the corresponding keyword arguments in v5.0.0, so please use the keyword specification instead. See https://github.com/optuna/optuna/releases/tag/v3.5.0 for details.\n",
      "  'min_samples_leaf': trial.suggest_int('min_samples_leaf', 1, 4, 1),\n",
      "[I 2025-09-16 21:10:59,356] Trial 9 finished with value: 6.336044899923993 and parameters: {'n_estimators': 22, 'max_depth': 2, 'min_samples_split': 8, 'min_samples_leaf': 2}. Best is trial 2 with value: 5.034253440524673.\n"
     ]
    },
    {
     "name": "stdout",
     "output_type": "stream",
     "text": [
      "🏃 View run able-squirrel-436 at: http://127.0.0.1:5000/#/experiments/2/runs/67e8f0e47d624cdaa37ad7e672ef5ed6\n",
      "🧪 View experiment at: http://127.0.0.1:5000/#/experiments/2\n",
      "🏃 View run receptive-mare-768 at: http://127.0.0.1:5000/#/experiments/2/runs/63c560d00ac2447982bdc8fc227be6bd\n",
      "🧪 View experiment at: http://127.0.0.1:5000/#/experiments/2\n"
     ]
    },
    {
     "name": "stderr",
     "output_type": "stream",
     "text": [
      "/var/folders/02/7p49pcn90q5ftb99dns9v18c0000gp/T/ipykernel_80721/4268162343.py:8: FutureWarning: suggest_int() got {'step'} as positional arguments but they were expected to be given as keyword arguments.\n",
      "Positional arguments ['self', 'name', 'low', 'high', 'step', 'log'] in suggest_int() have been deprecated since v3.5.0. They will be replaced with the corresponding keyword arguments in v5.0.0, so please use the keyword specification instead. See https://github.com/optuna/optuna/releases/tag/v3.5.0 for details.\n",
      "  'n_estimators': trial.suggest_int('n_estimators', 10, 50, 1),\n",
      "/var/folders/02/7p49pcn90q5ftb99dns9v18c0000gp/T/ipykernel_80721/4268162343.py:9: FutureWarning: suggest_int() got {'step'} as positional arguments but they were expected to be given as keyword arguments.\n",
      "Positional arguments ['self', 'name', 'low', 'high', 'step', 'log'] in suggest_int() have been deprecated since v3.5.0. They will be replaced with the corresponding keyword arguments in v5.0.0, so please use the keyword specification instead. See https://github.com/optuna/optuna/releases/tag/v3.5.0 for details.\n",
      "  'max_depth': trial.suggest_int('max_depth', 1, 20, 1),\n",
      "/var/folders/02/7p49pcn90q5ftb99dns9v18c0000gp/T/ipykernel_80721/4268162343.py:10: FutureWarning: suggest_int() got {'step'} as positional arguments but they were expected to be given as keyword arguments.\n",
      "Positional arguments ['self', 'name', 'low', 'high', 'step', 'log'] in suggest_int() have been deprecated since v3.5.0. They will be replaced with the corresponding keyword arguments in v5.0.0, so please use the keyword specification instead. See https://github.com/optuna/optuna/releases/tag/v3.5.0 for details.\n",
      "  'min_samples_split': trial.suggest_int('min_samples_split', 2, 10, 1),\n",
      "/var/folders/02/7p49pcn90q5ftb99dns9v18c0000gp/T/ipykernel_80721/4268162343.py:11: FutureWarning: suggest_int() got {'step'} as positional arguments but they were expected to be given as keyword arguments.\n",
      "Positional arguments ['self', 'name', 'low', 'high', 'step', 'log'] in suggest_int() have been deprecated since v3.5.0. They will be replaced with the corresponding keyword arguments in v5.0.0, so please use the keyword specification instead. See https://github.com/optuna/optuna/releases/tag/v3.5.0 for details.\n",
      "  'min_samples_leaf': trial.suggest_int('min_samples_leaf', 1, 4, 1),\n",
      "[I 2025-09-16 21:10:59,670] Trial 10 finished with value: 5.064462753752107 and parameters: {'n_estimators': 49, 'max_depth': 12, 'min_samples_split': 6, 'min_samples_leaf': 4}. Best is trial 2 with value: 5.034253440524673.\n"
     ]
    },
    {
     "name": "stdout",
     "output_type": "stream",
     "text": [
      "🏃 View run shivering-snipe-527 at: http://127.0.0.1:5000/#/experiments/2/runs/d764df4d7a1b4a87a56be16a4ce2f080\n",
      "🧪 View experiment at: http://127.0.0.1:5000/#/experiments/2\n"
     ]
    },
    {
     "name": "stderr",
     "output_type": "stream",
     "text": [
      "/var/folders/02/7p49pcn90q5ftb99dns9v18c0000gp/T/ipykernel_80721/4268162343.py:8: FutureWarning: suggest_int() got {'step'} as positional arguments but they were expected to be given as keyword arguments.\n",
      "Positional arguments ['self', 'name', 'low', 'high', 'step', 'log'] in suggest_int() have been deprecated since v3.5.0. They will be replaced with the corresponding keyword arguments in v5.0.0, so please use the keyword specification instead. See https://github.com/optuna/optuna/releases/tag/v3.5.0 for details.\n",
      "  'n_estimators': trial.suggest_int('n_estimators', 10, 50, 1),\n",
      "/var/folders/02/7p49pcn90q5ftb99dns9v18c0000gp/T/ipykernel_80721/4268162343.py:9: FutureWarning: suggest_int() got {'step'} as positional arguments but they were expected to be given as keyword arguments.\n",
      "Positional arguments ['self', 'name', 'low', 'high', 'step', 'log'] in suggest_int() have been deprecated since v3.5.0. They will be replaced with the corresponding keyword arguments in v5.0.0, so please use the keyword specification instead. See https://github.com/optuna/optuna/releases/tag/v3.5.0 for details.\n",
      "  'max_depth': trial.suggest_int('max_depth', 1, 20, 1),\n",
      "/var/folders/02/7p49pcn90q5ftb99dns9v18c0000gp/T/ipykernel_80721/4268162343.py:10: FutureWarning: suggest_int() got {'step'} as positional arguments but they were expected to be given as keyword arguments.\n",
      "Positional arguments ['self', 'name', 'low', 'high', 'step', 'log'] in suggest_int() have been deprecated since v3.5.0. They will be replaced with the corresponding keyword arguments in v5.0.0, so please use the keyword specification instead. See https://github.com/optuna/optuna/releases/tag/v3.5.0 for details.\n",
      "  'min_samples_split': trial.suggest_int('min_samples_split', 2, 10, 1),\n",
      "/var/folders/02/7p49pcn90q5ftb99dns9v18c0000gp/T/ipykernel_80721/4268162343.py:11: FutureWarning: suggest_int() got {'step'} as positional arguments but they were expected to be given as keyword arguments.\n",
      "Positional arguments ['self', 'name', 'low', 'high', 'step', 'log'] in suggest_int() have been deprecated since v3.5.0. They will be replaced with the corresponding keyword arguments in v5.0.0, so please use the keyword specification instead. See https://github.com/optuna/optuna/releases/tag/v3.5.0 for details.\n",
      "  'min_samples_leaf': trial.suggest_int('min_samples_leaf', 1, 4, 1),\n",
      "[I 2025-09-16 21:10:59,965] Trial 11 finished with value: 5.033635769877937 and parameters: {'n_estimators': 39, 'max_depth': 15, 'min_samples_split': 2, 'min_samples_leaf': 3}. Best is trial 11 with value: 5.033635769877937.\n"
     ]
    },
    {
     "name": "stdout",
     "output_type": "stream",
     "text": [
      "🏃 View run puzzled-shark-511 at: http://127.0.0.1:5000/#/experiments/2/runs/9de4d90f2d67479896ffca563754d449\n",
      "🧪 View experiment at: http://127.0.0.1:5000/#/experiments/2\n"
     ]
    },
    {
     "name": "stderr",
     "output_type": "stream",
     "text": [
      "/var/folders/02/7p49pcn90q5ftb99dns9v18c0000gp/T/ipykernel_80721/4268162343.py:8: FutureWarning: suggest_int() got {'step'} as positional arguments but they were expected to be given as keyword arguments.\n",
      "Positional arguments ['self', 'name', 'low', 'high', 'step', 'log'] in suggest_int() have been deprecated since v3.5.0. They will be replaced with the corresponding keyword arguments in v5.0.0, so please use the keyword specification instead. See https://github.com/optuna/optuna/releases/tag/v3.5.0 for details.\n",
      "  'n_estimators': trial.suggest_int('n_estimators', 10, 50, 1),\n",
      "/var/folders/02/7p49pcn90q5ftb99dns9v18c0000gp/T/ipykernel_80721/4268162343.py:9: FutureWarning: suggest_int() got {'step'} as positional arguments but they were expected to be given as keyword arguments.\n",
      "Positional arguments ['self', 'name', 'low', 'high', 'step', 'log'] in suggest_int() have been deprecated since v3.5.0. They will be replaced with the corresponding keyword arguments in v5.0.0, so please use the keyword specification instead. See https://github.com/optuna/optuna/releases/tag/v3.5.0 for details.\n",
      "  'max_depth': trial.suggest_int('max_depth', 1, 20, 1),\n",
      "/var/folders/02/7p49pcn90q5ftb99dns9v18c0000gp/T/ipykernel_80721/4268162343.py:10: FutureWarning: suggest_int() got {'step'} as positional arguments but they were expected to be given as keyword arguments.\n",
      "Positional arguments ['self', 'name', 'low', 'high', 'step', 'log'] in suggest_int() have been deprecated since v3.5.0. They will be replaced with the corresponding keyword arguments in v5.0.0, so please use the keyword specification instead. See https://github.com/optuna/optuna/releases/tag/v3.5.0 for details.\n",
      "  'min_samples_split': trial.suggest_int('min_samples_split', 2, 10, 1),\n",
      "/var/folders/02/7p49pcn90q5ftb99dns9v18c0000gp/T/ipykernel_80721/4268162343.py:11: FutureWarning: suggest_int() got {'step'} as positional arguments but they were expected to be given as keyword arguments.\n",
      "Positional arguments ['self', 'name', 'low', 'high', 'step', 'log'] in suggest_int() have been deprecated since v3.5.0. They will be replaced with the corresponding keyword arguments in v5.0.0, so please use the keyword specification instead. See https://github.com/optuna/optuna/releases/tag/v3.5.0 for details.\n",
      "  'min_samples_leaf': trial.suggest_int('min_samples_leaf', 1, 4, 1),\n",
      "[I 2025-09-16 21:11:00,325] Trial 12 finished with value: 5.033684444059398 and parameters: {'n_estimators': 40, 'max_depth': 15, 'min_samples_split': 2, 'min_samples_leaf': 3}. Best is trial 11 with value: 5.033635769877937.\n"
     ]
    },
    {
     "name": "stdout",
     "output_type": "stream",
     "text": [
      "🏃 View run enthused-eel-174 at: http://127.0.0.1:5000/#/experiments/2/runs/72a6e01e0b444613bf27ed0ae4c4afb6\n",
      "🧪 View experiment at: http://127.0.0.1:5000/#/experiments/2\n"
     ]
    },
    {
     "name": "stderr",
     "output_type": "stream",
     "text": [
      "/var/folders/02/7p49pcn90q5ftb99dns9v18c0000gp/T/ipykernel_80721/4268162343.py:8: FutureWarning: suggest_int() got {'step'} as positional arguments but they were expected to be given as keyword arguments.\n",
      "Positional arguments ['self', 'name', 'low', 'high', 'step', 'log'] in suggest_int() have been deprecated since v3.5.0. They will be replaced with the corresponding keyword arguments in v5.0.0, so please use the keyword specification instead. See https://github.com/optuna/optuna/releases/tag/v3.5.0 for details.\n",
      "  'n_estimators': trial.suggest_int('n_estimators', 10, 50, 1),\n",
      "/var/folders/02/7p49pcn90q5ftb99dns9v18c0000gp/T/ipykernel_80721/4268162343.py:9: FutureWarning: suggest_int() got {'step'} as positional arguments but they were expected to be given as keyword arguments.\n",
      "Positional arguments ['self', 'name', 'low', 'high', 'step', 'log'] in suggest_int() have been deprecated since v3.5.0. They will be replaced with the corresponding keyword arguments in v5.0.0, so please use the keyword specification instead. See https://github.com/optuna/optuna/releases/tag/v3.5.0 for details.\n",
      "  'max_depth': trial.suggest_int('max_depth', 1, 20, 1),\n",
      "/var/folders/02/7p49pcn90q5ftb99dns9v18c0000gp/T/ipykernel_80721/4268162343.py:10: FutureWarning: suggest_int() got {'step'} as positional arguments but they were expected to be given as keyword arguments.\n",
      "Positional arguments ['self', 'name', 'low', 'high', 'step', 'log'] in suggest_int() have been deprecated since v3.5.0. They will be replaced with the corresponding keyword arguments in v5.0.0, so please use the keyword specification instead. See https://github.com/optuna/optuna/releases/tag/v3.5.0 for details.\n",
      "  'min_samples_split': trial.suggest_int('min_samples_split', 2, 10, 1),\n",
      "/var/folders/02/7p49pcn90q5ftb99dns9v18c0000gp/T/ipykernel_80721/4268162343.py:11: FutureWarning: suggest_int() got {'step'} as positional arguments but they were expected to be given as keyword arguments.\n",
      "Positional arguments ['self', 'name', 'low', 'high', 'step', 'log'] in suggest_int() have been deprecated since v3.5.0. They will be replaced with the corresponding keyword arguments in v5.0.0, so please use the keyword specification instead. See https://github.com/optuna/optuna/releases/tag/v3.5.0 for details.\n",
      "  'min_samples_leaf': trial.suggest_int('min_samples_leaf', 1, 4, 1),\n",
      "[I 2025-09-16 21:11:00,538] Trial 13 finished with value: 5.281923842463105 and parameters: {'n_estimators': 42, 'max_depth': 8, 'min_samples_split': 4, 'min_samples_leaf': 3}. Best is trial 11 with value: 5.033635769877937.\n"
     ]
    },
    {
     "name": "stdout",
     "output_type": "stream",
     "text": [
      "🏃 View run illustrious-worm-813 at: http://127.0.0.1:5000/#/experiments/2/runs/d522938cc37d446f958c216eabe94ed2\n",
      "🧪 View experiment at: http://127.0.0.1:5000/#/experiments/2\n"
     ]
    },
    {
     "name": "stderr",
     "output_type": "stream",
     "text": [
      "/var/folders/02/7p49pcn90q5ftb99dns9v18c0000gp/T/ipykernel_80721/4268162343.py:8: FutureWarning: suggest_int() got {'step'} as positional arguments but they were expected to be given as keyword arguments.\n",
      "Positional arguments ['self', 'name', 'low', 'high', 'step', 'log'] in suggest_int() have been deprecated since v3.5.0. They will be replaced with the corresponding keyword arguments in v5.0.0, so please use the keyword specification instead. See https://github.com/optuna/optuna/releases/tag/v3.5.0 for details.\n",
      "  'n_estimators': trial.suggest_int('n_estimators', 10, 50, 1),\n",
      "/var/folders/02/7p49pcn90q5ftb99dns9v18c0000gp/T/ipykernel_80721/4268162343.py:9: FutureWarning: suggest_int() got {'step'} as positional arguments but they were expected to be given as keyword arguments.\n",
      "Positional arguments ['self', 'name', 'low', 'high', 'step', 'log'] in suggest_int() have been deprecated since v3.5.0. They will be replaced with the corresponding keyword arguments in v5.0.0, so please use the keyword specification instead. See https://github.com/optuna/optuna/releases/tag/v3.5.0 for details.\n",
      "  'max_depth': trial.suggest_int('max_depth', 1, 20, 1),\n",
      "/var/folders/02/7p49pcn90q5ftb99dns9v18c0000gp/T/ipykernel_80721/4268162343.py:10: FutureWarning: suggest_int() got {'step'} as positional arguments but they were expected to be given as keyword arguments.\n",
      "Positional arguments ['self', 'name', 'low', 'high', 'step', 'log'] in suggest_int() have been deprecated since v3.5.0. They will be replaced with the corresponding keyword arguments in v5.0.0, so please use the keyword specification instead. See https://github.com/optuna/optuna/releases/tag/v3.5.0 for details.\n",
      "  'min_samples_split': trial.suggest_int('min_samples_split', 2, 10, 1),\n",
      "/var/folders/02/7p49pcn90q5ftb99dns9v18c0000gp/T/ipykernel_80721/4268162343.py:11: FutureWarning: suggest_int() got {'step'} as positional arguments but they were expected to be given as keyword arguments.\n",
      "Positional arguments ['self', 'name', 'low', 'high', 'step', 'log'] in suggest_int() have been deprecated since v3.5.0. They will be replaced with the corresponding keyword arguments in v5.0.0, so please use the keyword specification instead. See https://github.com/optuna/optuna/releases/tag/v3.5.0 for details.\n",
      "  'min_samples_leaf': trial.suggest_int('min_samples_leaf', 1, 4, 1),\n",
      "[I 2025-09-16 21:11:00,863] Trial 14 finished with value: 5.033684444059398 and parameters: {'n_estimators': 40, 'max_depth': 15, 'min_samples_split': 2, 'min_samples_leaf': 3}. Best is trial 11 with value: 5.033635769877937.\n"
     ]
    },
    {
     "name": "stdout",
     "output_type": "stream",
     "text": [
      "🏃 View run luminous-moth-155 at: http://127.0.0.1:5000/#/experiments/2/runs/d5eaa15f8a2b4b408cf56f4e776b1a95\n",
      "🧪 View experiment at: http://127.0.0.1:5000/#/experiments/2\n"
     ]
    },
    {
     "name": "stderr",
     "output_type": "stream",
     "text": [
      "/var/folders/02/7p49pcn90q5ftb99dns9v18c0000gp/T/ipykernel_80721/4268162343.py:8: FutureWarning: suggest_int() got {'step'} as positional arguments but they were expected to be given as keyword arguments.\n",
      "Positional arguments ['self', 'name', 'low', 'high', 'step', 'log'] in suggest_int() have been deprecated since v3.5.0. They will be replaced with the corresponding keyword arguments in v5.0.0, so please use the keyword specification instead. See https://github.com/optuna/optuna/releases/tag/v3.5.0 for details.\n",
      "  'n_estimators': trial.suggest_int('n_estimators', 10, 50, 1),\n",
      "/var/folders/02/7p49pcn90q5ftb99dns9v18c0000gp/T/ipykernel_80721/4268162343.py:9: FutureWarning: suggest_int() got {'step'} as positional arguments but they were expected to be given as keyword arguments.\n",
      "Positional arguments ['self', 'name', 'low', 'high', 'step', 'log'] in suggest_int() have been deprecated since v3.5.0. They will be replaced with the corresponding keyword arguments in v5.0.0, so please use the keyword specification instead. See https://github.com/optuna/optuna/releases/tag/v3.5.0 for details.\n",
      "  'max_depth': trial.suggest_int('max_depth', 1, 20, 1),\n",
      "/var/folders/02/7p49pcn90q5ftb99dns9v18c0000gp/T/ipykernel_80721/4268162343.py:10: FutureWarning: suggest_int() got {'step'} as positional arguments but they were expected to be given as keyword arguments.\n",
      "Positional arguments ['self', 'name', 'low', 'high', 'step', 'log'] in suggest_int() have been deprecated since v3.5.0. They will be replaced with the corresponding keyword arguments in v5.0.0, so please use the keyword specification instead. See https://github.com/optuna/optuna/releases/tag/v3.5.0 for details.\n",
      "  'min_samples_split': trial.suggest_int('min_samples_split', 2, 10, 1),\n",
      "/var/folders/02/7p49pcn90q5ftb99dns9v18c0000gp/T/ipykernel_80721/4268162343.py:11: FutureWarning: suggest_int() got {'step'} as positional arguments but they were expected to be given as keyword arguments.\n",
      "Positional arguments ['self', 'name', 'low', 'high', 'step', 'log'] in suggest_int() have been deprecated since v3.5.0. They will be replaced with the corresponding keyword arguments in v5.0.0, so please use the keyword specification instead. See https://github.com/optuna/optuna/releases/tag/v3.5.0 for details.\n",
      "  'min_samples_leaf': trial.suggest_int('min_samples_leaf', 1, 4, 1),\n",
      "[I 2025-09-16 21:11:01,243] Trial 15 finished with value: 5.039452112224247 and parameters: {'n_estimators': 49, 'max_depth': 17, 'min_samples_split': 4, 'min_samples_leaf': 3}. Best is trial 11 with value: 5.033635769877937.\n"
     ]
    },
    {
     "name": "stdout",
     "output_type": "stream",
     "text": [
      "🏃 View run entertaining-ox-737 at: http://127.0.0.1:5000/#/experiments/2/runs/2eb38b7db985414f93feeacf38189bc9\n",
      "🧪 View experiment at: http://127.0.0.1:5000/#/experiments/2\n"
     ]
    },
    {
     "name": "stderr",
     "output_type": "stream",
     "text": [
      "/var/folders/02/7p49pcn90q5ftb99dns9v18c0000gp/T/ipykernel_80721/4268162343.py:8: FutureWarning: suggest_int() got {'step'} as positional arguments but they were expected to be given as keyword arguments.\n",
      "Positional arguments ['self', 'name', 'low', 'high', 'step', 'log'] in suggest_int() have been deprecated since v3.5.0. They will be replaced with the corresponding keyword arguments in v5.0.0, so please use the keyword specification instead. See https://github.com/optuna/optuna/releases/tag/v3.5.0 for details.\n",
      "  'n_estimators': trial.suggest_int('n_estimators', 10, 50, 1),\n",
      "/var/folders/02/7p49pcn90q5ftb99dns9v18c0000gp/T/ipykernel_80721/4268162343.py:9: FutureWarning: suggest_int() got {'step'} as positional arguments but they were expected to be given as keyword arguments.\n",
      "Positional arguments ['self', 'name', 'low', 'high', 'step', 'log'] in suggest_int() have been deprecated since v3.5.0. They will be replaced with the corresponding keyword arguments in v5.0.0, so please use the keyword specification instead. See https://github.com/optuna/optuna/releases/tag/v3.5.0 for details.\n",
      "  'max_depth': trial.suggest_int('max_depth', 1, 20, 1),\n",
      "/var/folders/02/7p49pcn90q5ftb99dns9v18c0000gp/T/ipykernel_80721/4268162343.py:10: FutureWarning: suggest_int() got {'step'} as positional arguments but they were expected to be given as keyword arguments.\n",
      "Positional arguments ['self', 'name', 'low', 'high', 'step', 'log'] in suggest_int() have been deprecated since v3.5.0. They will be replaced with the corresponding keyword arguments in v5.0.0, so please use the keyword specification instead. See https://github.com/optuna/optuna/releases/tag/v3.5.0 for details.\n",
      "  'min_samples_split': trial.suggest_int('min_samples_split', 2, 10, 1),\n",
      "/var/folders/02/7p49pcn90q5ftb99dns9v18c0000gp/T/ipykernel_80721/4268162343.py:11: FutureWarning: suggest_int() got {'step'} as positional arguments but they were expected to be given as keyword arguments.\n",
      "Positional arguments ['self', 'name', 'low', 'high', 'step', 'log'] in suggest_int() have been deprecated since v3.5.0. They will be replaced with the corresponding keyword arguments in v5.0.0, so please use the keyword specification instead. See https://github.com/optuna/optuna/releases/tag/v3.5.0 for details.\n",
      "  'min_samples_leaf': trial.suggest_int('min_samples_leaf', 1, 4, 1),\n",
      "[I 2025-09-16 21:11:01,503] Trial 16 finished with value: 5.041868575174429 and parameters: {'n_estimators': 38, 'max_depth': 13, 'min_samples_split': 3, 'min_samples_leaf': 2}. Best is trial 11 with value: 5.033635769877937.\n"
     ]
    },
    {
     "name": "stdout",
     "output_type": "stream",
     "text": [
      "🏃 View run clean-snipe-643 at: http://127.0.0.1:5000/#/experiments/2/runs/8aff5e1873bb471c8c0b932a2e61f242\n",
      "🧪 View experiment at: http://127.0.0.1:5000/#/experiments/2\n"
     ]
    },
    {
     "name": "stderr",
     "output_type": "stream",
     "text": [
      "/var/folders/02/7p49pcn90q5ftb99dns9v18c0000gp/T/ipykernel_80721/4268162343.py:8: FutureWarning: suggest_int() got {'step'} as positional arguments but they were expected to be given as keyword arguments.\n",
      "Positional arguments ['self', 'name', 'low', 'high', 'step', 'log'] in suggest_int() have been deprecated since v3.5.0. They will be replaced with the corresponding keyword arguments in v5.0.0, so please use the keyword specification instead. See https://github.com/optuna/optuna/releases/tag/v3.5.0 for details.\n",
      "  'n_estimators': trial.suggest_int('n_estimators', 10, 50, 1),\n",
      "/var/folders/02/7p49pcn90q5ftb99dns9v18c0000gp/T/ipykernel_80721/4268162343.py:9: FutureWarning: suggest_int() got {'step'} as positional arguments but they were expected to be given as keyword arguments.\n",
      "Positional arguments ['self', 'name', 'low', 'high', 'step', 'log'] in suggest_int() have been deprecated since v3.5.0. They will be replaced with the corresponding keyword arguments in v5.0.0, so please use the keyword specification instead. See https://github.com/optuna/optuna/releases/tag/v3.5.0 for details.\n",
      "  'max_depth': trial.suggest_int('max_depth', 1, 20, 1),\n",
      "/var/folders/02/7p49pcn90q5ftb99dns9v18c0000gp/T/ipykernel_80721/4268162343.py:10: FutureWarning: suggest_int() got {'step'} as positional arguments but they were expected to be given as keyword arguments.\n",
      "Positional arguments ['self', 'name', 'low', 'high', 'step', 'log'] in suggest_int() have been deprecated since v3.5.0. They will be replaced with the corresponding keyword arguments in v5.0.0, so please use the keyword specification instead. See https://github.com/optuna/optuna/releases/tag/v3.5.0 for details.\n",
      "  'min_samples_split': trial.suggest_int('min_samples_split', 2, 10, 1),\n",
      "/var/folders/02/7p49pcn90q5ftb99dns9v18c0000gp/T/ipykernel_80721/4268162343.py:11: FutureWarning: suggest_int() got {'step'} as positional arguments but they were expected to be given as keyword arguments.\n",
      "Positional arguments ['self', 'name', 'low', 'high', 'step', 'log'] in suggest_int() have been deprecated since v3.5.0. They will be replaced with the corresponding keyword arguments in v5.0.0, so please use the keyword specification instead. See https://github.com/optuna/optuna/releases/tag/v3.5.0 for details.\n",
      "  'min_samples_leaf': trial.suggest_int('min_samples_leaf', 1, 4, 1),\n",
      "[I 2025-09-16 21:11:01,734] Trial 17 finished with value: 5.205312767332672 and parameters: {'n_estimators': 44, 'max_depth': 9, 'min_samples_split': 5, 'min_samples_leaf': 3}. Best is trial 11 with value: 5.033635769877937.\n"
     ]
    },
    {
     "name": "stdout",
     "output_type": "stream",
     "text": [
      "🏃 View run unique-newt-660 at: http://127.0.0.1:5000/#/experiments/2/runs/e51f45117dda422e91115720a97d961b\n",
      "🧪 View experiment at: http://127.0.0.1:5000/#/experiments/2\n"
     ]
    },
    {
     "name": "stderr",
     "output_type": "stream",
     "text": [
      "/var/folders/02/7p49pcn90q5ftb99dns9v18c0000gp/T/ipykernel_80721/4268162343.py:8: FutureWarning: suggest_int() got {'step'} as positional arguments but they were expected to be given as keyword arguments.\n",
      "Positional arguments ['self', 'name', 'low', 'high', 'step', 'log'] in suggest_int() have been deprecated since v3.5.0. They will be replaced with the corresponding keyword arguments in v5.0.0, so please use the keyword specification instead. See https://github.com/optuna/optuna/releases/tag/v3.5.0 for details.\n",
      "  'n_estimators': trial.suggest_int('n_estimators', 10, 50, 1),\n",
      "/var/folders/02/7p49pcn90q5ftb99dns9v18c0000gp/T/ipykernel_80721/4268162343.py:9: FutureWarning: suggest_int() got {'step'} as positional arguments but they were expected to be given as keyword arguments.\n",
      "Positional arguments ['self', 'name', 'low', 'high', 'step', 'log'] in suggest_int() have been deprecated since v3.5.0. They will be replaced with the corresponding keyword arguments in v5.0.0, so please use the keyword specification instead. See https://github.com/optuna/optuna/releases/tag/v3.5.0 for details.\n",
      "  'max_depth': trial.suggest_int('max_depth', 1, 20, 1),\n",
      "/var/folders/02/7p49pcn90q5ftb99dns9v18c0000gp/T/ipykernel_80721/4268162343.py:10: FutureWarning: suggest_int() got {'step'} as positional arguments but they were expected to be given as keyword arguments.\n",
      "Positional arguments ['self', 'name', 'low', 'high', 'step', 'log'] in suggest_int() have been deprecated since v3.5.0. They will be replaced with the corresponding keyword arguments in v5.0.0, so please use the keyword specification instead. See https://github.com/optuna/optuna/releases/tag/v3.5.0 for details.\n",
      "  'min_samples_split': trial.suggest_int('min_samples_split', 2, 10, 1),\n",
      "/var/folders/02/7p49pcn90q5ftb99dns9v18c0000gp/T/ipykernel_80721/4268162343.py:11: FutureWarning: suggest_int() got {'step'} as positional arguments but they were expected to be given as keyword arguments.\n",
      "Positional arguments ['self', 'name', 'low', 'high', 'step', 'log'] in suggest_int() have been deprecated since v3.5.0. They will be replaced with the corresponding keyword arguments in v5.0.0, so please use the keyword specification instead. See https://github.com/optuna/optuna/releases/tag/v3.5.0 for details.\n",
      "  'min_samples_leaf': trial.suggest_int('min_samples_leaf', 1, 4, 1),\n",
      "[I 2025-09-16 21:11:01,976] Trial 18 finished with value: 5.043466565118822 and parameters: {'n_estimators': 30, 'max_depth': 18, 'min_samples_split': 10, 'min_samples_leaf': 2}. Best is trial 11 with value: 5.033635769877937.\n"
     ]
    },
    {
     "name": "stdout",
     "output_type": "stream",
     "text": [
      "🏃 View run carefree-horse-167 at: http://127.0.0.1:5000/#/experiments/2/runs/b4041f1e93824c1da1fa327684580477\n",
      "🧪 View experiment at: http://127.0.0.1:5000/#/experiments/2\n"
     ]
    },
    {
     "name": "stderr",
     "output_type": "stream",
     "text": [
      "/var/folders/02/7p49pcn90q5ftb99dns9v18c0000gp/T/ipykernel_80721/4268162343.py:8: FutureWarning: suggest_int() got {'step'} as positional arguments but they were expected to be given as keyword arguments.\n",
      "Positional arguments ['self', 'name', 'low', 'high', 'step', 'log'] in suggest_int() have been deprecated since v3.5.0. They will be replaced with the corresponding keyword arguments in v5.0.0, so please use the keyword specification instead. See https://github.com/optuna/optuna/releases/tag/v3.5.0 for details.\n",
      "  'n_estimators': trial.suggest_int('n_estimators', 10, 50, 1),\n",
      "/var/folders/02/7p49pcn90q5ftb99dns9v18c0000gp/T/ipykernel_80721/4268162343.py:9: FutureWarning: suggest_int() got {'step'} as positional arguments but they were expected to be given as keyword arguments.\n",
      "Positional arguments ['self', 'name', 'low', 'high', 'step', 'log'] in suggest_int() have been deprecated since v3.5.0. They will be replaced with the corresponding keyword arguments in v5.0.0, so please use the keyword specification instead. See https://github.com/optuna/optuna/releases/tag/v3.5.0 for details.\n",
      "  'max_depth': trial.suggest_int('max_depth', 1, 20, 1),\n",
      "/var/folders/02/7p49pcn90q5ftb99dns9v18c0000gp/T/ipykernel_80721/4268162343.py:10: FutureWarning: suggest_int() got {'step'} as positional arguments but they were expected to be given as keyword arguments.\n",
      "Positional arguments ['self', 'name', 'low', 'high', 'step', 'log'] in suggest_int() have been deprecated since v3.5.0. They will be replaced with the corresponding keyword arguments in v5.0.0, so please use the keyword specification instead. See https://github.com/optuna/optuna/releases/tag/v3.5.0 for details.\n",
      "  'min_samples_split': trial.suggest_int('min_samples_split', 2, 10, 1),\n",
      "/var/folders/02/7p49pcn90q5ftb99dns9v18c0000gp/T/ipykernel_80721/4268162343.py:11: FutureWarning: suggest_int() got {'step'} as positional arguments but they were expected to be given as keyword arguments.\n",
      "Positional arguments ['self', 'name', 'low', 'high', 'step', 'log'] in suggest_int() have been deprecated since v3.5.0. They will be replaced with the corresponding keyword arguments in v5.0.0, so please use the keyword specification instead. See https://github.com/optuna/optuna/releases/tag/v3.5.0 for details.\n",
      "  'min_samples_leaf': trial.suggest_int('min_samples_leaf', 1, 4, 1),\n",
      "[I 2025-09-16 21:11:02,222] Trial 19 finished with value: 5.044615244765136 and parameters: {'n_estimators': 37, 'max_depth': 13, 'min_samples_split': 2, 'min_samples_leaf': 4}. Best is trial 11 with value: 5.033635769877937.\n"
     ]
    },
    {
     "name": "stdout",
     "output_type": "stream",
     "text": [
      "🏃 View run agreeable-sow-851 at: http://127.0.0.1:5000/#/experiments/2/runs/88f2d0bc282444c38d2104ca9dff4fde\n",
      "🧪 View experiment at: http://127.0.0.1:5000/#/experiments/2\n"
     ]
    },
    {
     "name": "stderr",
     "output_type": "stream",
     "text": [
      "/var/folders/02/7p49pcn90q5ftb99dns9v18c0000gp/T/ipykernel_80721/4268162343.py:8: FutureWarning: suggest_int() got {'step'} as positional arguments but they were expected to be given as keyword arguments.\n",
      "Positional arguments ['self', 'name', 'low', 'high', 'step', 'log'] in suggest_int() have been deprecated since v3.5.0. They will be replaced with the corresponding keyword arguments in v5.0.0, so please use the keyword specification instead. See https://github.com/optuna/optuna/releases/tag/v3.5.0 for details.\n",
      "  'n_estimators': trial.suggest_int('n_estimators', 10, 50, 1),\n",
      "/var/folders/02/7p49pcn90q5ftb99dns9v18c0000gp/T/ipykernel_80721/4268162343.py:9: FutureWarning: suggest_int() got {'step'} as positional arguments but they were expected to be given as keyword arguments.\n",
      "Positional arguments ['self', 'name', 'low', 'high', 'step', 'log'] in suggest_int() have been deprecated since v3.5.0. They will be replaced with the corresponding keyword arguments in v5.0.0, so please use the keyword specification instead. See https://github.com/optuna/optuna/releases/tag/v3.5.0 for details.\n",
      "  'max_depth': trial.suggest_int('max_depth', 1, 20, 1),\n",
      "/var/folders/02/7p49pcn90q5ftb99dns9v18c0000gp/T/ipykernel_80721/4268162343.py:10: FutureWarning: suggest_int() got {'step'} as positional arguments but they were expected to be given as keyword arguments.\n",
      "Positional arguments ['self', 'name', 'low', 'high', 'step', 'log'] in suggest_int() have been deprecated since v3.5.0. They will be replaced with the corresponding keyword arguments in v5.0.0, so please use the keyword specification instead. See https://github.com/optuna/optuna/releases/tag/v3.5.0 for details.\n",
      "  'min_samples_split': trial.suggest_int('min_samples_split', 2, 10, 1),\n",
      "/var/folders/02/7p49pcn90q5ftb99dns9v18c0000gp/T/ipykernel_80721/4268162343.py:11: FutureWarning: suggest_int() got {'step'} as positional arguments but they were expected to be given as keyword arguments.\n",
      "Positional arguments ['self', 'name', 'low', 'high', 'step', 'log'] in suggest_int() have been deprecated since v3.5.0. They will be replaced with the corresponding keyword arguments in v5.0.0, so please use the keyword specification instead. See https://github.com/optuna/optuna/releases/tag/v3.5.0 for details.\n",
      "  'min_samples_leaf': trial.suggest_int('min_samples_leaf', 1, 4, 1),\n",
      "[I 2025-09-16 21:11:02,454] Trial 20 finished with value: 5.361083070887944 and parameters: {'n_estimators': 46, 'max_depth': 7, 'min_samples_split': 5, 'min_samples_leaf': 3}. Best is trial 11 with value: 5.033635769877937.\n"
     ]
    },
    {
     "name": "stdout",
     "output_type": "stream",
     "text": [
      "🏃 View run trusting-zebra-521 at: http://127.0.0.1:5000/#/experiments/2/runs/824f205530da4250bf70416cbe615ab8\n",
      "🧪 View experiment at: http://127.0.0.1:5000/#/experiments/2\n"
     ]
    },
    {
     "name": "stderr",
     "output_type": "stream",
     "text": [
      "/var/folders/02/7p49pcn90q5ftb99dns9v18c0000gp/T/ipykernel_80721/4268162343.py:8: FutureWarning: suggest_int() got {'step'} as positional arguments but they were expected to be given as keyword arguments.\n",
      "Positional arguments ['self', 'name', 'low', 'high', 'step', 'log'] in suggest_int() have been deprecated since v3.5.0. They will be replaced with the corresponding keyword arguments in v5.0.0, so please use the keyword specification instead. See https://github.com/optuna/optuna/releases/tag/v3.5.0 for details.\n",
      "  'n_estimators': trial.suggest_int('n_estimators', 10, 50, 1),\n",
      "/var/folders/02/7p49pcn90q5ftb99dns9v18c0000gp/T/ipykernel_80721/4268162343.py:9: FutureWarning: suggest_int() got {'step'} as positional arguments but they were expected to be given as keyword arguments.\n",
      "Positional arguments ['self', 'name', 'low', 'high', 'step', 'log'] in suggest_int() have been deprecated since v3.5.0. They will be replaced with the corresponding keyword arguments in v5.0.0, so please use the keyword specification instead. See https://github.com/optuna/optuna/releases/tag/v3.5.0 for details.\n",
      "  'max_depth': trial.suggest_int('max_depth', 1, 20, 1),\n",
      "/var/folders/02/7p49pcn90q5ftb99dns9v18c0000gp/T/ipykernel_80721/4268162343.py:10: FutureWarning: suggest_int() got {'step'} as positional arguments but they were expected to be given as keyword arguments.\n",
      "Positional arguments ['self', 'name', 'low', 'high', 'step', 'log'] in suggest_int() have been deprecated since v3.5.0. They will be replaced with the corresponding keyword arguments in v5.0.0, so please use the keyword specification instead. See https://github.com/optuna/optuna/releases/tag/v3.5.0 for details.\n",
      "  'min_samples_split': trial.suggest_int('min_samples_split', 2, 10, 1),\n",
      "/var/folders/02/7p49pcn90q5ftb99dns9v18c0000gp/T/ipykernel_80721/4268162343.py:11: FutureWarning: suggest_int() got {'step'} as positional arguments but they were expected to be given as keyword arguments.\n",
      "Positional arguments ['self', 'name', 'low', 'high', 'step', 'log'] in suggest_int() have been deprecated since v3.5.0. They will be replaced with the corresponding keyword arguments in v5.0.0, so please use the keyword specification instead. See https://github.com/optuna/optuna/releases/tag/v3.5.0 for details.\n",
      "  'min_samples_leaf': trial.suggest_int('min_samples_leaf', 1, 4, 1),\n",
      "[I 2025-09-16 21:11:02,767] Trial 21 finished with value: 5.033684444059398 and parameters: {'n_estimators': 40, 'max_depth': 15, 'min_samples_split': 2, 'min_samples_leaf': 3}. Best is trial 11 with value: 5.033635769877937.\n"
     ]
    },
    {
     "name": "stdout",
     "output_type": "stream",
     "text": [
      "🏃 View run grandiose-donkey-395 at: http://127.0.0.1:5000/#/experiments/2/runs/3a5c37ce0cca4c64a2e7c8b1c8befd61\n",
      "🧪 View experiment at: http://127.0.0.1:5000/#/experiments/2\n"
     ]
    },
    {
     "name": "stderr",
     "output_type": "stream",
     "text": [
      "/var/folders/02/7p49pcn90q5ftb99dns9v18c0000gp/T/ipykernel_80721/4268162343.py:8: FutureWarning: suggest_int() got {'step'} as positional arguments but they were expected to be given as keyword arguments.\n",
      "Positional arguments ['self', 'name', 'low', 'high', 'step', 'log'] in suggest_int() have been deprecated since v3.5.0. They will be replaced with the corresponding keyword arguments in v5.0.0, so please use the keyword specification instead. See https://github.com/optuna/optuna/releases/tag/v3.5.0 for details.\n",
      "  'n_estimators': trial.suggest_int('n_estimators', 10, 50, 1),\n",
      "/var/folders/02/7p49pcn90q5ftb99dns9v18c0000gp/T/ipykernel_80721/4268162343.py:9: FutureWarning: suggest_int() got {'step'} as positional arguments but they were expected to be given as keyword arguments.\n",
      "Positional arguments ['self', 'name', 'low', 'high', 'step', 'log'] in suggest_int() have been deprecated since v3.5.0. They will be replaced with the corresponding keyword arguments in v5.0.0, so please use the keyword specification instead. See https://github.com/optuna/optuna/releases/tag/v3.5.0 for details.\n",
      "  'max_depth': trial.suggest_int('max_depth', 1, 20, 1),\n",
      "/var/folders/02/7p49pcn90q5ftb99dns9v18c0000gp/T/ipykernel_80721/4268162343.py:10: FutureWarning: suggest_int() got {'step'} as positional arguments but they were expected to be given as keyword arguments.\n",
      "Positional arguments ['self', 'name', 'low', 'high', 'step', 'log'] in suggest_int() have been deprecated since v3.5.0. They will be replaced with the corresponding keyword arguments in v5.0.0, so please use the keyword specification instead. See https://github.com/optuna/optuna/releases/tag/v3.5.0 for details.\n",
      "  'min_samples_split': trial.suggest_int('min_samples_split', 2, 10, 1),\n",
      "/var/folders/02/7p49pcn90q5ftb99dns9v18c0000gp/T/ipykernel_80721/4268162343.py:11: FutureWarning: suggest_int() got {'step'} as positional arguments but they were expected to be given as keyword arguments.\n",
      "Positional arguments ['self', 'name', 'low', 'high', 'step', 'log'] in suggest_int() have been deprecated since v3.5.0. They will be replaced with the corresponding keyword arguments in v5.0.0, so please use the keyword specification instead. See https://github.com/optuna/optuna/releases/tag/v3.5.0 for details.\n",
      "  'min_samples_leaf': trial.suggest_int('min_samples_leaf', 1, 4, 1),\n",
      "[I 2025-09-16 21:11:03,030] Trial 22 finished with value: 5.035135890573541 and parameters: {'n_estimators': 40, 'max_depth': 14, 'min_samples_split': 3, 'min_samples_leaf': 3}. Best is trial 11 with value: 5.033635769877937.\n"
     ]
    },
    {
     "name": "stdout",
     "output_type": "stream",
     "text": [
      "🏃 View run sedate-zebra-735 at: http://127.0.0.1:5000/#/experiments/2/runs/72656ab4d89c47f2a26e058feb9b951a\n",
      "🧪 View experiment at: http://127.0.0.1:5000/#/experiments/2\n"
     ]
    },
    {
     "name": "stderr",
     "output_type": "stream",
     "text": [
      "/var/folders/02/7p49pcn90q5ftb99dns9v18c0000gp/T/ipykernel_80721/4268162343.py:8: FutureWarning: suggest_int() got {'step'} as positional arguments but they were expected to be given as keyword arguments.\n",
      "Positional arguments ['self', 'name', 'low', 'high', 'step', 'log'] in suggest_int() have been deprecated since v3.5.0. They will be replaced with the corresponding keyword arguments in v5.0.0, so please use the keyword specification instead. See https://github.com/optuna/optuna/releases/tag/v3.5.0 for details.\n",
      "  'n_estimators': trial.suggest_int('n_estimators', 10, 50, 1),\n",
      "/var/folders/02/7p49pcn90q5ftb99dns9v18c0000gp/T/ipykernel_80721/4268162343.py:9: FutureWarning: suggest_int() got {'step'} as positional arguments but they were expected to be given as keyword arguments.\n",
      "Positional arguments ['self', 'name', 'low', 'high', 'step', 'log'] in suggest_int() have been deprecated since v3.5.0. They will be replaced with the corresponding keyword arguments in v5.0.0, so please use the keyword specification instead. See https://github.com/optuna/optuna/releases/tag/v3.5.0 for details.\n",
      "  'max_depth': trial.suggest_int('max_depth', 1, 20, 1),\n",
      "/var/folders/02/7p49pcn90q5ftb99dns9v18c0000gp/T/ipykernel_80721/4268162343.py:10: FutureWarning: suggest_int() got {'step'} as positional arguments but they were expected to be given as keyword arguments.\n",
      "Positional arguments ['self', 'name', 'low', 'high', 'step', 'log'] in suggest_int() have been deprecated since v3.5.0. They will be replaced with the corresponding keyword arguments in v5.0.0, so please use the keyword specification instead. See https://github.com/optuna/optuna/releases/tag/v3.5.0 for details.\n",
      "  'min_samples_split': trial.suggest_int('min_samples_split', 2, 10, 1),\n",
      "/var/folders/02/7p49pcn90q5ftb99dns9v18c0000gp/T/ipykernel_80721/4268162343.py:11: FutureWarning: suggest_int() got {'step'} as positional arguments but they were expected to be given as keyword arguments.\n",
      "Positional arguments ['self', 'name', 'low', 'high', 'step', 'log'] in suggest_int() have been deprecated since v3.5.0. They will be replaced with the corresponding keyword arguments in v5.0.0, so please use the keyword specification instead. See https://github.com/optuna/optuna/releases/tag/v3.5.0 for details.\n",
      "  'min_samples_leaf': trial.suggest_int('min_samples_leaf', 1, 4, 1),\n",
      "[I 2025-09-16 21:11:03,279] Trial 23 finished with value: 5.046682247166786 and parameters: {'n_estimators': 33, 'max_depth': 17, 'min_samples_split': 2, 'min_samples_leaf': 3}. Best is trial 11 with value: 5.033635769877937.\n"
     ]
    },
    {
     "name": "stdout",
     "output_type": "stream",
     "text": [
      "🏃 View run funny-bug-454 at: http://127.0.0.1:5000/#/experiments/2/runs/0dd5d7f1ba534d07bbbaa7952bd35639\n",
      "🧪 View experiment at: http://127.0.0.1:5000/#/experiments/2\n"
     ]
    },
    {
     "name": "stderr",
     "output_type": "stream",
     "text": [
      "/var/folders/02/7p49pcn90q5ftb99dns9v18c0000gp/T/ipykernel_80721/4268162343.py:8: FutureWarning: suggest_int() got {'step'} as positional arguments but they were expected to be given as keyword arguments.\n",
      "Positional arguments ['self', 'name', 'low', 'high', 'step', 'log'] in suggest_int() have been deprecated since v3.5.0. They will be replaced with the corresponding keyword arguments in v5.0.0, so please use the keyword specification instead. See https://github.com/optuna/optuna/releases/tag/v3.5.0 for details.\n",
      "  'n_estimators': trial.suggest_int('n_estimators', 10, 50, 1),\n",
      "/var/folders/02/7p49pcn90q5ftb99dns9v18c0000gp/T/ipykernel_80721/4268162343.py:9: FutureWarning: suggest_int() got {'step'} as positional arguments but they were expected to be given as keyword arguments.\n",
      "Positional arguments ['self', 'name', 'low', 'high', 'step', 'log'] in suggest_int() have been deprecated since v3.5.0. They will be replaced with the corresponding keyword arguments in v5.0.0, so please use the keyword specification instead. See https://github.com/optuna/optuna/releases/tag/v3.5.0 for details.\n",
      "  'max_depth': trial.suggest_int('max_depth', 1, 20, 1),\n",
      "/var/folders/02/7p49pcn90q5ftb99dns9v18c0000gp/T/ipykernel_80721/4268162343.py:10: FutureWarning: suggest_int() got {'step'} as positional arguments but they were expected to be given as keyword arguments.\n",
      "Positional arguments ['self', 'name', 'low', 'high', 'step', 'log'] in suggest_int() have been deprecated since v3.5.0. They will be replaced with the corresponding keyword arguments in v5.0.0, so please use the keyword specification instead. See https://github.com/optuna/optuna/releases/tag/v3.5.0 for details.\n",
      "  'min_samples_split': trial.suggest_int('min_samples_split', 2, 10, 1),\n",
      "/var/folders/02/7p49pcn90q5ftb99dns9v18c0000gp/T/ipykernel_80721/4268162343.py:11: FutureWarning: suggest_int() got {'step'} as positional arguments but they were expected to be given as keyword arguments.\n",
      "Positional arguments ['self', 'name', 'low', 'high', 'step', 'log'] in suggest_int() have been deprecated since v3.5.0. They will be replaced with the corresponding keyword arguments in v5.0.0, so please use the keyword specification instead. See https://github.com/optuna/optuna/releases/tag/v3.5.0 for details.\n",
      "  'min_samples_leaf': trial.suggest_int('min_samples_leaf', 1, 4, 1),\n",
      "[I 2025-09-16 21:11:03,501] Trial 24 finished with value: 5.145575154183365 and parameters: {'n_estimators': 38, 'max_depth': 10, 'min_samples_split': 3, 'min_samples_leaf': 2}. Best is trial 11 with value: 5.033635769877937.\n"
     ]
    },
    {
     "name": "stdout",
     "output_type": "stream",
     "text": [
      "🏃 View run overjoyed-hare-757 at: http://127.0.0.1:5000/#/experiments/2/runs/68c09a9785b74984bcdfcb39dab2c128\n",
      "🧪 View experiment at: http://127.0.0.1:5000/#/experiments/2\n"
     ]
    },
    {
     "name": "stderr",
     "output_type": "stream",
     "text": [
      "/var/folders/02/7p49pcn90q5ftb99dns9v18c0000gp/T/ipykernel_80721/4268162343.py:8: FutureWarning: suggest_int() got {'step'} as positional arguments but they were expected to be given as keyword arguments.\n",
      "Positional arguments ['self', 'name', 'low', 'high', 'step', 'log'] in suggest_int() have been deprecated since v3.5.0. They will be replaced with the corresponding keyword arguments in v5.0.0, so please use the keyword specification instead. See https://github.com/optuna/optuna/releases/tag/v3.5.0 for details.\n",
      "  'n_estimators': trial.suggest_int('n_estimators', 10, 50, 1),\n",
      "/var/folders/02/7p49pcn90q5ftb99dns9v18c0000gp/T/ipykernel_80721/4268162343.py:9: FutureWarning: suggest_int() got {'step'} as positional arguments but they were expected to be given as keyword arguments.\n",
      "Positional arguments ['self', 'name', 'low', 'high', 'step', 'log'] in suggest_int() have been deprecated since v3.5.0. They will be replaced with the corresponding keyword arguments in v5.0.0, so please use the keyword specification instead. See https://github.com/optuna/optuna/releases/tag/v3.5.0 for details.\n",
      "  'max_depth': trial.suggest_int('max_depth', 1, 20, 1),\n",
      "/var/folders/02/7p49pcn90q5ftb99dns9v18c0000gp/T/ipykernel_80721/4268162343.py:10: FutureWarning: suggest_int() got {'step'} as positional arguments but they were expected to be given as keyword arguments.\n",
      "Positional arguments ['self', 'name', 'low', 'high', 'step', 'log'] in suggest_int() have been deprecated since v3.5.0. They will be replaced with the corresponding keyword arguments in v5.0.0, so please use the keyword specification instead. See https://github.com/optuna/optuna/releases/tag/v3.5.0 for details.\n",
      "  'min_samples_split': trial.suggest_int('min_samples_split', 2, 10, 1),\n",
      "/var/folders/02/7p49pcn90q5ftb99dns9v18c0000gp/T/ipykernel_80721/4268162343.py:11: FutureWarning: suggest_int() got {'step'} as positional arguments but they were expected to be given as keyword arguments.\n",
      "Positional arguments ['self', 'name', 'low', 'high', 'step', 'log'] in suggest_int() have been deprecated since v3.5.0. They will be replaced with the corresponding keyword arguments in v5.0.0, so please use the keyword specification instead. See https://github.com/optuna/optuna/releases/tag/v3.5.0 for details.\n",
      "  'min_samples_leaf': trial.suggest_int('min_samples_leaf', 1, 4, 1),\n",
      "[I 2025-09-16 21:11:03,814] Trial 25 finished with value: 5.031991632644575 and parameters: {'n_estimators': 46, 'max_depth': 15, 'min_samples_split': 4, 'min_samples_leaf': 3}. Best is trial 25 with value: 5.031991632644575.\n"
     ]
    },
    {
     "name": "stdout",
     "output_type": "stream",
     "text": [
      "🏃 View run masked-pig-718 at: http://127.0.0.1:5000/#/experiments/2/runs/3586bfc368de4d9c9de7826628f61b97\n",
      "🧪 View experiment at: http://127.0.0.1:5000/#/experiments/2\n"
     ]
    },
    {
     "name": "stderr",
     "output_type": "stream",
     "text": [
      "/var/folders/02/7p49pcn90q5ftb99dns9v18c0000gp/T/ipykernel_80721/4268162343.py:8: FutureWarning: suggest_int() got {'step'} as positional arguments but they were expected to be given as keyword arguments.\n",
      "Positional arguments ['self', 'name', 'low', 'high', 'step', 'log'] in suggest_int() have been deprecated since v3.5.0. They will be replaced with the corresponding keyword arguments in v5.0.0, so please use the keyword specification instead. See https://github.com/optuna/optuna/releases/tag/v3.5.0 for details.\n",
      "  'n_estimators': trial.suggest_int('n_estimators', 10, 50, 1),\n",
      "/var/folders/02/7p49pcn90q5ftb99dns9v18c0000gp/T/ipykernel_80721/4268162343.py:9: FutureWarning: suggest_int() got {'step'} as positional arguments but they were expected to be given as keyword arguments.\n",
      "Positional arguments ['self', 'name', 'low', 'high', 'step', 'log'] in suggest_int() have been deprecated since v3.5.0. They will be replaced with the corresponding keyword arguments in v5.0.0, so please use the keyword specification instead. See https://github.com/optuna/optuna/releases/tag/v3.5.0 for details.\n",
      "  'max_depth': trial.suggest_int('max_depth', 1, 20, 1),\n",
      "/var/folders/02/7p49pcn90q5ftb99dns9v18c0000gp/T/ipykernel_80721/4268162343.py:10: FutureWarning: suggest_int() got {'step'} as positional arguments but they were expected to be given as keyword arguments.\n",
      "Positional arguments ['self', 'name', 'low', 'high', 'step', 'log'] in suggest_int() have been deprecated since v3.5.0. They will be replaced with the corresponding keyword arguments in v5.0.0, so please use the keyword specification instead. See https://github.com/optuna/optuna/releases/tag/v3.5.0 for details.\n",
      "  'min_samples_split': trial.suggest_int('min_samples_split', 2, 10, 1),\n",
      "/var/folders/02/7p49pcn90q5ftb99dns9v18c0000gp/T/ipykernel_80721/4268162343.py:11: FutureWarning: suggest_int() got {'step'} as positional arguments but they were expected to be given as keyword arguments.\n",
      "Positional arguments ['self', 'name', 'low', 'high', 'step', 'log'] in suggest_int() have been deprecated since v3.5.0. They will be replaced with the corresponding keyword arguments in v5.0.0, so please use the keyword specification instead. See https://github.com/optuna/optuna/releases/tag/v3.5.0 for details.\n",
      "  'min_samples_leaf': trial.suggest_int('min_samples_leaf', 1, 4, 1),\n",
      "[I 2025-09-16 21:11:04,090] Trial 26 finished with value: 5.064588597181657 and parameters: {'n_estimators': 46, 'max_depth': 12, 'min_samples_split': 4, 'min_samples_leaf': 4}. Best is trial 25 with value: 5.031991632644575.\n"
     ]
    },
    {
     "name": "stdout",
     "output_type": "stream",
     "text": [
      "🏃 View run useful-mouse-425 at: http://127.0.0.1:5000/#/experiments/2/runs/4be29559203e49ac97621379569a160e\n",
      "🧪 View experiment at: http://127.0.0.1:5000/#/experiments/2\n"
     ]
    },
    {
     "name": "stderr",
     "output_type": "stream",
     "text": [
      "/var/folders/02/7p49pcn90q5ftb99dns9v18c0000gp/T/ipykernel_80721/4268162343.py:8: FutureWarning: suggest_int() got {'step'} as positional arguments but they were expected to be given as keyword arguments.\n",
      "Positional arguments ['self', 'name', 'low', 'high', 'step', 'log'] in suggest_int() have been deprecated since v3.5.0. They will be replaced with the corresponding keyword arguments in v5.0.0, so please use the keyword specification instead. See https://github.com/optuna/optuna/releases/tag/v3.5.0 for details.\n",
      "  'n_estimators': trial.suggest_int('n_estimators', 10, 50, 1),\n",
      "/var/folders/02/7p49pcn90q5ftb99dns9v18c0000gp/T/ipykernel_80721/4268162343.py:9: FutureWarning: suggest_int() got {'step'} as positional arguments but they were expected to be given as keyword arguments.\n",
      "Positional arguments ['self', 'name', 'low', 'high', 'step', 'log'] in suggest_int() have been deprecated since v3.5.0. They will be replaced with the corresponding keyword arguments in v5.0.0, so please use the keyword specification instead. See https://github.com/optuna/optuna/releases/tag/v3.5.0 for details.\n",
      "  'max_depth': trial.suggest_int('max_depth', 1, 20, 1),\n",
      "/var/folders/02/7p49pcn90q5ftb99dns9v18c0000gp/T/ipykernel_80721/4268162343.py:10: FutureWarning: suggest_int() got {'step'} as positional arguments but they were expected to be given as keyword arguments.\n",
      "Positional arguments ['self', 'name', 'low', 'high', 'step', 'log'] in suggest_int() have been deprecated since v3.5.0. They will be replaced with the corresponding keyword arguments in v5.0.0, so please use the keyword specification instead. See https://github.com/optuna/optuna/releases/tag/v3.5.0 for details.\n",
      "  'min_samples_split': trial.suggest_int('min_samples_split', 2, 10, 1),\n",
      "/var/folders/02/7p49pcn90q5ftb99dns9v18c0000gp/T/ipykernel_80721/4268162343.py:11: FutureWarning: suggest_int() got {'step'} as positional arguments but they were expected to be given as keyword arguments.\n",
      "Positional arguments ['self', 'name', 'low', 'high', 'step', 'log'] in suggest_int() have been deprecated since v3.5.0. They will be replaced with the corresponding keyword arguments in v5.0.0, so please use the keyword specification instead. See https://github.com/optuna/optuna/releases/tag/v3.5.0 for details.\n",
      "  'min_samples_leaf': trial.suggest_int('min_samples_leaf', 1, 4, 1),\n",
      "[I 2025-09-16 21:11:04,447] Trial 27 finished with value: 5.0391328289376 and parameters: {'n_estimators': 50, 'max_depth': 17, 'min_samples_split': 6, 'min_samples_leaf': 3}. Best is trial 25 with value: 5.031991632644575.\n"
     ]
    },
    {
     "name": "stdout",
     "output_type": "stream",
     "text": [
      "🏃 View run auspicious-bass-838 at: http://127.0.0.1:5000/#/experiments/2/runs/c818b28eceb6471680e66acb8643828f\n",
      "🧪 View experiment at: http://127.0.0.1:5000/#/experiments/2\n"
     ]
    },
    {
     "name": "stderr",
     "output_type": "stream",
     "text": [
      "/var/folders/02/7p49pcn90q5ftb99dns9v18c0000gp/T/ipykernel_80721/4268162343.py:8: FutureWarning: suggest_int() got {'step'} as positional arguments but they were expected to be given as keyword arguments.\n",
      "Positional arguments ['self', 'name', 'low', 'high', 'step', 'log'] in suggest_int() have been deprecated since v3.5.0. They will be replaced with the corresponding keyword arguments in v5.0.0, so please use the keyword specification instead. See https://github.com/optuna/optuna/releases/tag/v3.5.0 for details.\n",
      "  'n_estimators': trial.suggest_int('n_estimators', 10, 50, 1),\n",
      "/var/folders/02/7p49pcn90q5ftb99dns9v18c0000gp/T/ipykernel_80721/4268162343.py:9: FutureWarning: suggest_int() got {'step'} as positional arguments but they were expected to be given as keyword arguments.\n",
      "Positional arguments ['self', 'name', 'low', 'high', 'step', 'log'] in suggest_int() have been deprecated since v3.5.0. They will be replaced with the corresponding keyword arguments in v5.0.0, so please use the keyword specification instead. See https://github.com/optuna/optuna/releases/tag/v3.5.0 for details.\n",
      "  'max_depth': trial.suggest_int('max_depth', 1, 20, 1),\n",
      "/var/folders/02/7p49pcn90q5ftb99dns9v18c0000gp/T/ipykernel_80721/4268162343.py:10: FutureWarning: suggest_int() got {'step'} as positional arguments but they were expected to be given as keyword arguments.\n",
      "Positional arguments ['self', 'name', 'low', 'high', 'step', 'log'] in suggest_int() have been deprecated since v3.5.0. They will be replaced with the corresponding keyword arguments in v5.0.0, so please use the keyword specification instead. See https://github.com/optuna/optuna/releases/tag/v3.5.0 for details.\n",
      "  'min_samples_split': trial.suggest_int('min_samples_split', 2, 10, 1),\n",
      "/var/folders/02/7p49pcn90q5ftb99dns9v18c0000gp/T/ipykernel_80721/4268162343.py:11: FutureWarning: suggest_int() got {'step'} as positional arguments but they were expected to be given as keyword arguments.\n",
      "Positional arguments ['self', 'name', 'low', 'high', 'step', 'log'] in suggest_int() have been deprecated since v3.5.0. They will be replaced with the corresponding keyword arguments in v5.0.0, so please use the keyword specification instead. See https://github.com/optuna/optuna/releases/tag/v3.5.0 for details.\n",
      "  'min_samples_leaf': trial.suggest_int('min_samples_leaf', 1, 4, 1),\n",
      "[I 2025-09-16 21:11:04,816] Trial 28 finished with value: 5.087094087804545 and parameters: {'n_estimators': 46, 'max_depth': 20, 'min_samples_split': 3, 'min_samples_leaf': 2}. Best is trial 25 with value: 5.031991632644575.\n"
     ]
    },
    {
     "name": "stdout",
     "output_type": "stream",
     "text": [
      "🏃 View run unique-hog-112 at: http://127.0.0.1:5000/#/experiments/2/runs/dd38708f1c214c4e908aaac326738178\n",
      "🧪 View experiment at: http://127.0.0.1:5000/#/experiments/2\n"
     ]
    },
    {
     "name": "stderr",
     "output_type": "stream",
     "text": [
      "/var/folders/02/7p49pcn90q5ftb99dns9v18c0000gp/T/ipykernel_80721/4268162343.py:8: FutureWarning: suggest_int() got {'step'} as positional arguments but they were expected to be given as keyword arguments.\n",
      "Positional arguments ['self', 'name', 'low', 'high', 'step', 'log'] in suggest_int() have been deprecated since v3.5.0. They will be replaced with the corresponding keyword arguments in v5.0.0, so please use the keyword specification instead. See https://github.com/optuna/optuna/releases/tag/v3.5.0 for details.\n",
      "  'n_estimators': trial.suggest_int('n_estimators', 10, 50, 1),\n",
      "/var/folders/02/7p49pcn90q5ftb99dns9v18c0000gp/T/ipykernel_80721/4268162343.py:9: FutureWarning: suggest_int() got {'step'} as positional arguments but they were expected to be given as keyword arguments.\n",
      "Positional arguments ['self', 'name', 'low', 'high', 'step', 'log'] in suggest_int() have been deprecated since v3.5.0. They will be replaced with the corresponding keyword arguments in v5.0.0, so please use the keyword specification instead. See https://github.com/optuna/optuna/releases/tag/v3.5.0 for details.\n",
      "  'max_depth': trial.suggest_int('max_depth', 1, 20, 1),\n",
      "/var/folders/02/7p49pcn90q5ftb99dns9v18c0000gp/T/ipykernel_80721/4268162343.py:10: FutureWarning: suggest_int() got {'step'} as positional arguments but they were expected to be given as keyword arguments.\n",
      "Positional arguments ['self', 'name', 'low', 'high', 'step', 'log'] in suggest_int() have been deprecated since v3.5.0. They will be replaced with the corresponding keyword arguments in v5.0.0, so please use the keyword specification instead. See https://github.com/optuna/optuna/releases/tag/v3.5.0 for details.\n",
      "  'min_samples_split': trial.suggest_int('min_samples_split', 2, 10, 1),\n",
      "/var/folders/02/7p49pcn90q5ftb99dns9v18c0000gp/T/ipykernel_80721/4268162343.py:11: FutureWarning: suggest_int() got {'step'} as positional arguments but they were expected to be given as keyword arguments.\n",
      "Positional arguments ['self', 'name', 'low', 'high', 'step', 'log'] in suggest_int() have been deprecated since v3.5.0. They will be replaced with the corresponding keyword arguments in v5.0.0, so please use the keyword specification instead. See https://github.com/optuna/optuna/releases/tag/v3.5.0 for details.\n",
      "  'min_samples_leaf': trial.suggest_int('min_samples_leaf', 1, 4, 1),\n",
      "[I 2025-09-16 21:11:05,154] Trial 29 finished with value: 5.063937094615542 and parameters: {'n_estimators': 43, 'max_depth': 20, 'min_samples_split': 4, 'min_samples_leaf': 3}. Best is trial 25 with value: 5.031991632644575.\n"
     ]
    },
    {
     "name": "stdout",
     "output_type": "stream",
     "text": [
      "🏃 View run agreeable-croc-393 at: http://127.0.0.1:5000/#/experiments/2/runs/047b44f6354740c8a1f630d60b0549af\n",
      "🧪 View experiment at: http://127.0.0.1:5000/#/experiments/2\n"
     ]
    },
    {
     "name": "stderr",
     "output_type": "stream",
     "text": [
      "/var/folders/02/7p49pcn90q5ftb99dns9v18c0000gp/T/ipykernel_80721/4268162343.py:8: FutureWarning: suggest_int() got {'step'} as positional arguments but they were expected to be given as keyword arguments.\n",
      "Positional arguments ['self', 'name', 'low', 'high', 'step', 'log'] in suggest_int() have been deprecated since v3.5.0. They will be replaced with the corresponding keyword arguments in v5.0.0, so please use the keyword specification instead. See https://github.com/optuna/optuna/releases/tag/v3.5.0 for details.\n",
      "  'n_estimators': trial.suggest_int('n_estimators', 10, 50, 1),\n",
      "/var/folders/02/7p49pcn90q5ftb99dns9v18c0000gp/T/ipykernel_80721/4268162343.py:9: FutureWarning: suggest_int() got {'step'} as positional arguments but they were expected to be given as keyword arguments.\n",
      "Positional arguments ['self', 'name', 'low', 'high', 'step', 'log'] in suggest_int() have been deprecated since v3.5.0. They will be replaced with the corresponding keyword arguments in v5.0.0, so please use the keyword specification instead. See https://github.com/optuna/optuna/releases/tag/v3.5.0 for details.\n",
      "  'max_depth': trial.suggest_int('max_depth', 1, 20, 1),\n",
      "/var/folders/02/7p49pcn90q5ftb99dns9v18c0000gp/T/ipykernel_80721/4268162343.py:10: FutureWarning: suggest_int() got {'step'} as positional arguments but they were expected to be given as keyword arguments.\n",
      "Positional arguments ['self', 'name', 'low', 'high', 'step', 'log'] in suggest_int() have been deprecated since v3.5.0. They will be replaced with the corresponding keyword arguments in v5.0.0, so please use the keyword specification instead. See https://github.com/optuna/optuna/releases/tag/v3.5.0 for details.\n",
      "  'min_samples_split': trial.suggest_int('min_samples_split', 2, 10, 1),\n",
      "/var/folders/02/7p49pcn90q5ftb99dns9v18c0000gp/T/ipykernel_80721/4268162343.py:11: FutureWarning: suggest_int() got {'step'} as positional arguments but they were expected to be given as keyword arguments.\n",
      "Positional arguments ['self', 'name', 'low', 'high', 'step', 'log'] in suggest_int() have been deprecated since v3.5.0. They will be replaced with the corresponding keyword arguments in v5.0.0, so please use the keyword specification instead. See https://github.com/optuna/optuna/releases/tag/v3.5.0 for details.\n",
      "  'min_samples_leaf': trial.suggest_int('min_samples_leaf', 1, 4, 1),\n",
      "[I 2025-09-16 21:11:05,380] Trial 30 finished with value: 5.043745090424208 and parameters: {'n_estimators': 26, 'max_depth': 14, 'min_samples_split': 5, 'min_samples_leaf': 4}. Best is trial 25 with value: 5.031991632644575.\n"
     ]
    },
    {
     "name": "stdout",
     "output_type": "stream",
     "text": [
      "🏃 View run skittish-wasp-750 at: http://127.0.0.1:5000/#/experiments/2/runs/6b44f112c984408982480193278a5701\n",
      "🧪 View experiment at: http://127.0.0.1:5000/#/experiments/2\n"
     ]
    },
    {
     "name": "stderr",
     "output_type": "stream",
     "text": [
      "/var/folders/02/7p49pcn90q5ftb99dns9v18c0000gp/T/ipykernel_80721/4268162343.py:8: FutureWarning: suggest_int() got {'step'} as positional arguments but they were expected to be given as keyword arguments.\n",
      "Positional arguments ['self', 'name', 'low', 'high', 'step', 'log'] in suggest_int() have been deprecated since v3.5.0. They will be replaced with the corresponding keyword arguments in v5.0.0, so please use the keyword specification instead. See https://github.com/optuna/optuna/releases/tag/v3.5.0 for details.\n",
      "  'n_estimators': trial.suggest_int('n_estimators', 10, 50, 1),\n",
      "/var/folders/02/7p49pcn90q5ftb99dns9v18c0000gp/T/ipykernel_80721/4268162343.py:9: FutureWarning: suggest_int() got {'step'} as positional arguments but they were expected to be given as keyword arguments.\n",
      "Positional arguments ['self', 'name', 'low', 'high', 'step', 'log'] in suggest_int() have been deprecated since v3.5.0. They will be replaced with the corresponding keyword arguments in v5.0.0, so please use the keyword specification instead. See https://github.com/optuna/optuna/releases/tag/v3.5.0 for details.\n",
      "  'max_depth': trial.suggest_int('max_depth', 1, 20, 1),\n",
      "/var/folders/02/7p49pcn90q5ftb99dns9v18c0000gp/T/ipykernel_80721/4268162343.py:10: FutureWarning: suggest_int() got {'step'} as positional arguments but they were expected to be given as keyword arguments.\n",
      "Positional arguments ['self', 'name', 'low', 'high', 'step', 'log'] in suggest_int() have been deprecated since v3.5.0. They will be replaced with the corresponding keyword arguments in v5.0.0, so please use the keyword specification instead. See https://github.com/optuna/optuna/releases/tag/v3.5.0 for details.\n",
      "  'min_samples_split': trial.suggest_int('min_samples_split', 2, 10, 1),\n",
      "/var/folders/02/7p49pcn90q5ftb99dns9v18c0000gp/T/ipykernel_80721/4268162343.py:11: FutureWarning: suggest_int() got {'step'} as positional arguments but they were expected to be given as keyword arguments.\n",
      "Positional arguments ['self', 'name', 'low', 'high', 'step', 'log'] in suggest_int() have been deprecated since v3.5.0. They will be replaced with the corresponding keyword arguments in v5.0.0, so please use the keyword specification instead. See https://github.com/optuna/optuna/releases/tag/v3.5.0 for details.\n",
      "  'min_samples_leaf': trial.suggest_int('min_samples_leaf', 1, 4, 1),\n",
      "[I 2025-09-16 21:11:05,684] Trial 31 finished with value: 5.0339608624169685 and parameters: {'n_estimators': 41, 'max_depth': 15, 'min_samples_split': 2, 'min_samples_leaf': 3}. Best is trial 25 with value: 5.031991632644575.\n"
     ]
    },
    {
     "name": "stdout",
     "output_type": "stream",
     "text": [
      "🏃 View run bold-shrike-460 at: http://127.0.0.1:5000/#/experiments/2/runs/1295ca293b5e42e4a8da19cf0ecd9f84\n",
      "🧪 View experiment at: http://127.0.0.1:5000/#/experiments/2\n"
     ]
    },
    {
     "name": "stderr",
     "output_type": "stream",
     "text": [
      "/var/folders/02/7p49pcn90q5ftb99dns9v18c0000gp/T/ipykernel_80721/4268162343.py:8: FutureWarning: suggest_int() got {'step'} as positional arguments but they were expected to be given as keyword arguments.\n",
      "Positional arguments ['self', 'name', 'low', 'high', 'step', 'log'] in suggest_int() have been deprecated since v3.5.0. They will be replaced with the corresponding keyword arguments in v5.0.0, so please use the keyword specification instead. See https://github.com/optuna/optuna/releases/tag/v3.5.0 for details.\n",
      "  'n_estimators': trial.suggest_int('n_estimators', 10, 50, 1),\n",
      "/var/folders/02/7p49pcn90q5ftb99dns9v18c0000gp/T/ipykernel_80721/4268162343.py:9: FutureWarning: suggest_int() got {'step'} as positional arguments but they were expected to be given as keyword arguments.\n",
      "Positional arguments ['self', 'name', 'low', 'high', 'step', 'log'] in suggest_int() have been deprecated since v3.5.0. They will be replaced with the corresponding keyword arguments in v5.0.0, so please use the keyword specification instead. See https://github.com/optuna/optuna/releases/tag/v3.5.0 for details.\n",
      "  'max_depth': trial.suggest_int('max_depth', 1, 20, 1),\n",
      "/var/folders/02/7p49pcn90q5ftb99dns9v18c0000gp/T/ipykernel_80721/4268162343.py:10: FutureWarning: suggest_int() got {'step'} as positional arguments but they were expected to be given as keyword arguments.\n",
      "Positional arguments ['self', 'name', 'low', 'high', 'step', 'log'] in suggest_int() have been deprecated since v3.5.0. They will be replaced with the corresponding keyword arguments in v5.0.0, so please use the keyword specification instead. See https://github.com/optuna/optuna/releases/tag/v3.5.0 for details.\n",
      "  'min_samples_split': trial.suggest_int('min_samples_split', 2, 10, 1),\n",
      "/var/folders/02/7p49pcn90q5ftb99dns9v18c0000gp/T/ipykernel_80721/4268162343.py:11: FutureWarning: suggest_int() got {'step'} as positional arguments but they were expected to be given as keyword arguments.\n",
      "Positional arguments ['self', 'name', 'low', 'high', 'step', 'log'] in suggest_int() have been deprecated since v3.5.0. They will be replaced with the corresponding keyword arguments in v5.0.0, so please use the keyword specification instead. See https://github.com/optuna/optuna/releases/tag/v3.5.0 for details.\n",
      "  'min_samples_leaf': trial.suggest_int('min_samples_leaf', 1, 4, 1),\n",
      "[I 2025-09-16 21:11:05,984] Trial 32 finished with value: 5.038190112297814 and parameters: {'n_estimators': 37, 'max_depth': 16, 'min_samples_split': 2, 'min_samples_leaf': 3}. Best is trial 25 with value: 5.031991632644575.\n"
     ]
    },
    {
     "name": "stdout",
     "output_type": "stream",
     "text": [
      "🏃 View run adaptable-snake-928 at: http://127.0.0.1:5000/#/experiments/2/runs/e9a8ffb2d5d6476694cf8026be1fbd7d\n",
      "🧪 View experiment at: http://127.0.0.1:5000/#/experiments/2\n"
     ]
    },
    {
     "name": "stderr",
     "output_type": "stream",
     "text": [
      "/var/folders/02/7p49pcn90q5ftb99dns9v18c0000gp/T/ipykernel_80721/4268162343.py:8: FutureWarning: suggest_int() got {'step'} as positional arguments but they were expected to be given as keyword arguments.\n",
      "Positional arguments ['self', 'name', 'low', 'high', 'step', 'log'] in suggest_int() have been deprecated since v3.5.0. They will be replaced with the corresponding keyword arguments in v5.0.0, so please use the keyword specification instead. See https://github.com/optuna/optuna/releases/tag/v3.5.0 for details.\n",
      "  'n_estimators': trial.suggest_int('n_estimators', 10, 50, 1),\n",
      "/var/folders/02/7p49pcn90q5ftb99dns9v18c0000gp/T/ipykernel_80721/4268162343.py:9: FutureWarning: suggest_int() got {'step'} as positional arguments but they were expected to be given as keyword arguments.\n",
      "Positional arguments ['self', 'name', 'low', 'high', 'step', 'log'] in suggest_int() have been deprecated since v3.5.0. They will be replaced with the corresponding keyword arguments in v5.0.0, so please use the keyword specification instead. See https://github.com/optuna/optuna/releases/tag/v3.5.0 for details.\n",
      "  'max_depth': trial.suggest_int('max_depth', 1, 20, 1),\n",
      "/var/folders/02/7p49pcn90q5ftb99dns9v18c0000gp/T/ipykernel_80721/4268162343.py:10: FutureWarning: suggest_int() got {'step'} as positional arguments but they were expected to be given as keyword arguments.\n",
      "Positional arguments ['self', 'name', 'low', 'high', 'step', 'log'] in suggest_int() have been deprecated since v3.5.0. They will be replaced with the corresponding keyword arguments in v5.0.0, so please use the keyword specification instead. See https://github.com/optuna/optuna/releases/tag/v3.5.0 for details.\n",
      "  'min_samples_split': trial.suggest_int('min_samples_split', 2, 10, 1),\n",
      "/var/folders/02/7p49pcn90q5ftb99dns9v18c0000gp/T/ipykernel_80721/4268162343.py:11: FutureWarning: suggest_int() got {'step'} as positional arguments but they were expected to be given as keyword arguments.\n",
      "Positional arguments ['self', 'name', 'low', 'high', 'step', 'log'] in suggest_int() have been deprecated since v3.5.0. They will be replaced with the corresponding keyword arguments in v5.0.0, so please use the keyword specification instead. See https://github.com/optuna/optuna/releases/tag/v3.5.0 for details.\n",
      "  'min_samples_leaf': trial.suggest_int('min_samples_leaf', 1, 4, 1),\n",
      "[I 2025-09-16 21:11:06,208] Trial 33 finished with value: 5.034545153525478 and parameters: {'n_estimators': 32, 'max_depth': 14, 'min_samples_split': 2, 'min_samples_leaf': 3}. Best is trial 25 with value: 5.031991632644575.\n"
     ]
    },
    {
     "name": "stdout",
     "output_type": "stream",
     "text": [
      "🏃 View run bittersweet-yak-306 at: http://127.0.0.1:5000/#/experiments/2/runs/461cd33abd0d4051be9531df1e6b7c75\n",
      "🧪 View experiment at: http://127.0.0.1:5000/#/experiments/2\n"
     ]
    },
    {
     "name": "stderr",
     "output_type": "stream",
     "text": [
      "/var/folders/02/7p49pcn90q5ftb99dns9v18c0000gp/T/ipykernel_80721/4268162343.py:8: FutureWarning: suggest_int() got {'step'} as positional arguments but they were expected to be given as keyword arguments.\n",
      "Positional arguments ['self', 'name', 'low', 'high', 'step', 'log'] in suggest_int() have been deprecated since v3.5.0. They will be replaced with the corresponding keyword arguments in v5.0.0, so please use the keyword specification instead. See https://github.com/optuna/optuna/releases/tag/v3.5.0 for details.\n",
      "  'n_estimators': trial.suggest_int('n_estimators', 10, 50, 1),\n",
      "/var/folders/02/7p49pcn90q5ftb99dns9v18c0000gp/T/ipykernel_80721/4268162343.py:9: FutureWarning: suggest_int() got {'step'} as positional arguments but they were expected to be given as keyword arguments.\n",
      "Positional arguments ['self', 'name', 'low', 'high', 'step', 'log'] in suggest_int() have been deprecated since v3.5.0. They will be replaced with the corresponding keyword arguments in v5.0.0, so please use the keyword specification instead. See https://github.com/optuna/optuna/releases/tag/v3.5.0 for details.\n",
      "  'max_depth': trial.suggest_int('max_depth', 1, 20, 1),\n",
      "/var/folders/02/7p49pcn90q5ftb99dns9v18c0000gp/T/ipykernel_80721/4268162343.py:10: FutureWarning: suggest_int() got {'step'} as positional arguments but they were expected to be given as keyword arguments.\n",
      "Positional arguments ['self', 'name', 'low', 'high', 'step', 'log'] in suggest_int() have been deprecated since v3.5.0. They will be replaced with the corresponding keyword arguments in v5.0.0, so please use the keyword specification instead. See https://github.com/optuna/optuna/releases/tag/v3.5.0 for details.\n",
      "  'min_samples_split': trial.suggest_int('min_samples_split', 2, 10, 1),\n",
      "/var/folders/02/7p49pcn90q5ftb99dns9v18c0000gp/T/ipykernel_80721/4268162343.py:11: FutureWarning: suggest_int() got {'step'} as positional arguments but they were expected to be given as keyword arguments.\n",
      "Positional arguments ['self', 'name', 'low', 'high', 'step', 'log'] in suggest_int() have been deprecated since v3.5.0. They will be replaced with the corresponding keyword arguments in v5.0.0, so please use the keyword specification instead. See https://github.com/optuna/optuna/releases/tag/v3.5.0 for details.\n",
      "  'min_samples_leaf': trial.suggest_int('min_samples_leaf', 1, 4, 1),\n",
      "[I 2025-09-16 21:11:06,547] Trial 34 finished with value: 5.049884285352723 and parameters: {'n_estimators': 47, 'max_depth': 18, 'min_samples_split': 3, 'min_samples_leaf': 3}. Best is trial 25 with value: 5.031991632644575.\n"
     ]
    },
    {
     "name": "stdout",
     "output_type": "stream",
     "text": [
      "🏃 View run honorable-swan-799 at: http://127.0.0.1:5000/#/experiments/2/runs/788a771750c341c5b721a793909cf445\n",
      "🧪 View experiment at: http://127.0.0.1:5000/#/experiments/2\n"
     ]
    },
    {
     "name": "stderr",
     "output_type": "stream",
     "text": [
      "/var/folders/02/7p49pcn90q5ftb99dns9v18c0000gp/T/ipykernel_80721/4268162343.py:8: FutureWarning: suggest_int() got {'step'} as positional arguments but they were expected to be given as keyword arguments.\n",
      "Positional arguments ['self', 'name', 'low', 'high', 'step', 'log'] in suggest_int() have been deprecated since v3.5.0. They will be replaced with the corresponding keyword arguments in v5.0.0, so please use the keyword specification instead. See https://github.com/optuna/optuna/releases/tag/v3.5.0 for details.\n",
      "  'n_estimators': trial.suggest_int('n_estimators', 10, 50, 1),\n",
      "/var/folders/02/7p49pcn90q5ftb99dns9v18c0000gp/T/ipykernel_80721/4268162343.py:9: FutureWarning: suggest_int() got {'step'} as positional arguments but they were expected to be given as keyword arguments.\n",
      "Positional arguments ['self', 'name', 'low', 'high', 'step', 'log'] in suggest_int() have been deprecated since v3.5.0. They will be replaced with the corresponding keyword arguments in v5.0.0, so please use the keyword specification instead. See https://github.com/optuna/optuna/releases/tag/v3.5.0 for details.\n",
      "  'max_depth': trial.suggest_int('max_depth', 1, 20, 1),\n",
      "/var/folders/02/7p49pcn90q5ftb99dns9v18c0000gp/T/ipykernel_80721/4268162343.py:10: FutureWarning: suggest_int() got {'step'} as positional arguments but they were expected to be given as keyword arguments.\n",
      "Positional arguments ['self', 'name', 'low', 'high', 'step', 'log'] in suggest_int() have been deprecated since v3.5.0. They will be replaced with the corresponding keyword arguments in v5.0.0, so please use the keyword specification instead. See https://github.com/optuna/optuna/releases/tag/v3.5.0 for details.\n",
      "  'min_samples_split': trial.suggest_int('min_samples_split', 2, 10, 1),\n",
      "/var/folders/02/7p49pcn90q5ftb99dns9v18c0000gp/T/ipykernel_80721/4268162343.py:11: FutureWarning: suggest_int() got {'step'} as positional arguments but they were expected to be given as keyword arguments.\n",
      "Positional arguments ['self', 'name', 'low', 'high', 'step', 'log'] in suggest_int() have been deprecated since v3.5.0. They will be replaced with the corresponding keyword arguments in v5.0.0, so please use the keyword specification instead. See https://github.com/optuna/optuna/releases/tag/v3.5.0 for details.\n",
      "  'min_samples_leaf': trial.suggest_int('min_samples_leaf', 1, 4, 1),\n",
      "[I 2025-09-16 21:11:06,799] Trial 35 finished with value: 5.09841087164492 and parameters: {'n_estimators': 44, 'max_depth': 11, 'min_samples_split': 2, 'min_samples_leaf': 4}. Best is trial 25 with value: 5.031991632644575.\n"
     ]
    },
    {
     "name": "stdout",
     "output_type": "stream",
     "text": [
      "🏃 View run luxuriant-crow-322 at: http://127.0.0.1:5000/#/experiments/2/runs/7f166559bc464728add905b81699ae1c\n",
      "🧪 View experiment at: http://127.0.0.1:5000/#/experiments/2\n"
     ]
    },
    {
     "name": "stderr",
     "output_type": "stream",
     "text": [
      "/var/folders/02/7p49pcn90q5ftb99dns9v18c0000gp/T/ipykernel_80721/4268162343.py:8: FutureWarning: suggest_int() got {'step'} as positional arguments but they were expected to be given as keyword arguments.\n",
      "Positional arguments ['self', 'name', 'low', 'high', 'step', 'log'] in suggest_int() have been deprecated since v3.5.0. They will be replaced with the corresponding keyword arguments in v5.0.0, so please use the keyword specification instead. See https://github.com/optuna/optuna/releases/tag/v3.5.0 for details.\n",
      "  'n_estimators': trial.suggest_int('n_estimators', 10, 50, 1),\n",
      "/var/folders/02/7p49pcn90q5ftb99dns9v18c0000gp/T/ipykernel_80721/4268162343.py:9: FutureWarning: suggest_int() got {'step'} as positional arguments but they were expected to be given as keyword arguments.\n",
      "Positional arguments ['self', 'name', 'low', 'high', 'step', 'log'] in suggest_int() have been deprecated since v3.5.0. They will be replaced with the corresponding keyword arguments in v5.0.0, so please use the keyword specification instead. See https://github.com/optuna/optuna/releases/tag/v3.5.0 for details.\n",
      "  'max_depth': trial.suggest_int('max_depth', 1, 20, 1),\n",
      "/var/folders/02/7p49pcn90q5ftb99dns9v18c0000gp/T/ipykernel_80721/4268162343.py:10: FutureWarning: suggest_int() got {'step'} as positional arguments but they were expected to be given as keyword arguments.\n",
      "Positional arguments ['self', 'name', 'low', 'high', 'step', 'log'] in suggest_int() have been deprecated since v3.5.0. They will be replaced with the corresponding keyword arguments in v5.0.0, so please use the keyword specification instead. See https://github.com/optuna/optuna/releases/tag/v3.5.0 for details.\n",
      "  'min_samples_split': trial.suggest_int('min_samples_split', 2, 10, 1),\n",
      "/var/folders/02/7p49pcn90q5ftb99dns9v18c0000gp/T/ipykernel_80721/4268162343.py:11: FutureWarning: suggest_int() got {'step'} as positional arguments but they were expected to be given as keyword arguments.\n",
      "Positional arguments ['self', 'name', 'low', 'high', 'step', 'log'] in suggest_int() have been deprecated since v3.5.0. They will be replaced with the corresponding keyword arguments in v5.0.0, so please use the keyword specification instead. See https://github.com/optuna/optuna/releases/tag/v3.5.0 for details.\n",
      "  'min_samples_leaf': trial.suggest_int('min_samples_leaf', 1, 4, 1),\n",
      "[I 2025-09-16 21:11:07,106] Trial 36 finished with value: 5.038167697003057 and parameters: {'n_estimators': 40, 'max_depth': 16, 'min_samples_split': 3, 'min_samples_leaf': 3}. Best is trial 25 with value: 5.031991632644575.\n"
     ]
    },
    {
     "name": "stdout",
     "output_type": "stream",
     "text": [
      "🏃 View run unequaled-newt-283 at: http://127.0.0.1:5000/#/experiments/2/runs/a049666e11e4445294e6a73485cbabd6\n",
      "🧪 View experiment at: http://127.0.0.1:5000/#/experiments/2\n"
     ]
    },
    {
     "name": "stderr",
     "output_type": "stream",
     "text": [
      "/var/folders/02/7p49pcn90q5ftb99dns9v18c0000gp/T/ipykernel_80721/4268162343.py:8: FutureWarning: suggest_int() got {'step'} as positional arguments but they were expected to be given as keyword arguments.\n",
      "Positional arguments ['self', 'name', 'low', 'high', 'step', 'log'] in suggest_int() have been deprecated since v3.5.0. They will be replaced with the corresponding keyword arguments in v5.0.0, so please use the keyword specification instead. See https://github.com/optuna/optuna/releases/tag/v3.5.0 for details.\n",
      "  'n_estimators': trial.suggest_int('n_estimators', 10, 50, 1),\n",
      "/var/folders/02/7p49pcn90q5ftb99dns9v18c0000gp/T/ipykernel_80721/4268162343.py:9: FutureWarning: suggest_int() got {'step'} as positional arguments but they were expected to be given as keyword arguments.\n",
      "Positional arguments ['self', 'name', 'low', 'high', 'step', 'log'] in suggest_int() have been deprecated since v3.5.0. They will be replaced with the corresponding keyword arguments in v5.0.0, so please use the keyword specification instead. See https://github.com/optuna/optuna/releases/tag/v3.5.0 for details.\n",
      "  'max_depth': trial.suggest_int('max_depth', 1, 20, 1),\n",
      "/var/folders/02/7p49pcn90q5ftb99dns9v18c0000gp/T/ipykernel_80721/4268162343.py:10: FutureWarning: suggest_int() got {'step'} as positional arguments but they were expected to be given as keyword arguments.\n",
      "Positional arguments ['self', 'name', 'low', 'high', 'step', 'log'] in suggest_int() have been deprecated since v3.5.0. They will be replaced with the corresponding keyword arguments in v5.0.0, so please use the keyword specification instead. See https://github.com/optuna/optuna/releases/tag/v3.5.0 for details.\n",
      "  'min_samples_split': trial.suggest_int('min_samples_split', 2, 10, 1),\n",
      "/var/folders/02/7p49pcn90q5ftb99dns9v18c0000gp/T/ipykernel_80721/4268162343.py:11: FutureWarning: suggest_int() got {'step'} as positional arguments but they were expected to be given as keyword arguments.\n",
      "Positional arguments ['self', 'name', 'low', 'high', 'step', 'log'] in suggest_int() have been deprecated since v3.5.0. They will be replaced with the corresponding keyword arguments in v5.0.0, so please use the keyword specification instead. See https://github.com/optuna/optuna/releases/tag/v3.5.0 for details.\n",
      "  'min_samples_leaf': trial.suggest_int('min_samples_leaf', 1, 4, 1),\n",
      "[I 2025-09-16 21:11:07,327] Trial 37 finished with value: 5.0429196992944725 and parameters: {'n_estimators': 35, 'max_depth': 13, 'min_samples_split': 3, 'min_samples_leaf': 2}. Best is trial 25 with value: 5.031991632644575.\n"
     ]
    },
    {
     "name": "stdout",
     "output_type": "stream",
     "text": [
      "🏃 View run polite-auk-52 at: http://127.0.0.1:5000/#/experiments/2/runs/eaf4373df81045ac818e6627faf8fd2e\n",
      "🧪 View experiment at: http://127.0.0.1:5000/#/experiments/2\n"
     ]
    },
    {
     "name": "stderr",
     "output_type": "stream",
     "text": [
      "/var/folders/02/7p49pcn90q5ftb99dns9v18c0000gp/T/ipykernel_80721/4268162343.py:8: FutureWarning: suggest_int() got {'step'} as positional arguments but they were expected to be given as keyword arguments.\n",
      "Positional arguments ['self', 'name', 'low', 'high', 'step', 'log'] in suggest_int() have been deprecated since v3.5.0. They will be replaced with the corresponding keyword arguments in v5.0.0, so please use the keyword specification instead. See https://github.com/optuna/optuna/releases/tag/v3.5.0 for details.\n",
      "  'n_estimators': trial.suggest_int('n_estimators', 10, 50, 1),\n",
      "/var/folders/02/7p49pcn90q5ftb99dns9v18c0000gp/T/ipykernel_80721/4268162343.py:9: FutureWarning: suggest_int() got {'step'} as positional arguments but they were expected to be given as keyword arguments.\n",
      "Positional arguments ['self', 'name', 'low', 'high', 'step', 'log'] in suggest_int() have been deprecated since v3.5.0. They will be replaced with the corresponding keyword arguments in v5.0.0, so please use the keyword specification instead. See https://github.com/optuna/optuna/releases/tag/v3.5.0 for details.\n",
      "  'max_depth': trial.suggest_int('max_depth', 1, 20, 1),\n",
      "/var/folders/02/7p49pcn90q5ftb99dns9v18c0000gp/T/ipykernel_80721/4268162343.py:10: FutureWarning: suggest_int() got {'step'} as positional arguments but they were expected to be given as keyword arguments.\n",
      "Positional arguments ['self', 'name', 'low', 'high', 'step', 'log'] in suggest_int() have been deprecated since v3.5.0. They will be replaced with the corresponding keyword arguments in v5.0.0, so please use the keyword specification instead. See https://github.com/optuna/optuna/releases/tag/v3.5.0 for details.\n",
      "  'min_samples_split': trial.suggest_int('min_samples_split', 2, 10, 1),\n",
      "/var/folders/02/7p49pcn90q5ftb99dns9v18c0000gp/T/ipykernel_80721/4268162343.py:11: FutureWarning: suggest_int() got {'step'} as positional arguments but they were expected to be given as keyword arguments.\n",
      "Positional arguments ['self', 'name', 'low', 'high', 'step', 'log'] in suggest_int() have been deprecated since v3.5.0. They will be replaced with the corresponding keyword arguments in v5.0.0, so please use the keyword specification instead. See https://github.com/optuna/optuna/releases/tag/v3.5.0 for details.\n",
      "  'min_samples_leaf': trial.suggest_int('min_samples_leaf', 1, 4, 1),\n",
      "[I 2025-09-16 21:11:07,570] Trial 38 finished with value: 5.036626840498505 and parameters: {'n_estimators': 31, 'max_depth': 15, 'min_samples_split': 4, 'min_samples_leaf': 4}. Best is trial 25 with value: 5.031991632644575.\n",
      "/var/folders/02/7p49pcn90q5ftb99dns9v18c0000gp/T/ipykernel_80721/4268162343.py:8: FutureWarning: suggest_int() got {'step'} as positional arguments but they were expected to be given as keyword arguments.\n",
      "Positional arguments ['self', 'name', 'low', 'high', 'step', 'log'] in suggest_int() have been deprecated since v3.5.0. They will be replaced with the corresponding keyword arguments in v5.0.0, so please use the keyword specification instead. See https://github.com/optuna/optuna/releases/tag/v3.5.0 for details.\n",
      "  'n_estimators': trial.suggest_int('n_estimators', 10, 50, 1),\n",
      "/var/folders/02/7p49pcn90q5ftb99dns9v18c0000gp/T/ipykernel_80721/4268162343.py:9: FutureWarning: suggest_int() got {'step'} as positional arguments but they were expected to be given as keyword arguments.\n",
      "Positional arguments ['self', 'name', 'low', 'high', 'step', 'log'] in suggest_int() have been deprecated since v3.5.0. They will be replaced with the corresponding keyword arguments in v5.0.0, so please use the keyword specification instead. See https://github.com/optuna/optuna/releases/tag/v3.5.0 for details.\n",
      "  'max_depth': trial.suggest_int('max_depth', 1, 20, 1),\n",
      "/var/folders/02/7p49pcn90q5ftb99dns9v18c0000gp/T/ipykernel_80721/4268162343.py:10: FutureWarning: suggest_int() got {'step'} as positional arguments but they were expected to be given as keyword arguments.\n",
      "Positional arguments ['self', 'name', 'low', 'high', 'step', 'log'] in suggest_int() have been deprecated since v3.5.0. They will be replaced with the corresponding keyword arguments in v5.0.0, so please use the keyword specification instead. See https://github.com/optuna/optuna/releases/tag/v3.5.0 for details.\n",
      "  'min_samples_split': trial.suggest_int('min_samples_split', 2, 10, 1),\n",
      "/var/folders/02/7p49pcn90q5ftb99dns9v18c0000gp/T/ipykernel_80721/4268162343.py:11: FutureWarning: suggest_int() got {'step'} as positional arguments but they were expected to be given as keyword arguments.\n",
      "Positional arguments ['self', 'name', 'low', 'high', 'step', 'log'] in suggest_int() have been deprecated since v3.5.0. They will be replaced with the corresponding keyword arguments in v5.0.0, so please use the keyword specification instead. See https://github.com/optuna/optuna/releases/tag/v3.5.0 for details.\n",
      "  'min_samples_leaf': trial.suggest_int('min_samples_leaf', 1, 4, 1),\n",
      "[I 2025-09-16 21:11:07,736] Trial 39 finished with value: 5.436247903312631 and parameters: {'n_estimators': 43, 'max_depth': 6, 'min_samples_split': 2, 'min_samples_leaf': 3}. Best is trial 25 with value: 5.031991632644575.\n"
     ]
    },
    {
     "name": "stdout",
     "output_type": "stream",
     "text": [
      "🏃 View run tasteful-shad-964 at: http://127.0.0.1:5000/#/experiments/2/runs/94554ee0088f4c85940e521ab6078c1a\n",
      "🧪 View experiment at: http://127.0.0.1:5000/#/experiments/2\n",
      "🏃 View run thundering-loon-94 at: http://127.0.0.1:5000/#/experiments/2/runs/6a11b7cb99774466b0d411708571ee38\n",
      "🧪 View experiment at: http://127.0.0.1:5000/#/experiments/2\n"
     ]
    },
    {
     "name": "stderr",
     "output_type": "stream",
     "text": [
      "/var/folders/02/7p49pcn90q5ftb99dns9v18c0000gp/T/ipykernel_80721/4268162343.py:8: FutureWarning: suggest_int() got {'step'} as positional arguments but they were expected to be given as keyword arguments.\n",
      "Positional arguments ['self', 'name', 'low', 'high', 'step', 'log'] in suggest_int() have been deprecated since v3.5.0. They will be replaced with the corresponding keyword arguments in v5.0.0, so please use the keyword specification instead. See https://github.com/optuna/optuna/releases/tag/v3.5.0 for details.\n",
      "  'n_estimators': trial.suggest_int('n_estimators', 10, 50, 1),\n",
      "/var/folders/02/7p49pcn90q5ftb99dns9v18c0000gp/T/ipykernel_80721/4268162343.py:9: FutureWarning: suggest_int() got {'step'} as positional arguments but they were expected to be given as keyword arguments.\n",
      "Positional arguments ['self', 'name', 'low', 'high', 'step', 'log'] in suggest_int() have been deprecated since v3.5.0. They will be replaced with the corresponding keyword arguments in v5.0.0, so please use the keyword specification instead. See https://github.com/optuna/optuna/releases/tag/v3.5.0 for details.\n",
      "  'max_depth': trial.suggest_int('max_depth', 1, 20, 1),\n",
      "/var/folders/02/7p49pcn90q5ftb99dns9v18c0000gp/T/ipykernel_80721/4268162343.py:10: FutureWarning: suggest_int() got {'step'} as positional arguments but they were expected to be given as keyword arguments.\n",
      "Positional arguments ['self', 'name', 'low', 'high', 'step', 'log'] in suggest_int() have been deprecated since v3.5.0. They will be replaced with the corresponding keyword arguments in v5.0.0, so please use the keyword specification instead. See https://github.com/optuna/optuna/releases/tag/v3.5.0 for details.\n",
      "  'min_samples_split': trial.suggest_int('min_samples_split', 2, 10, 1),\n",
      "/var/folders/02/7p49pcn90q5ftb99dns9v18c0000gp/T/ipykernel_80721/4268162343.py:11: FutureWarning: suggest_int() got {'step'} as positional arguments but they were expected to be given as keyword arguments.\n",
      "Positional arguments ['self', 'name', 'low', 'high', 'step', 'log'] in suggest_int() have been deprecated since v3.5.0. They will be replaced with the corresponding keyword arguments in v5.0.0, so please use the keyword specification instead. See https://github.com/optuna/optuna/releases/tag/v3.5.0 for details.\n",
      "  'min_samples_leaf': trial.suggest_int('min_samples_leaf', 1, 4, 1),\n",
      "[I 2025-09-16 21:11:08,025] Trial 40 finished with value: 5.067818804521014 and parameters: {'n_estimators': 35, 'max_depth': 18, 'min_samples_split': 7, 'min_samples_leaf': 1}. Best is trial 25 with value: 5.031991632644575.\n"
     ]
    },
    {
     "name": "stdout",
     "output_type": "stream",
     "text": [
      "🏃 View run resilient-stoat-286 at: http://127.0.0.1:5000/#/experiments/2/runs/e3d7aaa227584798ab0e8a149fb4b2ec\n",
      "🧪 View experiment at: http://127.0.0.1:5000/#/experiments/2\n"
     ]
    },
    {
     "name": "stderr",
     "output_type": "stream",
     "text": [
      "/var/folders/02/7p49pcn90q5ftb99dns9v18c0000gp/T/ipykernel_80721/4268162343.py:8: FutureWarning: suggest_int() got {'step'} as positional arguments but they were expected to be given as keyword arguments.\n",
      "Positional arguments ['self', 'name', 'low', 'high', 'step', 'log'] in suggest_int() have been deprecated since v3.5.0. They will be replaced with the corresponding keyword arguments in v5.0.0, so please use the keyword specification instead. See https://github.com/optuna/optuna/releases/tag/v3.5.0 for details.\n",
      "  'n_estimators': trial.suggest_int('n_estimators', 10, 50, 1),\n",
      "/var/folders/02/7p49pcn90q5ftb99dns9v18c0000gp/T/ipykernel_80721/4268162343.py:9: FutureWarning: suggest_int() got {'step'} as positional arguments but they were expected to be given as keyword arguments.\n",
      "Positional arguments ['self', 'name', 'low', 'high', 'step', 'log'] in suggest_int() have been deprecated since v3.5.0. They will be replaced with the corresponding keyword arguments in v5.0.0, so please use the keyword specification instead. See https://github.com/optuna/optuna/releases/tag/v3.5.0 for details.\n",
      "  'max_depth': trial.suggest_int('max_depth', 1, 20, 1),\n",
      "/var/folders/02/7p49pcn90q5ftb99dns9v18c0000gp/T/ipykernel_80721/4268162343.py:10: FutureWarning: suggest_int() got {'step'} as positional arguments but they were expected to be given as keyword arguments.\n",
      "Positional arguments ['self', 'name', 'low', 'high', 'step', 'log'] in suggest_int() have been deprecated since v3.5.0. They will be replaced with the corresponding keyword arguments in v5.0.0, so please use the keyword specification instead. See https://github.com/optuna/optuna/releases/tag/v3.5.0 for details.\n",
      "  'min_samples_split': trial.suggest_int('min_samples_split', 2, 10, 1),\n",
      "/var/folders/02/7p49pcn90q5ftb99dns9v18c0000gp/T/ipykernel_80721/4268162343.py:11: FutureWarning: suggest_int() got {'step'} as positional arguments but they were expected to be given as keyword arguments.\n",
      "Positional arguments ['self', 'name', 'low', 'high', 'step', 'log'] in suggest_int() have been deprecated since v3.5.0. They will be replaced with the corresponding keyword arguments in v5.0.0, so please use the keyword specification instead. See https://github.com/optuna/optuna/releases/tag/v3.5.0 for details.\n",
      "  'min_samples_leaf': trial.suggest_int('min_samples_leaf', 1, 4, 1),\n",
      "[I 2025-09-16 21:11:08,349] Trial 41 finished with value: 5.033635769877937 and parameters: {'n_estimators': 39, 'max_depth': 15, 'min_samples_split': 2, 'min_samples_leaf': 3}. Best is trial 25 with value: 5.031991632644575.\n"
     ]
    },
    {
     "name": "stdout",
     "output_type": "stream",
     "text": [
      "🏃 View run gifted-quail-275 at: http://127.0.0.1:5000/#/experiments/2/runs/ab3a9cb2116046308fffc29f9a131073\n",
      "🧪 View experiment at: http://127.0.0.1:5000/#/experiments/2\n"
     ]
    },
    {
     "name": "stderr",
     "output_type": "stream",
     "text": [
      "/var/folders/02/7p49pcn90q5ftb99dns9v18c0000gp/T/ipykernel_80721/4268162343.py:8: FutureWarning: suggest_int() got {'step'} as positional arguments but they were expected to be given as keyword arguments.\n",
      "Positional arguments ['self', 'name', 'low', 'high', 'step', 'log'] in suggest_int() have been deprecated since v3.5.0. They will be replaced with the corresponding keyword arguments in v5.0.0, so please use the keyword specification instead. See https://github.com/optuna/optuna/releases/tag/v3.5.0 for details.\n",
      "  'n_estimators': trial.suggest_int('n_estimators', 10, 50, 1),\n",
      "/var/folders/02/7p49pcn90q5ftb99dns9v18c0000gp/T/ipykernel_80721/4268162343.py:9: FutureWarning: suggest_int() got {'step'} as positional arguments but they were expected to be given as keyword arguments.\n",
      "Positional arguments ['self', 'name', 'low', 'high', 'step', 'log'] in suggest_int() have been deprecated since v3.5.0. They will be replaced with the corresponding keyword arguments in v5.0.0, so please use the keyword specification instead. See https://github.com/optuna/optuna/releases/tag/v3.5.0 for details.\n",
      "  'max_depth': trial.suggest_int('max_depth', 1, 20, 1),\n",
      "/var/folders/02/7p49pcn90q5ftb99dns9v18c0000gp/T/ipykernel_80721/4268162343.py:10: FutureWarning: suggest_int() got {'step'} as positional arguments but they were expected to be given as keyword arguments.\n",
      "Positional arguments ['self', 'name', 'low', 'high', 'step', 'log'] in suggest_int() have been deprecated since v3.5.0. They will be replaced with the corresponding keyword arguments in v5.0.0, so please use the keyword specification instead. See https://github.com/optuna/optuna/releases/tag/v3.5.0 for details.\n",
      "  'min_samples_split': trial.suggest_int('min_samples_split', 2, 10, 1),\n",
      "/var/folders/02/7p49pcn90q5ftb99dns9v18c0000gp/T/ipykernel_80721/4268162343.py:11: FutureWarning: suggest_int() got {'step'} as positional arguments but they were expected to be given as keyword arguments.\n",
      "Positional arguments ['self', 'name', 'low', 'high', 'step', 'log'] in suggest_int() have been deprecated since v3.5.0. They will be replaced with the corresponding keyword arguments in v5.0.0, so please use the keyword specification instead. See https://github.com/optuna/optuna/releases/tag/v3.5.0 for details.\n",
      "  'min_samples_leaf': trial.suggest_int('min_samples_leaf', 1, 4, 1),\n",
      "[I 2025-09-16 21:11:08,610] Trial 42 finished with value: 5.0669201548658656 and parameters: {'n_estimators': 39, 'max_depth': 12, 'min_samples_split': 3, 'min_samples_leaf': 3}. Best is trial 25 with value: 5.031991632644575.\n"
     ]
    },
    {
     "name": "stdout",
     "output_type": "stream",
     "text": [
      "🏃 View run mercurial-fly-561 at: http://127.0.0.1:5000/#/experiments/2/runs/2c78ce8926f84bfe9795b909e9f4dce8\n",
      "🧪 View experiment at: http://127.0.0.1:5000/#/experiments/2\n"
     ]
    },
    {
     "name": "stderr",
     "output_type": "stream",
     "text": [
      "/var/folders/02/7p49pcn90q5ftb99dns9v18c0000gp/T/ipykernel_80721/4268162343.py:8: FutureWarning: suggest_int() got {'step'} as positional arguments but they were expected to be given as keyword arguments.\n",
      "Positional arguments ['self', 'name', 'low', 'high', 'step', 'log'] in suggest_int() have been deprecated since v3.5.0. They will be replaced with the corresponding keyword arguments in v5.0.0, so please use the keyword specification instead. See https://github.com/optuna/optuna/releases/tag/v3.5.0 for details.\n",
      "  'n_estimators': trial.suggest_int('n_estimators', 10, 50, 1),\n",
      "/var/folders/02/7p49pcn90q5ftb99dns9v18c0000gp/T/ipykernel_80721/4268162343.py:9: FutureWarning: suggest_int() got {'step'} as positional arguments but they were expected to be given as keyword arguments.\n",
      "Positional arguments ['self', 'name', 'low', 'high', 'step', 'log'] in suggest_int() have been deprecated since v3.5.0. They will be replaced with the corresponding keyword arguments in v5.0.0, so please use the keyword specification instead. See https://github.com/optuna/optuna/releases/tag/v3.5.0 for details.\n",
      "  'max_depth': trial.suggest_int('max_depth', 1, 20, 1),\n",
      "/var/folders/02/7p49pcn90q5ftb99dns9v18c0000gp/T/ipykernel_80721/4268162343.py:10: FutureWarning: suggest_int() got {'step'} as positional arguments but they were expected to be given as keyword arguments.\n",
      "Positional arguments ['self', 'name', 'low', 'high', 'step', 'log'] in suggest_int() have been deprecated since v3.5.0. They will be replaced with the corresponding keyword arguments in v5.0.0, so please use the keyword specification instead. See https://github.com/optuna/optuna/releases/tag/v3.5.0 for details.\n",
      "  'min_samples_split': trial.suggest_int('min_samples_split', 2, 10, 1),\n",
      "/var/folders/02/7p49pcn90q5ftb99dns9v18c0000gp/T/ipykernel_80721/4268162343.py:11: FutureWarning: suggest_int() got {'step'} as positional arguments but they were expected to be given as keyword arguments.\n",
      "Positional arguments ['self', 'name', 'low', 'high', 'step', 'log'] in suggest_int() have been deprecated since v3.5.0. They will be replaced with the corresponding keyword arguments in v5.0.0, so please use the keyword specification instead. See https://github.com/optuna/optuna/releases/tag/v3.5.0 for details.\n",
      "  'min_samples_leaf': trial.suggest_int('min_samples_leaf', 1, 4, 1),\n",
      "[I 2025-09-16 21:11:08,915] Trial 43 finished with value: 5.038522342372137 and parameters: {'n_estimators': 36, 'max_depth': 16, 'min_samples_split': 2, 'min_samples_leaf': 3}. Best is trial 25 with value: 5.031991632644575.\n"
     ]
    },
    {
     "name": "stdout",
     "output_type": "stream",
     "text": [
      "🏃 View run loud-perch-200 at: http://127.0.0.1:5000/#/experiments/2/runs/3553793f471f48d6a461814c310acae1\n",
      "🧪 View experiment at: http://127.0.0.1:5000/#/experiments/2\n"
     ]
    },
    {
     "name": "stderr",
     "output_type": "stream",
     "text": [
      "/var/folders/02/7p49pcn90q5ftb99dns9v18c0000gp/T/ipykernel_80721/4268162343.py:8: FutureWarning: suggest_int() got {'step'} as positional arguments but they were expected to be given as keyword arguments.\n",
      "Positional arguments ['self', 'name', 'low', 'high', 'step', 'log'] in suggest_int() have been deprecated since v3.5.0. They will be replaced with the corresponding keyword arguments in v5.0.0, so please use the keyword specification instead. See https://github.com/optuna/optuna/releases/tag/v3.5.0 for details.\n",
      "  'n_estimators': trial.suggest_int('n_estimators', 10, 50, 1),\n",
      "/var/folders/02/7p49pcn90q5ftb99dns9v18c0000gp/T/ipykernel_80721/4268162343.py:9: FutureWarning: suggest_int() got {'step'} as positional arguments but they were expected to be given as keyword arguments.\n",
      "Positional arguments ['self', 'name', 'low', 'high', 'step', 'log'] in suggest_int() have been deprecated since v3.5.0. They will be replaced with the corresponding keyword arguments in v5.0.0, so please use the keyword specification instead. See https://github.com/optuna/optuna/releases/tag/v3.5.0 for details.\n",
      "  'max_depth': trial.suggest_int('max_depth', 1, 20, 1),\n",
      "/var/folders/02/7p49pcn90q5ftb99dns9v18c0000gp/T/ipykernel_80721/4268162343.py:10: FutureWarning: suggest_int() got {'step'} as positional arguments but they were expected to be given as keyword arguments.\n",
      "Positional arguments ['self', 'name', 'low', 'high', 'step', 'log'] in suggest_int() have been deprecated since v3.5.0. They will be replaced with the corresponding keyword arguments in v5.0.0, so please use the keyword specification instead. See https://github.com/optuna/optuna/releases/tag/v3.5.0 for details.\n",
      "  'min_samples_split': trial.suggest_int('min_samples_split', 2, 10, 1),\n",
      "/var/folders/02/7p49pcn90q5ftb99dns9v18c0000gp/T/ipykernel_80721/4268162343.py:11: FutureWarning: suggest_int() got {'step'} as positional arguments but they were expected to be given as keyword arguments.\n",
      "Positional arguments ['self', 'name', 'low', 'high', 'step', 'log'] in suggest_int() have been deprecated since v3.5.0. They will be replaced with the corresponding keyword arguments in v5.0.0, so please use the keyword specification instead. See https://github.com/optuna/optuna/releases/tag/v3.5.0 for details.\n",
      "  'min_samples_leaf': trial.suggest_int('min_samples_leaf', 1, 4, 1),\n",
      "[I 2025-09-16 21:11:09,266] Trial 44 finished with value: 5.0317832907827595 and parameters: {'n_estimators': 48, 'max_depth': 14, 'min_samples_split': 2, 'min_samples_leaf': 3}. Best is trial 44 with value: 5.0317832907827595.\n"
     ]
    },
    {
     "name": "stdout",
     "output_type": "stream",
     "text": [
      "🏃 View run whimsical-yak-234 at: http://127.0.0.1:5000/#/experiments/2/runs/2f7eb85672ce4f5bb008d95a472ccf7a\n",
      "🧪 View experiment at: http://127.0.0.1:5000/#/experiments/2\n"
     ]
    },
    {
     "name": "stderr",
     "output_type": "stream",
     "text": [
      "/var/folders/02/7p49pcn90q5ftb99dns9v18c0000gp/T/ipykernel_80721/4268162343.py:8: FutureWarning: suggest_int() got {'step'} as positional arguments but they were expected to be given as keyword arguments.\n",
      "Positional arguments ['self', 'name', 'low', 'high', 'step', 'log'] in suggest_int() have been deprecated since v3.5.0. They will be replaced with the corresponding keyword arguments in v5.0.0, so please use the keyword specification instead. See https://github.com/optuna/optuna/releases/tag/v3.5.0 for details.\n",
      "  'n_estimators': trial.suggest_int('n_estimators', 10, 50, 1),\n",
      "/var/folders/02/7p49pcn90q5ftb99dns9v18c0000gp/T/ipykernel_80721/4268162343.py:9: FutureWarning: suggest_int() got {'step'} as positional arguments but they were expected to be given as keyword arguments.\n",
      "Positional arguments ['self', 'name', 'low', 'high', 'step', 'log'] in suggest_int() have been deprecated since v3.5.0. They will be replaced with the corresponding keyword arguments in v5.0.0, so please use the keyword specification instead. See https://github.com/optuna/optuna/releases/tag/v3.5.0 for details.\n",
      "  'max_depth': trial.suggest_int('max_depth', 1, 20, 1),\n",
      "/var/folders/02/7p49pcn90q5ftb99dns9v18c0000gp/T/ipykernel_80721/4268162343.py:10: FutureWarning: suggest_int() got {'step'} as positional arguments but they were expected to be given as keyword arguments.\n",
      "Positional arguments ['self', 'name', 'low', 'high', 'step', 'log'] in suggest_int() have been deprecated since v3.5.0. They will be replaced with the corresponding keyword arguments in v5.0.0, so please use the keyword specification instead. See https://github.com/optuna/optuna/releases/tag/v3.5.0 for details.\n",
      "  'min_samples_split': trial.suggest_int('min_samples_split', 2, 10, 1),\n",
      "/var/folders/02/7p49pcn90q5ftb99dns9v18c0000gp/T/ipykernel_80721/4268162343.py:11: FutureWarning: suggest_int() got {'step'} as positional arguments but they were expected to be given as keyword arguments.\n",
      "Positional arguments ['self', 'name', 'low', 'high', 'step', 'log'] in suggest_int() have been deprecated since v3.5.0. They will be replaced with the corresponding keyword arguments in v5.0.0, so please use the keyword specification instead. See https://github.com/optuna/optuna/releases/tag/v3.5.0 for details.\n",
      "  'min_samples_leaf': trial.suggest_int('min_samples_leaf', 1, 4, 1),\n",
      "[I 2025-09-16 21:11:09,599] Trial 45 finished with value: 5.031553590810261 and parameters: {'n_estimators': 47, 'max_depth': 14, 'min_samples_split': 3, 'min_samples_leaf': 2}. Best is trial 45 with value: 5.031553590810261.\n"
     ]
    },
    {
     "name": "stdout",
     "output_type": "stream",
     "text": [
      "🏃 View run amazing-cod-52 at: http://127.0.0.1:5000/#/experiments/2/runs/9eafb330c5974638873e59034a2129f0\n",
      "🧪 View experiment at: http://127.0.0.1:5000/#/experiments/2\n"
     ]
    },
    {
     "name": "stderr",
     "output_type": "stream",
     "text": [
      "/var/folders/02/7p49pcn90q5ftb99dns9v18c0000gp/T/ipykernel_80721/4268162343.py:8: FutureWarning: suggest_int() got {'step'} as positional arguments but they were expected to be given as keyword arguments.\n",
      "Positional arguments ['self', 'name', 'low', 'high', 'step', 'log'] in suggest_int() have been deprecated since v3.5.0. They will be replaced with the corresponding keyword arguments in v5.0.0, so please use the keyword specification instead. See https://github.com/optuna/optuna/releases/tag/v3.5.0 for details.\n",
      "  'n_estimators': trial.suggest_int('n_estimators', 10, 50, 1),\n",
      "/var/folders/02/7p49pcn90q5ftb99dns9v18c0000gp/T/ipykernel_80721/4268162343.py:9: FutureWarning: suggest_int() got {'step'} as positional arguments but they were expected to be given as keyword arguments.\n",
      "Positional arguments ['self', 'name', 'low', 'high', 'step', 'log'] in suggest_int() have been deprecated since v3.5.0. They will be replaced with the corresponding keyword arguments in v5.0.0, so please use the keyword specification instead. See https://github.com/optuna/optuna/releases/tag/v3.5.0 for details.\n",
      "  'max_depth': trial.suggest_int('max_depth', 1, 20, 1),\n",
      "/var/folders/02/7p49pcn90q5ftb99dns9v18c0000gp/T/ipykernel_80721/4268162343.py:10: FutureWarning: suggest_int() got {'step'} as positional arguments but they were expected to be given as keyword arguments.\n",
      "Positional arguments ['self', 'name', 'low', 'high', 'step', 'log'] in suggest_int() have been deprecated since v3.5.0. They will be replaced with the corresponding keyword arguments in v5.0.0, so please use the keyword specification instead. See https://github.com/optuna/optuna/releases/tag/v3.5.0 for details.\n",
      "  'min_samples_split': trial.suggest_int('min_samples_split', 2, 10, 1),\n",
      "/var/folders/02/7p49pcn90q5ftb99dns9v18c0000gp/T/ipykernel_80721/4268162343.py:11: FutureWarning: suggest_int() got {'step'} as positional arguments but they were expected to be given as keyword arguments.\n",
      "Positional arguments ['self', 'name', 'low', 'high', 'step', 'log'] in suggest_int() have been deprecated since v3.5.0. They will be replaced with the corresponding keyword arguments in v5.0.0, so please use the keyword specification instead. See https://github.com/optuna/optuna/releases/tag/v3.5.0 for details.\n",
      "  'min_samples_leaf': trial.suggest_int('min_samples_leaf', 1, 4, 1),\n",
      "[I 2025-09-16 21:11:09,869] Trial 46 finished with value: 5.141031066162859 and parameters: {'n_estimators': 48, 'max_depth': 10, 'min_samples_split': 3, 'min_samples_leaf': 2}. Best is trial 45 with value: 5.031553590810261.\n"
     ]
    },
    {
     "name": "stdout",
     "output_type": "stream",
     "text": [
      "🏃 View run fearless-hawk-183 at: http://127.0.0.1:5000/#/experiments/2/runs/b3833d0081254a9ba3142e71b0f65ae5\n",
      "🧪 View experiment at: http://127.0.0.1:5000/#/experiments/2\n"
     ]
    },
    {
     "name": "stderr",
     "output_type": "stream",
     "text": [
      "/var/folders/02/7p49pcn90q5ftb99dns9v18c0000gp/T/ipykernel_80721/4268162343.py:8: FutureWarning: suggest_int() got {'step'} as positional arguments but they were expected to be given as keyword arguments.\n",
      "Positional arguments ['self', 'name', 'low', 'high', 'step', 'log'] in suggest_int() have been deprecated since v3.5.0. They will be replaced with the corresponding keyword arguments in v5.0.0, so please use the keyword specification instead. See https://github.com/optuna/optuna/releases/tag/v3.5.0 for details.\n",
      "  'n_estimators': trial.suggest_int('n_estimators', 10, 50, 1),\n",
      "/var/folders/02/7p49pcn90q5ftb99dns9v18c0000gp/T/ipykernel_80721/4268162343.py:9: FutureWarning: suggest_int() got {'step'} as positional arguments but they were expected to be given as keyword arguments.\n",
      "Positional arguments ['self', 'name', 'low', 'high', 'step', 'log'] in suggest_int() have been deprecated since v3.5.0. They will be replaced with the corresponding keyword arguments in v5.0.0, so please use the keyword specification instead. See https://github.com/optuna/optuna/releases/tag/v3.5.0 for details.\n",
      "  'max_depth': trial.suggest_int('max_depth', 1, 20, 1),\n",
      "/var/folders/02/7p49pcn90q5ftb99dns9v18c0000gp/T/ipykernel_80721/4268162343.py:10: FutureWarning: suggest_int() got {'step'} as positional arguments but they were expected to be given as keyword arguments.\n",
      "Positional arguments ['self', 'name', 'low', 'high', 'step', 'log'] in suggest_int() have been deprecated since v3.5.0. They will be replaced with the corresponding keyword arguments in v5.0.0, so please use the keyword specification instead. See https://github.com/optuna/optuna/releases/tag/v3.5.0 for details.\n",
      "  'min_samples_split': trial.suggest_int('min_samples_split', 2, 10, 1),\n",
      "/var/folders/02/7p49pcn90q5ftb99dns9v18c0000gp/T/ipykernel_80721/4268162343.py:11: FutureWarning: suggest_int() got {'step'} as positional arguments but they were expected to be given as keyword arguments.\n",
      "Positional arguments ['self', 'name', 'low', 'high', 'step', 'log'] in suggest_int() have been deprecated since v3.5.0. They will be replaced with the corresponding keyword arguments in v5.0.0, so please use the keyword specification instead. See https://github.com/optuna/optuna/releases/tag/v3.5.0 for details.\n",
      "  'min_samples_leaf': trial.suggest_int('min_samples_leaf', 1, 4, 1),\n",
      "[I 2025-09-16 21:11:10,253] Trial 47 finished with value: 5.031188551665347 and parameters: {'n_estimators': 50, 'max_depth': 14, 'min_samples_split': 4, 'min_samples_leaf': 2}. Best is trial 47 with value: 5.031188551665347.\n"
     ]
    },
    {
     "name": "stdout",
     "output_type": "stream",
     "text": [
      "🏃 View run incongruous-owl-672 at: http://127.0.0.1:5000/#/experiments/2/runs/0ccba9de0e634439ad1cf84481e87bfe\n",
      "🧪 View experiment at: http://127.0.0.1:5000/#/experiments/2\n"
     ]
    },
    {
     "name": "stderr",
     "output_type": "stream",
     "text": [
      "/var/folders/02/7p49pcn90q5ftb99dns9v18c0000gp/T/ipykernel_80721/4268162343.py:8: FutureWarning: suggest_int() got {'step'} as positional arguments but they were expected to be given as keyword arguments.\n",
      "Positional arguments ['self', 'name', 'low', 'high', 'step', 'log'] in suggest_int() have been deprecated since v3.5.0. They will be replaced with the corresponding keyword arguments in v5.0.0, so please use the keyword specification instead. See https://github.com/optuna/optuna/releases/tag/v3.5.0 for details.\n",
      "  'n_estimators': trial.suggest_int('n_estimators', 10, 50, 1),\n",
      "/var/folders/02/7p49pcn90q5ftb99dns9v18c0000gp/T/ipykernel_80721/4268162343.py:9: FutureWarning: suggest_int() got {'step'} as positional arguments but they were expected to be given as keyword arguments.\n",
      "Positional arguments ['self', 'name', 'low', 'high', 'step', 'log'] in suggest_int() have been deprecated since v3.5.0. They will be replaced with the corresponding keyword arguments in v5.0.0, so please use the keyword specification instead. See https://github.com/optuna/optuna/releases/tag/v3.5.0 for details.\n",
      "  'max_depth': trial.suggest_int('max_depth', 1, 20, 1),\n",
      "/var/folders/02/7p49pcn90q5ftb99dns9v18c0000gp/T/ipykernel_80721/4268162343.py:10: FutureWarning: suggest_int() got {'step'} as positional arguments but they were expected to be given as keyword arguments.\n",
      "Positional arguments ['self', 'name', 'low', 'high', 'step', 'log'] in suggest_int() have been deprecated since v3.5.0. They will be replaced with the corresponding keyword arguments in v5.0.0, so please use the keyword specification instead. See https://github.com/optuna/optuna/releases/tag/v3.5.0 for details.\n",
      "  'min_samples_split': trial.suggest_int('min_samples_split', 2, 10, 1),\n",
      "/var/folders/02/7p49pcn90q5ftb99dns9v18c0000gp/T/ipykernel_80721/4268162343.py:11: FutureWarning: suggest_int() got {'step'} as positional arguments but they were expected to be given as keyword arguments.\n",
      "Positional arguments ['self', 'name', 'low', 'high', 'step', 'log'] in suggest_int() have been deprecated since v3.5.0. They will be replaced with the corresponding keyword arguments in v5.0.0, so please use the keyword specification instead. See https://github.com/optuna/optuna/releases/tag/v3.5.0 for details.\n",
      "  'min_samples_leaf': trial.suggest_int('min_samples_leaf', 1, 4, 1),\n",
      "[I 2025-09-16 21:11:10,567] Trial 48 finished with value: 5.097565717677701 and parameters: {'n_estimators': 50, 'max_depth': 11, 'min_samples_split': 4, 'min_samples_leaf': 1}. Best is trial 47 with value: 5.031188551665347.\n"
     ]
    },
    {
     "name": "stdout",
     "output_type": "stream",
     "text": [
      "🏃 View run tasteful-ape-295 at: http://127.0.0.1:5000/#/experiments/2/runs/9bfc2d6595694a718a2a65d547645935\n",
      "🧪 View experiment at: http://127.0.0.1:5000/#/experiments/2\n"
     ]
    },
    {
     "name": "stderr",
     "output_type": "stream",
     "text": [
      "/var/folders/02/7p49pcn90q5ftb99dns9v18c0000gp/T/ipykernel_80721/4268162343.py:8: FutureWarning: suggest_int() got {'step'} as positional arguments but they were expected to be given as keyword arguments.\n",
      "Positional arguments ['self', 'name', 'low', 'high', 'step', 'log'] in suggest_int() have been deprecated since v3.5.0. They will be replaced with the corresponding keyword arguments in v5.0.0, so please use the keyword specification instead. See https://github.com/optuna/optuna/releases/tag/v3.5.0 for details.\n",
      "  'n_estimators': trial.suggest_int('n_estimators', 10, 50, 1),\n",
      "/var/folders/02/7p49pcn90q5ftb99dns9v18c0000gp/T/ipykernel_80721/4268162343.py:9: FutureWarning: suggest_int() got {'step'} as positional arguments but they were expected to be given as keyword arguments.\n",
      "Positional arguments ['self', 'name', 'low', 'high', 'step', 'log'] in suggest_int() have been deprecated since v3.5.0. They will be replaced with the corresponding keyword arguments in v5.0.0, so please use the keyword specification instead. See https://github.com/optuna/optuna/releases/tag/v3.5.0 for details.\n",
      "  'max_depth': trial.suggest_int('max_depth', 1, 20, 1),\n",
      "/var/folders/02/7p49pcn90q5ftb99dns9v18c0000gp/T/ipykernel_80721/4268162343.py:10: FutureWarning: suggest_int() got {'step'} as positional arguments but they were expected to be given as keyword arguments.\n",
      "Positional arguments ['self', 'name', 'low', 'high', 'step', 'log'] in suggest_int() have been deprecated since v3.5.0. They will be replaced with the corresponding keyword arguments in v5.0.0, so please use the keyword specification instead. See https://github.com/optuna/optuna/releases/tag/v3.5.0 for details.\n",
      "  'min_samples_split': trial.suggest_int('min_samples_split', 2, 10, 1),\n",
      "/var/folders/02/7p49pcn90q5ftb99dns9v18c0000gp/T/ipykernel_80721/4268162343.py:11: FutureWarning: suggest_int() got {'step'} as positional arguments but they were expected to be given as keyword arguments.\n",
      "Positional arguments ['self', 'name', 'low', 'high', 'step', 'log'] in suggest_int() have been deprecated since v3.5.0. They will be replaced with the corresponding keyword arguments in v5.0.0, so please use the keyword specification instead. See https://github.com/optuna/optuna/releases/tag/v3.5.0 for details.\n",
      "  'min_samples_leaf': trial.suggest_int('min_samples_leaf', 1, 4, 1),\n",
      "[I 2025-09-16 21:11:10,895] Trial 49 finished with value: 5.038494769996264 and parameters: {'n_estimators': 48, 'max_depth': 13, 'min_samples_split': 5, 'min_samples_leaf': 2}. Best is trial 47 with value: 5.031188551665347.\n"
     ]
    },
    {
     "name": "stdout",
     "output_type": "stream",
     "text": [
      "🏃 View run polite-croc-113 at: http://127.0.0.1:5000/#/experiments/2/runs/c2bf0d88952449c0bbfdf2a8a50bea38\n",
      "🧪 View experiment at: http://127.0.0.1:5000/#/experiments/2\n"
     ]
    },
    {
     "name": "stderr",
     "output_type": "stream",
     "text": [
      "/var/folders/02/7p49pcn90q5ftb99dns9v18c0000gp/T/ipykernel_80721/4268162343.py:8: FutureWarning: suggest_int() got {'step'} as positional arguments but they were expected to be given as keyword arguments.\n",
      "Positional arguments ['self', 'name', 'low', 'high', 'step', 'log'] in suggest_int() have been deprecated since v3.5.0. They will be replaced with the corresponding keyword arguments in v5.0.0, so please use the keyword specification instead. See https://github.com/optuna/optuna/releases/tag/v3.5.0 for details.\n",
      "  'n_estimators': trial.suggest_int('n_estimators', 10, 50, 1),\n",
      "/var/folders/02/7p49pcn90q5ftb99dns9v18c0000gp/T/ipykernel_80721/4268162343.py:9: FutureWarning: suggest_int() got {'step'} as positional arguments but they were expected to be given as keyword arguments.\n",
      "Positional arguments ['self', 'name', 'low', 'high', 'step', 'log'] in suggest_int() have been deprecated since v3.5.0. They will be replaced with the corresponding keyword arguments in v5.0.0, so please use the keyword specification instead. See https://github.com/optuna/optuna/releases/tag/v3.5.0 for details.\n",
      "  'max_depth': trial.suggest_int('max_depth', 1, 20, 1),\n",
      "/var/folders/02/7p49pcn90q5ftb99dns9v18c0000gp/T/ipykernel_80721/4268162343.py:10: FutureWarning: suggest_int() got {'step'} as positional arguments but they were expected to be given as keyword arguments.\n",
      "Positional arguments ['self', 'name', 'low', 'high', 'step', 'log'] in suggest_int() have been deprecated since v3.5.0. They will be replaced with the corresponding keyword arguments in v5.0.0, so please use the keyword specification instead. See https://github.com/optuna/optuna/releases/tag/v3.5.0 for details.\n",
      "  'min_samples_split': trial.suggest_int('min_samples_split', 2, 10, 1),\n",
      "/var/folders/02/7p49pcn90q5ftb99dns9v18c0000gp/T/ipykernel_80721/4268162343.py:11: FutureWarning: suggest_int() got {'step'} as positional arguments but they were expected to be given as keyword arguments.\n",
      "Positional arguments ['self', 'name', 'low', 'high', 'step', 'log'] in suggest_int() have been deprecated since v3.5.0. They will be replaced with the corresponding keyword arguments in v5.0.0, so please use the keyword specification instead. See https://github.com/optuna/optuna/releases/tag/v3.5.0 for details.\n",
      "  'min_samples_leaf': trial.suggest_int('min_samples_leaf', 1, 4, 1),\n",
      "[I 2025-09-16 21:11:11,223] Trial 50 finished with value: 5.033765953934092 and parameters: {'n_estimators': 45, 'max_depth': 14, 'min_samples_split': 4, 'min_samples_leaf': 2}. Best is trial 47 with value: 5.031188551665347.\n"
     ]
    },
    {
     "name": "stdout",
     "output_type": "stream",
     "text": [
      "🏃 View run inquisitive-fish-682 at: http://127.0.0.1:5000/#/experiments/2/runs/68207e8b280f46658585c3fe91d9d7c2\n",
      "🧪 View experiment at: http://127.0.0.1:5000/#/experiments/2\n"
     ]
    },
    {
     "name": "stderr",
     "output_type": "stream",
     "text": [
      "/var/folders/02/7p49pcn90q5ftb99dns9v18c0000gp/T/ipykernel_80721/4268162343.py:8: FutureWarning: suggest_int() got {'step'} as positional arguments but they were expected to be given as keyword arguments.\n",
      "Positional arguments ['self', 'name', 'low', 'high', 'step', 'log'] in suggest_int() have been deprecated since v3.5.0. They will be replaced with the corresponding keyword arguments in v5.0.0, so please use the keyword specification instead. See https://github.com/optuna/optuna/releases/tag/v3.5.0 for details.\n",
      "  'n_estimators': trial.suggest_int('n_estimators', 10, 50, 1),\n",
      "/var/folders/02/7p49pcn90q5ftb99dns9v18c0000gp/T/ipykernel_80721/4268162343.py:9: FutureWarning: suggest_int() got {'step'} as positional arguments but they were expected to be given as keyword arguments.\n",
      "Positional arguments ['self', 'name', 'low', 'high', 'step', 'log'] in suggest_int() have been deprecated since v3.5.0. They will be replaced with the corresponding keyword arguments in v5.0.0, so please use the keyword specification instead. See https://github.com/optuna/optuna/releases/tag/v3.5.0 for details.\n",
      "  'max_depth': trial.suggest_int('max_depth', 1, 20, 1),\n",
      "/var/folders/02/7p49pcn90q5ftb99dns9v18c0000gp/T/ipykernel_80721/4268162343.py:10: FutureWarning: suggest_int() got {'step'} as positional arguments but they were expected to be given as keyword arguments.\n",
      "Positional arguments ['self', 'name', 'low', 'high', 'step', 'log'] in suggest_int() have been deprecated since v3.5.0. They will be replaced with the corresponding keyword arguments in v5.0.0, so please use the keyword specification instead. See https://github.com/optuna/optuna/releases/tag/v3.5.0 for details.\n",
      "  'min_samples_split': trial.suggest_int('min_samples_split', 2, 10, 1),\n",
      "/var/folders/02/7p49pcn90q5ftb99dns9v18c0000gp/T/ipykernel_80721/4268162343.py:11: FutureWarning: suggest_int() got {'step'} as positional arguments but they were expected to be given as keyword arguments.\n",
      "Positional arguments ['self', 'name', 'low', 'high', 'step', 'log'] in suggest_int() have been deprecated since v3.5.0. They will be replaced with the corresponding keyword arguments in v5.0.0, so please use the keyword specification instead. See https://github.com/optuna/optuna/releases/tag/v3.5.0 for details.\n",
      "  'min_samples_leaf': trial.suggest_int('min_samples_leaf', 1, 4, 1),\n",
      "[I 2025-09-16 21:11:11,575] Trial 51 finished with value: 5.031102834148256 and parameters: {'n_estimators': 48, 'max_depth': 14, 'min_samples_split': 3, 'min_samples_leaf': 2}. Best is trial 51 with value: 5.031102834148256.\n"
     ]
    },
    {
     "name": "stdout",
     "output_type": "stream",
     "text": [
      "🏃 View run upset-wasp-586 at: http://127.0.0.1:5000/#/experiments/2/runs/d1f8c2174a154e6e9302c17bfed8431d\n",
      "🧪 View experiment at: http://127.0.0.1:5000/#/experiments/2\n"
     ]
    },
    {
     "name": "stderr",
     "output_type": "stream",
     "text": [
      "/var/folders/02/7p49pcn90q5ftb99dns9v18c0000gp/T/ipykernel_80721/4268162343.py:8: FutureWarning: suggest_int() got {'step'} as positional arguments but they were expected to be given as keyword arguments.\n",
      "Positional arguments ['self', 'name', 'low', 'high', 'step', 'log'] in suggest_int() have been deprecated since v3.5.0. They will be replaced with the corresponding keyword arguments in v5.0.0, so please use the keyword specification instead. See https://github.com/optuna/optuna/releases/tag/v3.5.0 for details.\n",
      "  'n_estimators': trial.suggest_int('n_estimators', 10, 50, 1),\n",
      "/var/folders/02/7p49pcn90q5ftb99dns9v18c0000gp/T/ipykernel_80721/4268162343.py:9: FutureWarning: suggest_int() got {'step'} as positional arguments but they were expected to be given as keyword arguments.\n",
      "Positional arguments ['self', 'name', 'low', 'high', 'step', 'log'] in suggest_int() have been deprecated since v3.5.0. They will be replaced with the corresponding keyword arguments in v5.0.0, so please use the keyword specification instead. See https://github.com/optuna/optuna/releases/tag/v3.5.0 for details.\n",
      "  'max_depth': trial.suggest_int('max_depth', 1, 20, 1),\n",
      "/var/folders/02/7p49pcn90q5ftb99dns9v18c0000gp/T/ipykernel_80721/4268162343.py:10: FutureWarning: suggest_int() got {'step'} as positional arguments but they were expected to be given as keyword arguments.\n",
      "Positional arguments ['self', 'name', 'low', 'high', 'step', 'log'] in suggest_int() have been deprecated since v3.5.0. They will be replaced with the corresponding keyword arguments in v5.0.0, so please use the keyword specification instead. See https://github.com/optuna/optuna/releases/tag/v3.5.0 for details.\n",
      "  'min_samples_split': trial.suggest_int('min_samples_split', 2, 10, 1),\n",
      "/var/folders/02/7p49pcn90q5ftb99dns9v18c0000gp/T/ipykernel_80721/4268162343.py:11: FutureWarning: suggest_int() got {'step'} as positional arguments but they were expected to be given as keyword arguments.\n",
      "Positional arguments ['self', 'name', 'low', 'high', 'step', 'log'] in suggest_int() have been deprecated since v3.5.0. They will be replaced with the corresponding keyword arguments in v5.0.0, so please use the keyword specification instead. See https://github.com/optuna/optuna/releases/tag/v3.5.0 for details.\n",
      "  'min_samples_leaf': trial.suggest_int('min_samples_leaf', 1, 4, 1),\n",
      "[I 2025-09-16 21:11:11,883] Trial 52 finished with value: 5.060899866657002 and parameters: {'n_estimators': 50, 'max_depth': 12, 'min_samples_split': 3, 'min_samples_leaf': 2}. Best is trial 51 with value: 5.031102834148256.\n"
     ]
    },
    {
     "name": "stdout",
     "output_type": "stream",
     "text": [
      "🏃 View run brawny-moth-512 at: http://127.0.0.1:5000/#/experiments/2/runs/8ccb681e77974362baac00ba6fdb5cab\n",
      "🧪 View experiment at: http://127.0.0.1:5000/#/experiments/2\n"
     ]
    },
    {
     "name": "stderr",
     "output_type": "stream",
     "text": [
      "/var/folders/02/7p49pcn90q5ftb99dns9v18c0000gp/T/ipykernel_80721/4268162343.py:8: FutureWarning: suggest_int() got {'step'} as positional arguments but they were expected to be given as keyword arguments.\n",
      "Positional arguments ['self', 'name', 'low', 'high', 'step', 'log'] in suggest_int() have been deprecated since v3.5.0. They will be replaced with the corresponding keyword arguments in v5.0.0, so please use the keyword specification instead. See https://github.com/optuna/optuna/releases/tag/v3.5.0 for details.\n",
      "  'n_estimators': trial.suggest_int('n_estimators', 10, 50, 1),\n",
      "/var/folders/02/7p49pcn90q5ftb99dns9v18c0000gp/T/ipykernel_80721/4268162343.py:9: FutureWarning: suggest_int() got {'step'} as positional arguments but they were expected to be given as keyword arguments.\n",
      "Positional arguments ['self', 'name', 'low', 'high', 'step', 'log'] in suggest_int() have been deprecated since v3.5.0. They will be replaced with the corresponding keyword arguments in v5.0.0, so please use the keyword specification instead. See https://github.com/optuna/optuna/releases/tag/v3.5.0 for details.\n",
      "  'max_depth': trial.suggest_int('max_depth', 1, 20, 1),\n",
      "/var/folders/02/7p49pcn90q5ftb99dns9v18c0000gp/T/ipykernel_80721/4268162343.py:10: FutureWarning: suggest_int() got {'step'} as positional arguments but they were expected to be given as keyword arguments.\n",
      "Positional arguments ['self', 'name', 'low', 'high', 'step', 'log'] in suggest_int() have been deprecated since v3.5.0. They will be replaced with the corresponding keyword arguments in v5.0.0, so please use the keyword specification instead. See https://github.com/optuna/optuna/releases/tag/v3.5.0 for details.\n",
      "  'min_samples_split': trial.suggest_int('min_samples_split', 2, 10, 1),\n",
      "/var/folders/02/7p49pcn90q5ftb99dns9v18c0000gp/T/ipykernel_80721/4268162343.py:11: FutureWarning: suggest_int() got {'step'} as positional arguments but they were expected to be given as keyword arguments.\n",
      "Positional arguments ['self', 'name', 'low', 'high', 'step', 'log'] in suggest_int() have been deprecated since v3.5.0. They will be replaced with the corresponding keyword arguments in v5.0.0, so please use the keyword specification instead. See https://github.com/optuna/optuna/releases/tag/v3.5.0 for details.\n",
      "  'min_samples_leaf': trial.suggest_int('min_samples_leaf', 1, 4, 1),\n",
      "[I 2025-09-16 21:11:12,205] Trial 53 finished with value: 5.029493214413444 and parameters: {'n_estimators': 48, 'max_depth': 14, 'min_samples_split': 5, 'min_samples_leaf': 2}. Best is trial 53 with value: 5.029493214413444.\n",
      "/var/folders/02/7p49pcn90q5ftb99dns9v18c0000gp/T/ipykernel_80721/4268162343.py:8: FutureWarning: suggest_int() got {'step'} as positional arguments but they were expected to be given as keyword arguments.\n",
      "Positional arguments ['self', 'name', 'low', 'high', 'step', 'log'] in suggest_int() have been deprecated since v3.5.0. They will be replaced with the corresponding keyword arguments in v5.0.0, so please use the keyword specification instead. See https://github.com/optuna/optuna/releases/tag/v3.5.0 for details.\n",
      "  'n_estimators': trial.suggest_int('n_estimators', 10, 50, 1),\n",
      "/var/folders/02/7p49pcn90q5ftb99dns9v18c0000gp/T/ipykernel_80721/4268162343.py:9: FutureWarning: suggest_int() got {'step'} as positional arguments but they were expected to be given as keyword arguments.\n",
      "Positional arguments ['self', 'name', 'low', 'high', 'step', 'log'] in suggest_int() have been deprecated since v3.5.0. They will be replaced with the corresponding keyword arguments in v5.0.0, so please use the keyword specification instead. See https://github.com/optuna/optuna/releases/tag/v3.5.0 for details.\n",
      "  'max_depth': trial.suggest_int('max_depth', 1, 20, 1),\n",
      "/var/folders/02/7p49pcn90q5ftb99dns9v18c0000gp/T/ipykernel_80721/4268162343.py:10: FutureWarning: suggest_int() got {'step'} as positional arguments but they were expected to be given as keyword arguments.\n",
      "Positional arguments ['self', 'name', 'low', 'high', 'step', 'log'] in suggest_int() have been deprecated since v3.5.0. They will be replaced with the corresponding keyword arguments in v5.0.0, so please use the keyword specification instead. See https://github.com/optuna/optuna/releases/tag/v3.5.0 for details.\n",
      "  'min_samples_split': trial.suggest_int('min_samples_split', 2, 10, 1),\n",
      "/var/folders/02/7p49pcn90q5ftb99dns9v18c0000gp/T/ipykernel_80721/4268162343.py:11: FutureWarning: suggest_int() got {'step'} as positional arguments but they were expected to be given as keyword arguments.\n",
      "Positional arguments ['self', 'name', 'low', 'high', 'step', 'log'] in suggest_int() have been deprecated since v3.5.0. They will be replaced with the corresponding keyword arguments in v5.0.0, so please use the keyword specification instead. See https://github.com/optuna/optuna/releases/tag/v3.5.0 for details.\n",
      "  'min_samples_leaf': trial.suggest_int('min_samples_leaf', 1, 4, 1),\n",
      "[I 2025-09-16 21:11:12,365] Trial 54 finished with value: 5.059987865831687 and parameters: {'n_estimators': 19, 'max_depth': 13, 'min_samples_split': 5, 'min_samples_leaf': 2}. Best is trial 53 with value: 5.029493214413444.\n"
     ]
    },
    {
     "name": "stdout",
     "output_type": "stream",
     "text": [
      "🏃 View run stately-dove-727 at: http://127.0.0.1:5000/#/experiments/2/runs/834fc7d7a23b4ee7b9673d45213fb666\n",
      "🧪 View experiment at: http://127.0.0.1:5000/#/experiments/2\n",
      "🏃 View run grandiose-robin-113 at: http://127.0.0.1:5000/#/experiments/2/runs/43c051bf2397424e9f68c5315f910d4f\n",
      "🧪 View experiment at: http://127.0.0.1:5000/#/experiments/2\n"
     ]
    },
    {
     "name": "stderr",
     "output_type": "stream",
     "text": [
      "/var/folders/02/7p49pcn90q5ftb99dns9v18c0000gp/T/ipykernel_80721/4268162343.py:8: FutureWarning: suggest_int() got {'step'} as positional arguments but they were expected to be given as keyword arguments.\n",
      "Positional arguments ['self', 'name', 'low', 'high', 'step', 'log'] in suggest_int() have been deprecated since v3.5.0. They will be replaced with the corresponding keyword arguments in v5.0.0, so please use the keyword specification instead. See https://github.com/optuna/optuna/releases/tag/v3.5.0 for details.\n",
      "  'n_estimators': trial.suggest_int('n_estimators', 10, 50, 1),\n",
      "/var/folders/02/7p49pcn90q5ftb99dns9v18c0000gp/T/ipykernel_80721/4268162343.py:9: FutureWarning: suggest_int() got {'step'} as positional arguments but they were expected to be given as keyword arguments.\n",
      "Positional arguments ['self', 'name', 'low', 'high', 'step', 'log'] in suggest_int() have been deprecated since v3.5.0. They will be replaced with the corresponding keyword arguments in v5.0.0, so please use the keyword specification instead. See https://github.com/optuna/optuna/releases/tag/v3.5.0 for details.\n",
      "  'max_depth': trial.suggest_int('max_depth', 1, 20, 1),\n",
      "/var/folders/02/7p49pcn90q5ftb99dns9v18c0000gp/T/ipykernel_80721/4268162343.py:10: FutureWarning: suggest_int() got {'step'} as positional arguments but they were expected to be given as keyword arguments.\n",
      "Positional arguments ['self', 'name', 'low', 'high', 'step', 'log'] in suggest_int() have been deprecated since v3.5.0. They will be replaced with the corresponding keyword arguments in v5.0.0, so please use the keyword specification instead. See https://github.com/optuna/optuna/releases/tag/v3.5.0 for details.\n",
      "  'min_samples_split': trial.suggest_int('min_samples_split', 2, 10, 1),\n",
      "/var/folders/02/7p49pcn90q5ftb99dns9v18c0000gp/T/ipykernel_80721/4268162343.py:11: FutureWarning: suggest_int() got {'step'} as positional arguments but they were expected to be given as keyword arguments.\n",
      "Positional arguments ['self', 'name', 'low', 'high', 'step', 'log'] in suggest_int() have been deprecated since v3.5.0. They will be replaced with the corresponding keyword arguments in v5.0.0, so please use the keyword specification instead. See https://github.com/optuna/optuna/releases/tag/v3.5.0 for details.\n",
      "  'min_samples_leaf': trial.suggest_int('min_samples_leaf', 1, 4, 1),\n",
      "[I 2025-09-16 21:11:12,692] Trial 55 finished with value: 5.031102834148256 and parameters: {'n_estimators': 48, 'max_depth': 14, 'min_samples_split': 4, 'min_samples_leaf': 2}. Best is trial 53 with value: 5.029493214413444.\n"
     ]
    },
    {
     "name": "stdout",
     "output_type": "stream",
     "text": [
      "🏃 View run casual-seal-187 at: http://127.0.0.1:5000/#/experiments/2/runs/224b204f8f6e4e469a7d24a592fd8a3d\n",
      "🧪 View experiment at: http://127.0.0.1:5000/#/experiments/2\n"
     ]
    },
    {
     "name": "stderr",
     "output_type": "stream",
     "text": [
      "/var/folders/02/7p49pcn90q5ftb99dns9v18c0000gp/T/ipykernel_80721/4268162343.py:8: FutureWarning: suggest_int() got {'step'} as positional arguments but they were expected to be given as keyword arguments.\n",
      "Positional arguments ['self', 'name', 'low', 'high', 'step', 'log'] in suggest_int() have been deprecated since v3.5.0. They will be replaced with the corresponding keyword arguments in v5.0.0, so please use the keyword specification instead. See https://github.com/optuna/optuna/releases/tag/v3.5.0 for details.\n",
      "  'n_estimators': trial.suggest_int('n_estimators', 10, 50, 1),\n",
      "/var/folders/02/7p49pcn90q5ftb99dns9v18c0000gp/T/ipykernel_80721/4268162343.py:9: FutureWarning: suggest_int() got {'step'} as positional arguments but they were expected to be given as keyword arguments.\n",
      "Positional arguments ['self', 'name', 'low', 'high', 'step', 'log'] in suggest_int() have been deprecated since v3.5.0. They will be replaced with the corresponding keyword arguments in v5.0.0, so please use the keyword specification instead. See https://github.com/optuna/optuna/releases/tag/v3.5.0 for details.\n",
      "  'max_depth': trial.suggest_int('max_depth', 1, 20, 1),\n",
      "/var/folders/02/7p49pcn90q5ftb99dns9v18c0000gp/T/ipykernel_80721/4268162343.py:10: FutureWarning: suggest_int() got {'step'} as positional arguments but they were expected to be given as keyword arguments.\n",
      "Positional arguments ['self', 'name', 'low', 'high', 'step', 'log'] in suggest_int() have been deprecated since v3.5.0. They will be replaced with the corresponding keyword arguments in v5.0.0, so please use the keyword specification instead. See https://github.com/optuna/optuna/releases/tag/v3.5.0 for details.\n",
      "  'min_samples_split': trial.suggest_int('min_samples_split', 2, 10, 1),\n",
      "/var/folders/02/7p49pcn90q5ftb99dns9v18c0000gp/T/ipykernel_80721/4268162343.py:11: FutureWarning: suggest_int() got {'step'} as positional arguments but they were expected to be given as keyword arguments.\n",
      "Positional arguments ['self', 'name', 'low', 'high', 'step', 'log'] in suggest_int() have been deprecated since v3.5.0. They will be replaced with the corresponding keyword arguments in v5.0.0, so please use the keyword specification instead. See https://github.com/optuna/optuna/releases/tag/v3.5.0 for details.\n",
      "  'min_samples_leaf': trial.suggest_int('min_samples_leaf', 1, 4, 1),\n",
      "[I 2025-09-16 21:11:13,014] Trial 56 finished with value: 5.029493214413444 and parameters: {'n_estimators': 48, 'max_depth': 14, 'min_samples_split': 5, 'min_samples_leaf': 2}. Best is trial 53 with value: 5.029493214413444.\n",
      "/var/folders/02/7p49pcn90q5ftb99dns9v18c0000gp/T/ipykernel_80721/4268162343.py:8: FutureWarning: suggest_int() got {'step'} as positional arguments but they were expected to be given as keyword arguments.\n",
      "Positional arguments ['self', 'name', 'low', 'high', 'step', 'log'] in suggest_int() have been deprecated since v3.5.0. They will be replaced with the corresponding keyword arguments in v5.0.0, so please use the keyword specification instead. See https://github.com/optuna/optuna/releases/tag/v3.5.0 for details.\n",
      "  'n_estimators': trial.suggest_int('n_estimators', 10, 50, 1),\n",
      "/var/folders/02/7p49pcn90q5ftb99dns9v18c0000gp/T/ipykernel_80721/4268162343.py:9: FutureWarning: suggest_int() got {'step'} as positional arguments but they were expected to be given as keyword arguments.\n",
      "Positional arguments ['self', 'name', 'low', 'high', 'step', 'log'] in suggest_int() have been deprecated since v3.5.0. They will be replaced with the corresponding keyword arguments in v5.0.0, so please use the keyword specification instead. See https://github.com/optuna/optuna/releases/tag/v3.5.0 for details.\n",
      "  'max_depth': trial.suggest_int('max_depth', 1, 20, 1),\n",
      "/var/folders/02/7p49pcn90q5ftb99dns9v18c0000gp/T/ipykernel_80721/4268162343.py:10: FutureWarning: suggest_int() got {'step'} as positional arguments but they were expected to be given as keyword arguments.\n",
      "Positional arguments ['self', 'name', 'low', 'high', 'step', 'log'] in suggest_int() have been deprecated since v3.5.0. They will be replaced with the corresponding keyword arguments in v5.0.0, so please use the keyword specification instead. See https://github.com/optuna/optuna/releases/tag/v3.5.0 for details.\n",
      "  'min_samples_split': trial.suggest_int('min_samples_split', 2, 10, 1),\n",
      "/var/folders/02/7p49pcn90q5ftb99dns9v18c0000gp/T/ipykernel_80721/4268162343.py:11: FutureWarning: suggest_int() got {'step'} as positional arguments but they were expected to be given as keyword arguments.\n",
      "Positional arguments ['self', 'name', 'low', 'high', 'step', 'log'] in suggest_int() have been deprecated since v3.5.0. They will be replaced with the corresponding keyword arguments in v5.0.0, so please use the keyword specification instead. See https://github.com/optuna/optuna/releases/tag/v3.5.0 for details.\n",
      "  'min_samples_leaf': trial.suggest_int('min_samples_leaf', 1, 4, 1),\n",
      "[I 2025-09-16 21:11:13,123] Trial 57 finished with value: 5.118058952031669 and parameters: {'n_estimators': 11, 'max_depth': 12, 'min_samples_split': 6, 'min_samples_leaf': 1}. Best is trial 53 with value: 5.029493214413444.\n"
     ]
    },
    {
     "name": "stdout",
     "output_type": "stream",
     "text": [
      "🏃 View run unruly-pig-957 at: http://127.0.0.1:5000/#/experiments/2/runs/4afbbed854cc4532831ffb07c456b764\n",
      "🧪 View experiment at: http://127.0.0.1:5000/#/experiments/2\n",
      "🏃 View run melodic-shoat-5 at: http://127.0.0.1:5000/#/experiments/2/runs/82887d8b09d24e6ab90588c078f6906e\n",
      "🧪 View experiment at: http://127.0.0.1:5000/#/experiments/2\n"
     ]
    },
    {
     "name": "stderr",
     "output_type": "stream",
     "text": [
      "/var/folders/02/7p49pcn90q5ftb99dns9v18c0000gp/T/ipykernel_80721/4268162343.py:8: FutureWarning: suggest_int() got {'step'} as positional arguments but they were expected to be given as keyword arguments.\n",
      "Positional arguments ['self', 'name', 'low', 'high', 'step', 'log'] in suggest_int() have been deprecated since v3.5.0. They will be replaced with the corresponding keyword arguments in v5.0.0, so please use the keyword specification instead. See https://github.com/optuna/optuna/releases/tag/v3.5.0 for details.\n",
      "  'n_estimators': trial.suggest_int('n_estimators', 10, 50, 1),\n",
      "/var/folders/02/7p49pcn90q5ftb99dns9v18c0000gp/T/ipykernel_80721/4268162343.py:9: FutureWarning: suggest_int() got {'step'} as positional arguments but they were expected to be given as keyword arguments.\n",
      "Positional arguments ['self', 'name', 'low', 'high', 'step', 'log'] in suggest_int() have been deprecated since v3.5.0. They will be replaced with the corresponding keyword arguments in v5.0.0, so please use the keyword specification instead. See https://github.com/optuna/optuna/releases/tag/v3.5.0 for details.\n",
      "  'max_depth': trial.suggest_int('max_depth', 1, 20, 1),\n",
      "/var/folders/02/7p49pcn90q5ftb99dns9v18c0000gp/T/ipykernel_80721/4268162343.py:10: FutureWarning: suggest_int() got {'step'} as positional arguments but they were expected to be given as keyword arguments.\n",
      "Positional arguments ['self', 'name', 'low', 'high', 'step', 'log'] in suggest_int() have been deprecated since v3.5.0. They will be replaced with the corresponding keyword arguments in v5.0.0, so please use the keyword specification instead. See https://github.com/optuna/optuna/releases/tag/v3.5.0 for details.\n",
      "  'min_samples_split': trial.suggest_int('min_samples_split', 2, 10, 1),\n",
      "/var/folders/02/7p49pcn90q5ftb99dns9v18c0000gp/T/ipykernel_80721/4268162343.py:11: FutureWarning: suggest_int() got {'step'} as positional arguments but they were expected to be given as keyword arguments.\n",
      "Positional arguments ['self', 'name', 'low', 'high', 'step', 'log'] in suggest_int() have been deprecated since v3.5.0. They will be replaced with the corresponding keyword arguments in v5.0.0, so please use the keyword specification instead. See https://github.com/optuna/optuna/releases/tag/v3.5.0 for details.\n",
      "  'min_samples_leaf': trial.suggest_int('min_samples_leaf', 1, 4, 1),\n",
      "[I 2025-09-16 21:11:13,487] Trial 58 finished with value: 5.0462669081800415 and parameters: {'n_estimators': 48, 'max_depth': 17, 'min_samples_split': 5, 'min_samples_leaf': 2}. Best is trial 53 with value: 5.029493214413444.\n"
     ]
    },
    {
     "name": "stdout",
     "output_type": "stream",
     "text": [
      "🏃 View run adorable-goat-611 at: http://127.0.0.1:5000/#/experiments/2/runs/3449cc6edda349d2a21642b9e872117d\n",
      "🧪 View experiment at: http://127.0.0.1:5000/#/experiments/2\n"
     ]
    },
    {
     "name": "stderr",
     "output_type": "stream",
     "text": [
      "/var/folders/02/7p49pcn90q5ftb99dns9v18c0000gp/T/ipykernel_80721/4268162343.py:8: FutureWarning: suggest_int() got {'step'} as positional arguments but they were expected to be given as keyword arguments.\n",
      "Positional arguments ['self', 'name', 'low', 'high', 'step', 'log'] in suggest_int() have been deprecated since v3.5.0. They will be replaced with the corresponding keyword arguments in v5.0.0, so please use the keyword specification instead. See https://github.com/optuna/optuna/releases/tag/v3.5.0 for details.\n",
      "  'n_estimators': trial.suggest_int('n_estimators', 10, 50, 1),\n",
      "/var/folders/02/7p49pcn90q5ftb99dns9v18c0000gp/T/ipykernel_80721/4268162343.py:9: FutureWarning: suggest_int() got {'step'} as positional arguments but they were expected to be given as keyword arguments.\n",
      "Positional arguments ['self', 'name', 'low', 'high', 'step', 'log'] in suggest_int() have been deprecated since v3.5.0. They will be replaced with the corresponding keyword arguments in v5.0.0, so please use the keyword specification instead. See https://github.com/optuna/optuna/releases/tag/v3.5.0 for details.\n",
      "  'max_depth': trial.suggest_int('max_depth', 1, 20, 1),\n",
      "/var/folders/02/7p49pcn90q5ftb99dns9v18c0000gp/T/ipykernel_80721/4268162343.py:10: FutureWarning: suggest_int() got {'step'} as positional arguments but they were expected to be given as keyword arguments.\n",
      "Positional arguments ['self', 'name', 'low', 'high', 'step', 'log'] in suggest_int() have been deprecated since v3.5.0. They will be replaced with the corresponding keyword arguments in v5.0.0, so please use the keyword specification instead. See https://github.com/optuna/optuna/releases/tag/v3.5.0 for details.\n",
      "  'min_samples_split': trial.suggest_int('min_samples_split', 2, 10, 1),\n",
      "/var/folders/02/7p49pcn90q5ftb99dns9v18c0000gp/T/ipykernel_80721/4268162343.py:11: FutureWarning: suggest_int() got {'step'} as positional arguments but they were expected to be given as keyword arguments.\n",
      "Positional arguments ['self', 'name', 'low', 'high', 'step', 'log'] in suggest_int() have been deprecated since v3.5.0. They will be replaced with the corresponding keyword arguments in v5.0.0, so please use the keyword specification instead. See https://github.com/optuna/optuna/releases/tag/v3.5.0 for details.\n",
      "  'min_samples_leaf': trial.suggest_int('min_samples_leaf', 1, 4, 1),\n",
      "[I 2025-09-16 21:11:13,746] Trial 59 finished with value: 5.095778256380355 and parameters: {'n_estimators': 44, 'max_depth': 11, 'min_samples_split': 6, 'min_samples_leaf': 2}. Best is trial 53 with value: 5.029493214413444.\n"
     ]
    },
    {
     "name": "stdout",
     "output_type": "stream",
     "text": [
      "🏃 View run bold-lark-604 at: http://127.0.0.1:5000/#/experiments/2/runs/e9062dbee4f4425dae6360f675b3a6ef\n",
      "🧪 View experiment at: http://127.0.0.1:5000/#/experiments/2\n"
     ]
    },
    {
     "name": "stderr",
     "output_type": "stream",
     "text": [
      "/var/folders/02/7p49pcn90q5ftb99dns9v18c0000gp/T/ipykernel_80721/4268162343.py:8: FutureWarning: suggest_int() got {'step'} as positional arguments but they were expected to be given as keyword arguments.\n",
      "Positional arguments ['self', 'name', 'low', 'high', 'step', 'log'] in suggest_int() have been deprecated since v3.5.0. They will be replaced with the corresponding keyword arguments in v5.0.0, so please use the keyword specification instead. See https://github.com/optuna/optuna/releases/tag/v3.5.0 for details.\n",
      "  'n_estimators': trial.suggest_int('n_estimators', 10, 50, 1),\n",
      "/var/folders/02/7p49pcn90q5ftb99dns9v18c0000gp/T/ipykernel_80721/4268162343.py:9: FutureWarning: suggest_int() got {'step'} as positional arguments but they were expected to be given as keyword arguments.\n",
      "Positional arguments ['self', 'name', 'low', 'high', 'step', 'log'] in suggest_int() have been deprecated since v3.5.0. They will be replaced with the corresponding keyword arguments in v5.0.0, so please use the keyword specification instead. See https://github.com/optuna/optuna/releases/tag/v3.5.0 for details.\n",
      "  'max_depth': trial.suggest_int('max_depth', 1, 20, 1),\n",
      "/var/folders/02/7p49pcn90q5ftb99dns9v18c0000gp/T/ipykernel_80721/4268162343.py:10: FutureWarning: suggest_int() got {'step'} as positional arguments but they were expected to be given as keyword arguments.\n",
      "Positional arguments ['self', 'name', 'low', 'high', 'step', 'log'] in suggest_int() have been deprecated since v3.5.0. They will be replaced with the corresponding keyword arguments in v5.0.0, so please use the keyword specification instead. See https://github.com/optuna/optuna/releases/tag/v3.5.0 for details.\n",
      "  'min_samples_split': trial.suggest_int('min_samples_split', 2, 10, 1),\n",
      "/var/folders/02/7p49pcn90q5ftb99dns9v18c0000gp/T/ipykernel_80721/4268162343.py:11: FutureWarning: suggest_int() got {'step'} as positional arguments but they were expected to be given as keyword arguments.\n",
      "Positional arguments ['self', 'name', 'low', 'high', 'step', 'log'] in suggest_int() have been deprecated since v3.5.0. They will be replaced with the corresponding keyword arguments in v5.0.0, so please use the keyword specification instead. See https://github.com/optuna/optuna/releases/tag/v3.5.0 for details.\n",
      "  'min_samples_leaf': trial.suggest_int('min_samples_leaf', 1, 4, 1),\n",
      "[I 2025-09-16 21:11:13,977] Trial 60 finished with value: 5.204914842791032 and parameters: {'n_estimators': 42, 'max_depth': 9, 'min_samples_split': 5, 'min_samples_leaf': 2}. Best is trial 53 with value: 5.029493214413444.\n"
     ]
    },
    {
     "name": "stdout",
     "output_type": "stream",
     "text": [
      "🏃 View run adorable-boar-241 at: http://127.0.0.1:5000/#/experiments/2/runs/da75edc002384c2d86c1f538aa26ccca\n",
      "🧪 View experiment at: http://127.0.0.1:5000/#/experiments/2\n"
     ]
    },
    {
     "name": "stderr",
     "output_type": "stream",
     "text": [
      "/var/folders/02/7p49pcn90q5ftb99dns9v18c0000gp/T/ipykernel_80721/4268162343.py:8: FutureWarning: suggest_int() got {'step'} as positional arguments but they were expected to be given as keyword arguments.\n",
      "Positional arguments ['self', 'name', 'low', 'high', 'step', 'log'] in suggest_int() have been deprecated since v3.5.0. They will be replaced with the corresponding keyword arguments in v5.0.0, so please use the keyword specification instead. See https://github.com/optuna/optuna/releases/tag/v3.5.0 for details.\n",
      "  'n_estimators': trial.suggest_int('n_estimators', 10, 50, 1),\n",
      "/var/folders/02/7p49pcn90q5ftb99dns9v18c0000gp/T/ipykernel_80721/4268162343.py:9: FutureWarning: suggest_int() got {'step'} as positional arguments but they were expected to be given as keyword arguments.\n",
      "Positional arguments ['self', 'name', 'low', 'high', 'step', 'log'] in suggest_int() have been deprecated since v3.5.0. They will be replaced with the corresponding keyword arguments in v5.0.0, so please use the keyword specification instead. See https://github.com/optuna/optuna/releases/tag/v3.5.0 for details.\n",
      "  'max_depth': trial.suggest_int('max_depth', 1, 20, 1),\n",
      "/var/folders/02/7p49pcn90q5ftb99dns9v18c0000gp/T/ipykernel_80721/4268162343.py:10: FutureWarning: suggest_int() got {'step'} as positional arguments but they were expected to be given as keyword arguments.\n",
      "Positional arguments ['self', 'name', 'low', 'high', 'step', 'log'] in suggest_int() have been deprecated since v3.5.0. They will be replaced with the corresponding keyword arguments in v5.0.0, so please use the keyword specification instead. See https://github.com/optuna/optuna/releases/tag/v3.5.0 for details.\n",
      "  'min_samples_split': trial.suggest_int('min_samples_split', 2, 10, 1),\n",
      "/var/folders/02/7p49pcn90q5ftb99dns9v18c0000gp/T/ipykernel_80721/4268162343.py:11: FutureWarning: suggest_int() got {'step'} as positional arguments but they were expected to be given as keyword arguments.\n",
      "Positional arguments ['self', 'name', 'low', 'high', 'step', 'log'] in suggest_int() have been deprecated since v3.5.0. They will be replaced with the corresponding keyword arguments in v5.0.0, so please use the keyword specification instead. See https://github.com/optuna/optuna/releases/tag/v3.5.0 for details.\n",
      "  'min_samples_leaf': trial.suggest_int('min_samples_leaf', 1, 4, 1),\n",
      "[I 2025-09-16 21:11:14,325] Trial 61 finished with value: 5.031102834148256 and parameters: {'n_estimators': 48, 'max_depth': 14, 'min_samples_split': 4, 'min_samples_leaf': 2}. Best is trial 53 with value: 5.029493214413444.\n"
     ]
    },
    {
     "name": "stdout",
     "output_type": "stream",
     "text": [
      "🏃 View run worried-dolphin-551 at: http://127.0.0.1:5000/#/experiments/2/runs/fcfccf060d6145fcad48520ef67f3a9c\n",
      "🧪 View experiment at: http://127.0.0.1:5000/#/experiments/2\n"
     ]
    },
    {
     "name": "stderr",
     "output_type": "stream",
     "text": [
      "/var/folders/02/7p49pcn90q5ftb99dns9v18c0000gp/T/ipykernel_80721/4268162343.py:8: FutureWarning: suggest_int() got {'step'} as positional arguments but they were expected to be given as keyword arguments.\n",
      "Positional arguments ['self', 'name', 'low', 'high', 'step', 'log'] in suggest_int() have been deprecated since v3.5.0. They will be replaced with the corresponding keyword arguments in v5.0.0, so please use the keyword specification instead. See https://github.com/optuna/optuna/releases/tag/v3.5.0 for details.\n",
      "  'n_estimators': trial.suggest_int('n_estimators', 10, 50, 1),\n",
      "/var/folders/02/7p49pcn90q5ftb99dns9v18c0000gp/T/ipykernel_80721/4268162343.py:9: FutureWarning: suggest_int() got {'step'} as positional arguments but they were expected to be given as keyword arguments.\n",
      "Positional arguments ['self', 'name', 'low', 'high', 'step', 'log'] in suggest_int() have been deprecated since v3.5.0. They will be replaced with the corresponding keyword arguments in v5.0.0, so please use the keyword specification instead. See https://github.com/optuna/optuna/releases/tag/v3.5.0 for details.\n",
      "  'max_depth': trial.suggest_int('max_depth', 1, 20, 1),\n",
      "/var/folders/02/7p49pcn90q5ftb99dns9v18c0000gp/T/ipykernel_80721/4268162343.py:10: FutureWarning: suggest_int() got {'step'} as positional arguments but they were expected to be given as keyword arguments.\n",
      "Positional arguments ['self', 'name', 'low', 'high', 'step', 'log'] in suggest_int() have been deprecated since v3.5.0. They will be replaced with the corresponding keyword arguments in v5.0.0, so please use the keyword specification instead. See https://github.com/optuna/optuna/releases/tag/v3.5.0 for details.\n",
      "  'min_samples_split': trial.suggest_int('min_samples_split', 2, 10, 1),\n",
      "/var/folders/02/7p49pcn90q5ftb99dns9v18c0000gp/T/ipykernel_80721/4268162343.py:11: FutureWarning: suggest_int() got {'step'} as positional arguments but they were expected to be given as keyword arguments.\n",
      "Positional arguments ['self', 'name', 'low', 'high', 'step', 'log'] in suggest_int() have been deprecated since v3.5.0. They will be replaced with the corresponding keyword arguments in v5.0.0, so please use the keyword specification instead. See https://github.com/optuna/optuna/releases/tag/v3.5.0 for details.\n",
      "  'min_samples_leaf': trial.suggest_int('min_samples_leaf', 1, 4, 1),\n",
      "[I 2025-09-16 21:11:14,639] Trial 62 finished with value: 5.0392683800405145 and parameters: {'n_estimators': 49, 'max_depth': 13, 'min_samples_split': 4, 'min_samples_leaf': 2}. Best is trial 53 with value: 5.029493214413444.\n"
     ]
    },
    {
     "name": "stdout",
     "output_type": "stream",
     "text": [
      "🏃 View run stylish-calf-409 at: http://127.0.0.1:5000/#/experiments/2/runs/3dfff6f10b2e423f97219d3f06dac02a\n",
      "🧪 View experiment at: http://127.0.0.1:5000/#/experiments/2\n"
     ]
    },
    {
     "name": "stderr",
     "output_type": "stream",
     "text": [
      "/var/folders/02/7p49pcn90q5ftb99dns9v18c0000gp/T/ipykernel_80721/4268162343.py:8: FutureWarning: suggest_int() got {'step'} as positional arguments but they were expected to be given as keyword arguments.\n",
      "Positional arguments ['self', 'name', 'low', 'high', 'step', 'log'] in suggest_int() have been deprecated since v3.5.0. They will be replaced with the corresponding keyword arguments in v5.0.0, so please use the keyword specification instead. See https://github.com/optuna/optuna/releases/tag/v3.5.0 for details.\n",
      "  'n_estimators': trial.suggest_int('n_estimators', 10, 50, 1),\n",
      "/var/folders/02/7p49pcn90q5ftb99dns9v18c0000gp/T/ipykernel_80721/4268162343.py:9: FutureWarning: suggest_int() got {'step'} as positional arguments but they were expected to be given as keyword arguments.\n",
      "Positional arguments ['self', 'name', 'low', 'high', 'step', 'log'] in suggest_int() have been deprecated since v3.5.0. They will be replaced with the corresponding keyword arguments in v5.0.0, so please use the keyword specification instead. See https://github.com/optuna/optuna/releases/tag/v3.5.0 for details.\n",
      "  'max_depth': trial.suggest_int('max_depth', 1, 20, 1),\n",
      "/var/folders/02/7p49pcn90q5ftb99dns9v18c0000gp/T/ipykernel_80721/4268162343.py:10: FutureWarning: suggest_int() got {'step'} as positional arguments but they were expected to be given as keyword arguments.\n",
      "Positional arguments ['self', 'name', 'low', 'high', 'step', 'log'] in suggest_int() have been deprecated since v3.5.0. They will be replaced with the corresponding keyword arguments in v5.0.0, so please use the keyword specification instead. See https://github.com/optuna/optuna/releases/tag/v3.5.0 for details.\n",
      "  'min_samples_split': trial.suggest_int('min_samples_split', 2, 10, 1),\n",
      "/var/folders/02/7p49pcn90q5ftb99dns9v18c0000gp/T/ipykernel_80721/4268162343.py:11: FutureWarning: suggest_int() got {'step'} as positional arguments but they were expected to be given as keyword arguments.\n",
      "Positional arguments ['self', 'name', 'low', 'high', 'step', 'log'] in suggest_int() have been deprecated since v3.5.0. They will be replaced with the corresponding keyword arguments in v5.0.0, so please use the keyword specification instead. See https://github.com/optuna/optuna/releases/tag/v3.5.0 for details.\n",
      "  'min_samples_leaf': trial.suggest_int('min_samples_leaf', 1, 4, 1),\n",
      "[I 2025-09-16 21:11:14,993] Trial 63 finished with value: 5.029905616317271 and parameters: {'n_estimators': 47, 'max_depth': 14, 'min_samples_split': 5, 'min_samples_leaf': 2}. Best is trial 53 with value: 5.029493214413444.\n"
     ]
    },
    {
     "name": "stdout",
     "output_type": "stream",
     "text": [
      "🏃 View run amusing-snail-882 at: http://127.0.0.1:5000/#/experiments/2/runs/e3a7ccbeb1ab4fd782f772fd65aa886e\n",
      "🧪 View experiment at: http://127.0.0.1:5000/#/experiments/2\n"
     ]
    },
    {
     "name": "stderr",
     "output_type": "stream",
     "text": [
      "/var/folders/02/7p49pcn90q5ftb99dns9v18c0000gp/T/ipykernel_80721/4268162343.py:8: FutureWarning: suggest_int() got {'step'} as positional arguments but they were expected to be given as keyword arguments.\n",
      "Positional arguments ['self', 'name', 'low', 'high', 'step', 'log'] in suggest_int() have been deprecated since v3.5.0. They will be replaced with the corresponding keyword arguments in v5.0.0, so please use the keyword specification instead. See https://github.com/optuna/optuna/releases/tag/v3.5.0 for details.\n",
      "  'n_estimators': trial.suggest_int('n_estimators', 10, 50, 1),\n",
      "/var/folders/02/7p49pcn90q5ftb99dns9v18c0000gp/T/ipykernel_80721/4268162343.py:9: FutureWarning: suggest_int() got {'step'} as positional arguments but they were expected to be given as keyword arguments.\n",
      "Positional arguments ['self', 'name', 'low', 'high', 'step', 'log'] in suggest_int() have been deprecated since v3.5.0. They will be replaced with the corresponding keyword arguments in v5.0.0, so please use the keyword specification instead. See https://github.com/optuna/optuna/releases/tag/v3.5.0 for details.\n",
      "  'max_depth': trial.suggest_int('max_depth', 1, 20, 1),\n",
      "/var/folders/02/7p49pcn90q5ftb99dns9v18c0000gp/T/ipykernel_80721/4268162343.py:10: FutureWarning: suggest_int() got {'step'} as positional arguments but they were expected to be given as keyword arguments.\n",
      "Positional arguments ['self', 'name', 'low', 'high', 'step', 'log'] in suggest_int() have been deprecated since v3.5.0. They will be replaced with the corresponding keyword arguments in v5.0.0, so please use the keyword specification instead. See https://github.com/optuna/optuna/releases/tag/v3.5.0 for details.\n",
      "  'min_samples_split': trial.suggest_int('min_samples_split', 2, 10, 1),\n",
      "/var/folders/02/7p49pcn90q5ftb99dns9v18c0000gp/T/ipykernel_80721/4268162343.py:11: FutureWarning: suggest_int() got {'step'} as positional arguments but they were expected to be given as keyword arguments.\n",
      "Positional arguments ['self', 'name', 'low', 'high', 'step', 'log'] in suggest_int() have been deprecated since v3.5.0. They will be replaced with the corresponding keyword arguments in v5.0.0, so please use the keyword specification instead. See https://github.com/optuna/optuna/releases/tag/v3.5.0 for details.\n",
      "  'min_samples_leaf': trial.suggest_int('min_samples_leaf', 1, 4, 1),\n",
      "[I 2025-09-16 21:11:15,383] Trial 64 finished with value: 5.034631569544227 and parameters: {'n_estimators': 50, 'max_depth': 16, 'min_samples_split': 5, 'min_samples_leaf': 2}. Best is trial 53 with value: 5.029493214413444.\n"
     ]
    },
    {
     "name": "stdout",
     "output_type": "stream",
     "text": [
      "🏃 View run chill-shrew-252 at: http://127.0.0.1:5000/#/experiments/2/runs/328bbd5584274768a0ca5ef49d660f93\n",
      "🧪 View experiment at: http://127.0.0.1:5000/#/experiments/2\n"
     ]
    },
    {
     "name": "stderr",
     "output_type": "stream",
     "text": [
      "/var/folders/02/7p49pcn90q5ftb99dns9v18c0000gp/T/ipykernel_80721/4268162343.py:8: FutureWarning: suggest_int() got {'step'} as positional arguments but they were expected to be given as keyword arguments.\n",
      "Positional arguments ['self', 'name', 'low', 'high', 'step', 'log'] in suggest_int() have been deprecated since v3.5.0. They will be replaced with the corresponding keyword arguments in v5.0.0, so please use the keyword specification instead. See https://github.com/optuna/optuna/releases/tag/v3.5.0 for details.\n",
      "  'n_estimators': trial.suggest_int('n_estimators', 10, 50, 1),\n",
      "/var/folders/02/7p49pcn90q5ftb99dns9v18c0000gp/T/ipykernel_80721/4268162343.py:9: FutureWarning: suggest_int() got {'step'} as positional arguments but they were expected to be given as keyword arguments.\n",
      "Positional arguments ['self', 'name', 'low', 'high', 'step', 'log'] in suggest_int() have been deprecated since v3.5.0. They will be replaced with the corresponding keyword arguments in v5.0.0, so please use the keyword specification instead. See https://github.com/optuna/optuna/releases/tag/v3.5.0 for details.\n",
      "  'max_depth': trial.suggest_int('max_depth', 1, 20, 1),\n",
      "/var/folders/02/7p49pcn90q5ftb99dns9v18c0000gp/T/ipykernel_80721/4268162343.py:10: FutureWarning: suggest_int() got {'step'} as positional arguments but they were expected to be given as keyword arguments.\n",
      "Positional arguments ['self', 'name', 'low', 'high', 'step', 'log'] in suggest_int() have been deprecated since v3.5.0. They will be replaced with the corresponding keyword arguments in v5.0.0, so please use the keyword specification instead. See https://github.com/optuna/optuna/releases/tag/v3.5.0 for details.\n",
      "  'min_samples_split': trial.suggest_int('min_samples_split', 2, 10, 1),\n",
      "/var/folders/02/7p49pcn90q5ftb99dns9v18c0000gp/T/ipykernel_80721/4268162343.py:11: FutureWarning: suggest_int() got {'step'} as positional arguments but they were expected to be given as keyword arguments.\n",
      "Positional arguments ['self', 'name', 'low', 'high', 'step', 'log'] in suggest_int() have been deprecated since v3.5.0. They will be replaced with the corresponding keyword arguments in v5.0.0, so please use the keyword specification instead. See https://github.com/optuna/optuna/releases/tag/v3.5.0 for details.\n",
      "  'min_samples_leaf': trial.suggest_int('min_samples_leaf', 1, 4, 1),\n",
      "[I 2025-09-16 21:11:15,672] Trial 65 finished with value: 5.045934632189028 and parameters: {'n_estimators': 45, 'max_depth': 13, 'min_samples_split': 6, 'min_samples_leaf': 1}. Best is trial 53 with value: 5.029493214413444.\n"
     ]
    },
    {
     "name": "stdout",
     "output_type": "stream",
     "text": [
      "🏃 View run stylish-pug-701 at: http://127.0.0.1:5000/#/experiments/2/runs/2ed64ce2e8a44e1bba68265f9d35a81a\n",
      "🧪 View experiment at: http://127.0.0.1:5000/#/experiments/2\n"
     ]
    },
    {
     "name": "stderr",
     "output_type": "stream",
     "text": [
      "/var/folders/02/7p49pcn90q5ftb99dns9v18c0000gp/T/ipykernel_80721/4268162343.py:8: FutureWarning: suggest_int() got {'step'} as positional arguments but they were expected to be given as keyword arguments.\n",
      "Positional arguments ['self', 'name', 'low', 'high', 'step', 'log'] in suggest_int() have been deprecated since v3.5.0. They will be replaced with the corresponding keyword arguments in v5.0.0, so please use the keyword specification instead. See https://github.com/optuna/optuna/releases/tag/v3.5.0 for details.\n",
      "  'n_estimators': trial.suggest_int('n_estimators', 10, 50, 1),\n",
      "/var/folders/02/7p49pcn90q5ftb99dns9v18c0000gp/T/ipykernel_80721/4268162343.py:9: FutureWarning: suggest_int() got {'step'} as positional arguments but they were expected to be given as keyword arguments.\n",
      "Positional arguments ['self', 'name', 'low', 'high', 'step', 'log'] in suggest_int() have been deprecated since v3.5.0. They will be replaced with the corresponding keyword arguments in v5.0.0, so please use the keyword specification instead. See https://github.com/optuna/optuna/releases/tag/v3.5.0 for details.\n",
      "  'max_depth': trial.suggest_int('max_depth', 1, 20, 1),\n",
      "/var/folders/02/7p49pcn90q5ftb99dns9v18c0000gp/T/ipykernel_80721/4268162343.py:10: FutureWarning: suggest_int() got {'step'} as positional arguments but they were expected to be given as keyword arguments.\n",
      "Positional arguments ['self', 'name', 'low', 'high', 'step', 'log'] in suggest_int() have been deprecated since v3.5.0. They will be replaced with the corresponding keyword arguments in v5.0.0, so please use the keyword specification instead. See https://github.com/optuna/optuna/releases/tag/v3.5.0 for details.\n",
      "  'min_samples_split': trial.suggest_int('min_samples_split', 2, 10, 1),\n",
      "/var/folders/02/7p49pcn90q5ftb99dns9v18c0000gp/T/ipykernel_80721/4268162343.py:11: FutureWarning: suggest_int() got {'step'} as positional arguments but they were expected to be given as keyword arguments.\n",
      "Positional arguments ['self', 'name', 'low', 'high', 'step', 'log'] in suggest_int() have been deprecated since v3.5.0. They will be replaced with the corresponding keyword arguments in v5.0.0, so please use the keyword specification instead. See https://github.com/optuna/optuna/releases/tag/v3.5.0 for details.\n",
      "  'min_samples_leaf': trial.suggest_int('min_samples_leaf', 1, 4, 1),\n",
      "[I 2025-09-16 21:11:15,973] Trial 66 finished with value: 5.033765953934092 and parameters: {'n_estimators': 45, 'max_depth': 14, 'min_samples_split': 4, 'min_samples_leaf': 2}. Best is trial 53 with value: 5.029493214413444.\n"
     ]
    },
    {
     "name": "stdout",
     "output_type": "stream",
     "text": [
      "🏃 View run delicate-hound-60 at: http://127.0.0.1:5000/#/experiments/2/runs/a3fb52ac574f4be4821eb34003556aca\n",
      "🧪 View experiment at: http://127.0.0.1:5000/#/experiments/2\n"
     ]
    },
    {
     "name": "stderr",
     "output_type": "stream",
     "text": [
      "/var/folders/02/7p49pcn90q5ftb99dns9v18c0000gp/T/ipykernel_80721/4268162343.py:8: FutureWarning: suggest_int() got {'step'} as positional arguments but they were expected to be given as keyword arguments.\n",
      "Positional arguments ['self', 'name', 'low', 'high', 'step', 'log'] in suggest_int() have been deprecated since v3.5.0. They will be replaced with the corresponding keyword arguments in v5.0.0, so please use the keyword specification instead. See https://github.com/optuna/optuna/releases/tag/v3.5.0 for details.\n",
      "  'n_estimators': trial.suggest_int('n_estimators', 10, 50, 1),\n",
      "/var/folders/02/7p49pcn90q5ftb99dns9v18c0000gp/T/ipykernel_80721/4268162343.py:9: FutureWarning: suggest_int() got {'step'} as positional arguments but they were expected to be given as keyword arguments.\n",
      "Positional arguments ['self', 'name', 'low', 'high', 'step', 'log'] in suggest_int() have been deprecated since v3.5.0. They will be replaced with the corresponding keyword arguments in v5.0.0, so please use the keyword specification instead. See https://github.com/optuna/optuna/releases/tag/v3.5.0 for details.\n",
      "  'max_depth': trial.suggest_int('max_depth', 1, 20, 1),\n",
      "/var/folders/02/7p49pcn90q5ftb99dns9v18c0000gp/T/ipykernel_80721/4268162343.py:10: FutureWarning: suggest_int() got {'step'} as positional arguments but they were expected to be given as keyword arguments.\n",
      "Positional arguments ['self', 'name', 'low', 'high', 'step', 'log'] in suggest_int() have been deprecated since v3.5.0. They will be replaced with the corresponding keyword arguments in v5.0.0, so please use the keyword specification instead. See https://github.com/optuna/optuna/releases/tag/v3.5.0 for details.\n",
      "  'min_samples_split': trial.suggest_int('min_samples_split', 2, 10, 1),\n",
      "/var/folders/02/7p49pcn90q5ftb99dns9v18c0000gp/T/ipykernel_80721/4268162343.py:11: FutureWarning: suggest_int() got {'step'} as positional arguments but they were expected to be given as keyword arguments.\n",
      "Positional arguments ['self', 'name', 'low', 'high', 'step', 'log'] in suggest_int() have been deprecated since v3.5.0. They will be replaced with the corresponding keyword arguments in v5.0.0, so please use the keyword specification instead. See https://github.com/optuna/optuna/releases/tag/v3.5.0 for details.\n",
      "  'min_samples_leaf': trial.suggest_int('min_samples_leaf', 1, 4, 1),\n",
      "[I 2025-09-16 21:11:16,336] Trial 67 finished with value: 5.061343137732615 and parameters: {'n_estimators': 47, 'max_depth': 12, 'min_samples_split': 5, 'min_samples_leaf': 2}. Best is trial 53 with value: 5.029493214413444.\n"
     ]
    },
    {
     "name": "stdout",
     "output_type": "stream",
     "text": [
      "🏃 View run learned-gnat-225 at: http://127.0.0.1:5000/#/experiments/2/runs/b9ab991f364741619b25314c8a2544c8\n",
      "🧪 View experiment at: http://127.0.0.1:5000/#/experiments/2\n"
     ]
    },
    {
     "name": "stderr",
     "output_type": "stream",
     "text": [
      "/var/folders/02/7p49pcn90q5ftb99dns9v18c0000gp/T/ipykernel_80721/4268162343.py:8: FutureWarning: suggest_int() got {'step'} as positional arguments but they were expected to be given as keyword arguments.\n",
      "Positional arguments ['self', 'name', 'low', 'high', 'step', 'log'] in suggest_int() have been deprecated since v3.5.0. They will be replaced with the corresponding keyword arguments in v5.0.0, so please use the keyword specification instead. See https://github.com/optuna/optuna/releases/tag/v3.5.0 for details.\n",
      "  'n_estimators': trial.suggest_int('n_estimators', 10, 50, 1),\n",
      "/var/folders/02/7p49pcn90q5ftb99dns9v18c0000gp/T/ipykernel_80721/4268162343.py:9: FutureWarning: suggest_int() got {'step'} as positional arguments but they were expected to be given as keyword arguments.\n",
      "Positional arguments ['self', 'name', 'low', 'high', 'step', 'log'] in suggest_int() have been deprecated since v3.5.0. They will be replaced with the corresponding keyword arguments in v5.0.0, so please use the keyword specification instead. See https://github.com/optuna/optuna/releases/tag/v3.5.0 for details.\n",
      "  'max_depth': trial.suggest_int('max_depth', 1, 20, 1),\n",
      "/var/folders/02/7p49pcn90q5ftb99dns9v18c0000gp/T/ipykernel_80721/4268162343.py:10: FutureWarning: suggest_int() got {'step'} as positional arguments but they were expected to be given as keyword arguments.\n",
      "Positional arguments ['self', 'name', 'low', 'high', 'step', 'log'] in suggest_int() have been deprecated since v3.5.0. They will be replaced with the corresponding keyword arguments in v5.0.0, so please use the keyword specification instead. See https://github.com/optuna/optuna/releases/tag/v3.5.0 for details.\n",
      "  'min_samples_split': trial.suggest_int('min_samples_split', 2, 10, 1),\n",
      "/var/folders/02/7p49pcn90q5ftb99dns9v18c0000gp/T/ipykernel_80721/4268162343.py:11: FutureWarning: suggest_int() got {'step'} as positional arguments but they were expected to be given as keyword arguments.\n",
      "Positional arguments ['self', 'name', 'low', 'high', 'step', 'log'] in suggest_int() have been deprecated since v3.5.0. They will be replaced with the corresponding keyword arguments in v5.0.0, so please use the keyword specification instead. See https://github.com/optuna/optuna/releases/tag/v3.5.0 for details.\n",
      "  'min_samples_leaf': trial.suggest_int('min_samples_leaf', 1, 4, 1),\n",
      "[I 2025-09-16 21:11:16,674] Trial 68 finished with value: 5.037684871435668 and parameters: {'n_estimators': 49, 'max_depth': 16, 'min_samples_split': 4, 'min_samples_leaf': 2}. Best is trial 53 with value: 5.029493214413444.\n",
      "/var/folders/02/7p49pcn90q5ftb99dns9v18c0000gp/T/ipykernel_80721/4268162343.py:8: FutureWarning: suggest_int() got {'step'} as positional arguments but they were expected to be given as keyword arguments.\n",
      "Positional arguments ['self', 'name', 'low', 'high', 'step', 'log'] in suggest_int() have been deprecated since v3.5.0. They will be replaced with the corresponding keyword arguments in v5.0.0, so please use the keyword specification instead. See https://github.com/optuna/optuna/releases/tag/v3.5.0 for details.\n",
      "  'n_estimators': trial.suggest_int('n_estimators', 10, 50, 1),\n",
      "/var/folders/02/7p49pcn90q5ftb99dns9v18c0000gp/T/ipykernel_80721/4268162343.py:9: FutureWarning: suggest_int() got {'step'} as positional arguments but they were expected to be given as keyword arguments.\n",
      "Positional arguments ['self', 'name', 'low', 'high', 'step', 'log'] in suggest_int() have been deprecated since v3.5.0. They will be replaced with the corresponding keyword arguments in v5.0.0, so please use the keyword specification instead. See https://github.com/optuna/optuna/releases/tag/v3.5.0 for details.\n",
      "  'max_depth': trial.suggest_int('max_depth', 1, 20, 1),\n",
      "/var/folders/02/7p49pcn90q5ftb99dns9v18c0000gp/T/ipykernel_80721/4268162343.py:10: FutureWarning: suggest_int() got {'step'} as positional arguments but they were expected to be given as keyword arguments.\n",
      "Positional arguments ['self', 'name', 'low', 'high', 'step', 'log'] in suggest_int() have been deprecated since v3.5.0. They will be replaced with the corresponding keyword arguments in v5.0.0, so please use the keyword specification instead. See https://github.com/optuna/optuna/releases/tag/v3.5.0 for details.\n",
      "  'min_samples_split': trial.suggest_int('min_samples_split', 2, 10, 1),\n",
      "/var/folders/02/7p49pcn90q5ftb99dns9v18c0000gp/T/ipykernel_80721/4268162343.py:11: FutureWarning: suggest_int() got {'step'} as positional arguments but they were expected to be given as keyword arguments.\n",
      "Positional arguments ['self', 'name', 'low', 'high', 'step', 'log'] in suggest_int() have been deprecated since v3.5.0. They will be replaced with the corresponding keyword arguments in v5.0.0, so please use the keyword specification instead. See https://github.com/optuna/optuna/releases/tag/v3.5.0 for details.\n",
      "  'min_samples_leaf': trial.suggest_int('min_samples_leaf', 1, 4, 1),\n",
      "[I 2025-09-16 21:11:16,824] Trial 69 finished with value: 5.079487266112043 and parameters: {'n_estimators': 14, 'max_depth': 15, 'min_samples_split': 6, 'min_samples_leaf': 2}. Best is trial 53 with value: 5.029493214413444.\n"
     ]
    },
    {
     "name": "stdout",
     "output_type": "stream",
     "text": [
      "🏃 View run bright-colt-82 at: http://127.0.0.1:5000/#/experiments/2/runs/a993e1ead99c4ca4aad0c64566de53d2\n",
      "🧪 View experiment at: http://127.0.0.1:5000/#/experiments/2\n",
      "🏃 View run resilient-lynx-695 at: http://127.0.0.1:5000/#/experiments/2/runs/62890b9208e54649827d7b07ca0ad4dd\n",
      "🧪 View experiment at: http://127.0.0.1:5000/#/experiments/2\n"
     ]
    },
    {
     "name": "stderr",
     "output_type": "stream",
     "text": [
      "/var/folders/02/7p49pcn90q5ftb99dns9v18c0000gp/T/ipykernel_80721/4268162343.py:8: FutureWarning: suggest_int() got {'step'} as positional arguments but they were expected to be given as keyword arguments.\n",
      "Positional arguments ['self', 'name', 'low', 'high', 'step', 'log'] in suggest_int() have been deprecated since v3.5.0. They will be replaced with the corresponding keyword arguments in v5.0.0, so please use the keyword specification instead. See https://github.com/optuna/optuna/releases/tag/v3.5.0 for details.\n",
      "  'n_estimators': trial.suggest_int('n_estimators', 10, 50, 1),\n",
      "/var/folders/02/7p49pcn90q5ftb99dns9v18c0000gp/T/ipykernel_80721/4268162343.py:9: FutureWarning: suggest_int() got {'step'} as positional arguments but they were expected to be given as keyword arguments.\n",
      "Positional arguments ['self', 'name', 'low', 'high', 'step', 'log'] in suggest_int() have been deprecated since v3.5.0. They will be replaced with the corresponding keyword arguments in v5.0.0, so please use the keyword specification instead. See https://github.com/optuna/optuna/releases/tag/v3.5.0 for details.\n",
      "  'max_depth': trial.suggest_int('max_depth', 1, 20, 1),\n",
      "/var/folders/02/7p49pcn90q5ftb99dns9v18c0000gp/T/ipykernel_80721/4268162343.py:10: FutureWarning: suggest_int() got {'step'} as positional arguments but they were expected to be given as keyword arguments.\n",
      "Positional arguments ['self', 'name', 'low', 'high', 'step', 'log'] in suggest_int() have been deprecated since v3.5.0. They will be replaced with the corresponding keyword arguments in v5.0.0, so please use the keyword specification instead. See https://github.com/optuna/optuna/releases/tag/v3.5.0 for details.\n",
      "  'min_samples_split': trial.suggest_int('min_samples_split', 2, 10, 1),\n",
      "/var/folders/02/7p49pcn90q5ftb99dns9v18c0000gp/T/ipykernel_80721/4268162343.py:11: FutureWarning: suggest_int() got {'step'} as positional arguments but they were expected to be given as keyword arguments.\n",
      "Positional arguments ['self', 'name', 'low', 'high', 'step', 'log'] in suggest_int() have been deprecated since v3.5.0. They will be replaced with the corresponding keyword arguments in v5.0.0, so please use the keyword specification instead. See https://github.com/optuna/optuna/releases/tag/v3.5.0 for details.\n",
      "  'min_samples_leaf': trial.suggest_int('min_samples_leaf', 1, 4, 1),\n",
      "[I 2025-09-16 21:11:17,098] Trial 70 finished with value: 5.038871372815222 and parameters: {'n_estimators': 47, 'max_depth': 13, 'min_samples_split': 9, 'min_samples_leaf': 2}. Best is trial 53 with value: 5.029493214413444.\n"
     ]
    },
    {
     "name": "stdout",
     "output_type": "stream",
     "text": [
      "🏃 View run wise-calf-562 at: http://127.0.0.1:5000/#/experiments/2/runs/a9b4e982cc894db2ad495627b34b46fe\n",
      "🧪 View experiment at: http://127.0.0.1:5000/#/experiments/2\n"
     ]
    },
    {
     "name": "stderr",
     "output_type": "stream",
     "text": [
      "/var/folders/02/7p49pcn90q5ftb99dns9v18c0000gp/T/ipykernel_80721/4268162343.py:8: FutureWarning: suggest_int() got {'step'} as positional arguments but they were expected to be given as keyword arguments.\n",
      "Positional arguments ['self', 'name', 'low', 'high', 'step', 'log'] in suggest_int() have been deprecated since v3.5.0. They will be replaced with the corresponding keyword arguments in v5.0.0, so please use the keyword specification instead. See https://github.com/optuna/optuna/releases/tag/v3.5.0 for details.\n",
      "  'n_estimators': trial.suggest_int('n_estimators', 10, 50, 1),\n",
      "/var/folders/02/7p49pcn90q5ftb99dns9v18c0000gp/T/ipykernel_80721/4268162343.py:9: FutureWarning: suggest_int() got {'step'} as positional arguments but they were expected to be given as keyword arguments.\n",
      "Positional arguments ['self', 'name', 'low', 'high', 'step', 'log'] in suggest_int() have been deprecated since v3.5.0. They will be replaced with the corresponding keyword arguments in v5.0.0, so please use the keyword specification instead. See https://github.com/optuna/optuna/releases/tag/v3.5.0 for details.\n",
      "  'max_depth': trial.suggest_int('max_depth', 1, 20, 1),\n",
      "/var/folders/02/7p49pcn90q5ftb99dns9v18c0000gp/T/ipykernel_80721/4268162343.py:10: FutureWarning: suggest_int() got {'step'} as positional arguments but they were expected to be given as keyword arguments.\n",
      "Positional arguments ['self', 'name', 'low', 'high', 'step', 'log'] in suggest_int() have been deprecated since v3.5.0. They will be replaced with the corresponding keyword arguments in v5.0.0, so please use the keyword specification instead. See https://github.com/optuna/optuna/releases/tag/v3.5.0 for details.\n",
      "  'min_samples_split': trial.suggest_int('min_samples_split', 2, 10, 1),\n",
      "/var/folders/02/7p49pcn90q5ftb99dns9v18c0000gp/T/ipykernel_80721/4268162343.py:11: FutureWarning: suggest_int() got {'step'} as positional arguments but they were expected to be given as keyword arguments.\n",
      "Positional arguments ['self', 'name', 'low', 'high', 'step', 'log'] in suggest_int() have been deprecated since v3.5.0. They will be replaced with the corresponding keyword arguments in v5.0.0, so please use the keyword specification instead. See https://github.com/optuna/optuna/releases/tag/v3.5.0 for details.\n",
      "  'min_samples_leaf': trial.suggest_int('min_samples_leaf', 1, 4, 1),\n",
      "[I 2025-09-16 21:11:17,387] Trial 71 finished with value: 5.031553590810261 and parameters: {'n_estimators': 47, 'max_depth': 14, 'min_samples_split': 4, 'min_samples_leaf': 2}. Best is trial 53 with value: 5.029493214413444.\n"
     ]
    },
    {
     "name": "stdout",
     "output_type": "stream",
     "text": [
      "🏃 View run glamorous-grouse-953 at: http://127.0.0.1:5000/#/experiments/2/runs/363dba66ccbe402f8c8c4422ddd28432\n",
      "🧪 View experiment at: http://127.0.0.1:5000/#/experiments/2\n"
     ]
    },
    {
     "name": "stderr",
     "output_type": "stream",
     "text": [
      "/var/folders/02/7p49pcn90q5ftb99dns9v18c0000gp/T/ipykernel_80721/4268162343.py:8: FutureWarning: suggest_int() got {'step'} as positional arguments but they were expected to be given as keyword arguments.\n",
      "Positional arguments ['self', 'name', 'low', 'high', 'step', 'log'] in suggest_int() have been deprecated since v3.5.0. They will be replaced with the corresponding keyword arguments in v5.0.0, so please use the keyword specification instead. See https://github.com/optuna/optuna/releases/tag/v3.5.0 for details.\n",
      "  'n_estimators': trial.suggest_int('n_estimators', 10, 50, 1),\n",
      "/var/folders/02/7p49pcn90q5ftb99dns9v18c0000gp/T/ipykernel_80721/4268162343.py:9: FutureWarning: suggest_int() got {'step'} as positional arguments but they were expected to be given as keyword arguments.\n",
      "Positional arguments ['self', 'name', 'low', 'high', 'step', 'log'] in suggest_int() have been deprecated since v3.5.0. They will be replaced with the corresponding keyword arguments in v5.0.0, so please use the keyword specification instead. See https://github.com/optuna/optuna/releases/tag/v3.5.0 for details.\n",
      "  'max_depth': trial.suggest_int('max_depth', 1, 20, 1),\n",
      "/var/folders/02/7p49pcn90q5ftb99dns9v18c0000gp/T/ipykernel_80721/4268162343.py:10: FutureWarning: suggest_int() got {'step'} as positional arguments but they were expected to be given as keyword arguments.\n",
      "Positional arguments ['self', 'name', 'low', 'high', 'step', 'log'] in suggest_int() have been deprecated since v3.5.0. They will be replaced with the corresponding keyword arguments in v5.0.0, so please use the keyword specification instead. See https://github.com/optuna/optuna/releases/tag/v3.5.0 for details.\n",
      "  'min_samples_split': trial.suggest_int('min_samples_split', 2, 10, 1),\n",
      "/var/folders/02/7p49pcn90q5ftb99dns9v18c0000gp/T/ipykernel_80721/4268162343.py:11: FutureWarning: suggest_int() got {'step'} as positional arguments but they were expected to be given as keyword arguments.\n",
      "Positional arguments ['self', 'name', 'low', 'high', 'step', 'log'] in suggest_int() have been deprecated since v3.5.0. They will be replaced with the corresponding keyword arguments in v5.0.0, so please use the keyword specification instead. See https://github.com/optuna/optuna/releases/tag/v3.5.0 for details.\n",
      "  'min_samples_leaf': trial.suggest_int('min_samples_leaf', 1, 4, 1),\n",
      "[I 2025-09-16 21:11:17,683] Trial 72 finished with value: 5.030161824179107 and parameters: {'n_estimators': 46, 'max_depth': 14, 'min_samples_split': 5, 'min_samples_leaf': 2}. Best is trial 53 with value: 5.029493214413444.\n"
     ]
    },
    {
     "name": "stdout",
     "output_type": "stream",
     "text": [
      "🏃 View run adventurous-bass-288 at: http://127.0.0.1:5000/#/experiments/2/runs/4e7ab9d74cbe426ca34c59545844ac05\n",
      "🧪 View experiment at: http://127.0.0.1:5000/#/experiments/2\n"
     ]
    },
    {
     "name": "stderr",
     "output_type": "stream",
     "text": [
      "/var/folders/02/7p49pcn90q5ftb99dns9v18c0000gp/T/ipykernel_80721/4268162343.py:8: FutureWarning: suggest_int() got {'step'} as positional arguments but they were expected to be given as keyword arguments.\n",
      "Positional arguments ['self', 'name', 'low', 'high', 'step', 'log'] in suggest_int() have been deprecated since v3.5.0. They will be replaced with the corresponding keyword arguments in v5.0.0, so please use the keyword specification instead. See https://github.com/optuna/optuna/releases/tag/v3.5.0 for details.\n",
      "  'n_estimators': trial.suggest_int('n_estimators', 10, 50, 1),\n",
      "/var/folders/02/7p49pcn90q5ftb99dns9v18c0000gp/T/ipykernel_80721/4268162343.py:9: FutureWarning: suggest_int() got {'step'} as positional arguments but they were expected to be given as keyword arguments.\n",
      "Positional arguments ['self', 'name', 'low', 'high', 'step', 'log'] in suggest_int() have been deprecated since v3.5.0. They will be replaced with the corresponding keyword arguments in v5.0.0, so please use the keyword specification instead. See https://github.com/optuna/optuna/releases/tag/v3.5.0 for details.\n",
      "  'max_depth': trial.suggest_int('max_depth', 1, 20, 1),\n",
      "/var/folders/02/7p49pcn90q5ftb99dns9v18c0000gp/T/ipykernel_80721/4268162343.py:10: FutureWarning: suggest_int() got {'step'} as positional arguments but they were expected to be given as keyword arguments.\n",
      "Positional arguments ['self', 'name', 'low', 'high', 'step', 'log'] in suggest_int() have been deprecated since v3.5.0. They will be replaced with the corresponding keyword arguments in v5.0.0, so please use the keyword specification instead. See https://github.com/optuna/optuna/releases/tag/v3.5.0 for details.\n",
      "  'min_samples_split': trial.suggest_int('min_samples_split', 2, 10, 1),\n",
      "/var/folders/02/7p49pcn90q5ftb99dns9v18c0000gp/T/ipykernel_80721/4268162343.py:11: FutureWarning: suggest_int() got {'step'} as positional arguments but they were expected to be given as keyword arguments.\n",
      "Positional arguments ['self', 'name', 'low', 'high', 'step', 'log'] in suggest_int() have been deprecated since v3.5.0. They will be replaced with the corresponding keyword arguments in v5.0.0, so please use the keyword specification instead. See https://github.com/optuna/optuna/releases/tag/v3.5.0 for details.\n",
      "  'min_samples_leaf': trial.suggest_int('min_samples_leaf', 1, 4, 1),\n",
      "[I 2025-09-16 21:11:18,009] Trial 73 finished with value: 5.029438300335224 and parameters: {'n_estimators': 49, 'max_depth': 14, 'min_samples_split': 5, 'min_samples_leaf': 2}. Best is trial 73 with value: 5.029438300335224.\n"
     ]
    },
    {
     "name": "stdout",
     "output_type": "stream",
     "text": [
      "🏃 View run luxuriant-tern-612 at: http://127.0.0.1:5000/#/experiments/2/runs/eb58e6b1c29c4736b427a4c88925f24d\n",
      "🧪 View experiment at: http://127.0.0.1:5000/#/experiments/2\n"
     ]
    },
    {
     "name": "stderr",
     "output_type": "stream",
     "text": [
      "/var/folders/02/7p49pcn90q5ftb99dns9v18c0000gp/T/ipykernel_80721/4268162343.py:8: FutureWarning: suggest_int() got {'step'} as positional arguments but they were expected to be given as keyword arguments.\n",
      "Positional arguments ['self', 'name', 'low', 'high', 'step', 'log'] in suggest_int() have been deprecated since v3.5.0. They will be replaced with the corresponding keyword arguments in v5.0.0, so please use the keyword specification instead. See https://github.com/optuna/optuna/releases/tag/v3.5.0 for details.\n",
      "  'n_estimators': trial.suggest_int('n_estimators', 10, 50, 1),\n",
      "/var/folders/02/7p49pcn90q5ftb99dns9v18c0000gp/T/ipykernel_80721/4268162343.py:9: FutureWarning: suggest_int() got {'step'} as positional arguments but they were expected to be given as keyword arguments.\n",
      "Positional arguments ['self', 'name', 'low', 'high', 'step', 'log'] in suggest_int() have been deprecated since v3.5.0. They will be replaced with the corresponding keyword arguments in v5.0.0, so please use the keyword specification instead. See https://github.com/optuna/optuna/releases/tag/v3.5.0 for details.\n",
      "  'max_depth': trial.suggest_int('max_depth', 1, 20, 1),\n",
      "/var/folders/02/7p49pcn90q5ftb99dns9v18c0000gp/T/ipykernel_80721/4268162343.py:10: FutureWarning: suggest_int() got {'step'} as positional arguments but they were expected to be given as keyword arguments.\n",
      "Positional arguments ['self', 'name', 'low', 'high', 'step', 'log'] in suggest_int() have been deprecated since v3.5.0. They will be replaced with the corresponding keyword arguments in v5.0.0, so please use the keyword specification instead. See https://github.com/optuna/optuna/releases/tag/v3.5.0 for details.\n",
      "  'min_samples_split': trial.suggest_int('min_samples_split', 2, 10, 1),\n",
      "/var/folders/02/7p49pcn90q5ftb99dns9v18c0000gp/T/ipykernel_80721/4268162343.py:11: FutureWarning: suggest_int() got {'step'} as positional arguments but they were expected to be given as keyword arguments.\n",
      "Positional arguments ['self', 'name', 'low', 'high', 'step', 'log'] in suggest_int() have been deprecated since v3.5.0. They will be replaced with the corresponding keyword arguments in v5.0.0, so please use the keyword specification instead. See https://github.com/optuna/optuna/releases/tag/v3.5.0 for details.\n",
      "  'min_samples_leaf': trial.suggest_int('min_samples_leaf', 1, 4, 1),\n",
      "[I 2025-09-16 21:11:18,289] Trial 74 finished with value: 5.033184534176474 and parameters: {'n_estimators': 43, 'max_depth': 15, 'min_samples_split': 5, 'min_samples_leaf': 2}. Best is trial 73 with value: 5.029438300335224.\n"
     ]
    },
    {
     "name": "stdout",
     "output_type": "stream",
     "text": [
      "🏃 View run redolent-mule-834 at: http://127.0.0.1:5000/#/experiments/2/runs/3e4c32bc516d4138b4ba2cc095538335\n",
      "🧪 View experiment at: http://127.0.0.1:5000/#/experiments/2\n"
     ]
    },
    {
     "name": "stderr",
     "output_type": "stream",
     "text": [
      "/var/folders/02/7p49pcn90q5ftb99dns9v18c0000gp/T/ipykernel_80721/4268162343.py:8: FutureWarning: suggest_int() got {'step'} as positional arguments but they were expected to be given as keyword arguments.\n",
      "Positional arguments ['self', 'name', 'low', 'high', 'step', 'log'] in suggest_int() have been deprecated since v3.5.0. They will be replaced with the corresponding keyword arguments in v5.0.0, so please use the keyword specification instead. See https://github.com/optuna/optuna/releases/tag/v3.5.0 for details.\n",
      "  'n_estimators': trial.suggest_int('n_estimators', 10, 50, 1),\n",
      "/var/folders/02/7p49pcn90q5ftb99dns9v18c0000gp/T/ipykernel_80721/4268162343.py:9: FutureWarning: suggest_int() got {'step'} as positional arguments but they were expected to be given as keyword arguments.\n",
      "Positional arguments ['self', 'name', 'low', 'high', 'step', 'log'] in suggest_int() have been deprecated since v3.5.0. They will be replaced with the corresponding keyword arguments in v5.0.0, so please use the keyword specification instead. See https://github.com/optuna/optuna/releases/tag/v3.5.0 for details.\n",
      "  'max_depth': trial.suggest_int('max_depth', 1, 20, 1),\n",
      "/var/folders/02/7p49pcn90q5ftb99dns9v18c0000gp/T/ipykernel_80721/4268162343.py:10: FutureWarning: suggest_int() got {'step'} as positional arguments but they were expected to be given as keyword arguments.\n",
      "Positional arguments ['self', 'name', 'low', 'high', 'step', 'log'] in suggest_int() have been deprecated since v3.5.0. They will be replaced with the corresponding keyword arguments in v5.0.0, so please use the keyword specification instead. See https://github.com/optuna/optuna/releases/tag/v3.5.0 for details.\n",
      "  'min_samples_split': trial.suggest_int('min_samples_split', 2, 10, 1),\n",
      "/var/folders/02/7p49pcn90q5ftb99dns9v18c0000gp/T/ipykernel_80721/4268162343.py:11: FutureWarning: suggest_int() got {'step'} as positional arguments but they were expected to be given as keyword arguments.\n",
      "Positional arguments ['self', 'name', 'low', 'high', 'step', 'log'] in suggest_int() have been deprecated since v3.5.0. They will be replaced with the corresponding keyword arguments in v5.0.0, so please use the keyword specification instead. See https://github.com/optuna/optuna/releases/tag/v3.5.0 for details.\n",
      "  'min_samples_leaf': trial.suggest_int('min_samples_leaf', 1, 4, 1),\n",
      "[I 2025-09-16 21:11:18,604] Trial 75 finished with value: 5.0379329682904554 and parameters: {'n_estimators': 45, 'max_depth': 16, 'min_samples_split': 5, 'min_samples_leaf': 2}. Best is trial 73 with value: 5.029438300335224.\n"
     ]
    },
    {
     "name": "stdout",
     "output_type": "stream",
     "text": [
      "🏃 View run useful-hound-932 at: http://127.0.0.1:5000/#/experiments/2/runs/4ec990e02e7446859b15d9896574a64f\n",
      "🧪 View experiment at: http://127.0.0.1:5000/#/experiments/2\n"
     ]
    },
    {
     "name": "stderr",
     "output_type": "stream",
     "text": [
      "/var/folders/02/7p49pcn90q5ftb99dns9v18c0000gp/T/ipykernel_80721/4268162343.py:8: FutureWarning: suggest_int() got {'step'} as positional arguments but they were expected to be given as keyword arguments.\n",
      "Positional arguments ['self', 'name', 'low', 'high', 'step', 'log'] in suggest_int() have been deprecated since v3.5.0. They will be replaced with the corresponding keyword arguments in v5.0.0, so please use the keyword specification instead. See https://github.com/optuna/optuna/releases/tag/v3.5.0 for details.\n",
      "  'n_estimators': trial.suggest_int('n_estimators', 10, 50, 1),\n",
      "/var/folders/02/7p49pcn90q5ftb99dns9v18c0000gp/T/ipykernel_80721/4268162343.py:9: FutureWarning: suggest_int() got {'step'} as positional arguments but they were expected to be given as keyword arguments.\n",
      "Positional arguments ['self', 'name', 'low', 'high', 'step', 'log'] in suggest_int() have been deprecated since v3.5.0. They will be replaced with the corresponding keyword arguments in v5.0.0, so please use the keyword specification instead. See https://github.com/optuna/optuna/releases/tag/v3.5.0 for details.\n",
      "  'max_depth': trial.suggest_int('max_depth', 1, 20, 1),\n",
      "/var/folders/02/7p49pcn90q5ftb99dns9v18c0000gp/T/ipykernel_80721/4268162343.py:10: FutureWarning: suggest_int() got {'step'} as positional arguments but they were expected to be given as keyword arguments.\n",
      "Positional arguments ['self', 'name', 'low', 'high', 'step', 'log'] in suggest_int() have been deprecated since v3.5.0. They will be replaced with the corresponding keyword arguments in v5.0.0, so please use the keyword specification instead. See https://github.com/optuna/optuna/releases/tag/v3.5.0 for details.\n",
      "  'min_samples_split': trial.suggest_int('min_samples_split', 2, 10, 1),\n",
      "/var/folders/02/7p49pcn90q5ftb99dns9v18c0000gp/T/ipykernel_80721/4268162343.py:11: FutureWarning: suggest_int() got {'step'} as positional arguments but they were expected to be given as keyword arguments.\n",
      "Positional arguments ['self', 'name', 'low', 'high', 'step', 'log'] in suggest_int() have been deprecated since v3.5.0. They will be replaced with the corresponding keyword arguments in v5.0.0, so please use the keyword specification instead. See https://github.com/optuna/optuna/releases/tag/v3.5.0 for details.\n",
      "  'min_samples_leaf': trial.suggest_int('min_samples_leaf', 1, 4, 1),\n",
      "[I 2025-09-16 21:11:18,921] Trial 76 finished with value: 5.038887501179215 and parameters: {'n_estimators': 49, 'max_depth': 13, 'min_samples_split': 6, 'min_samples_leaf': 2}. Best is trial 73 with value: 5.029438300335224.\n"
     ]
    },
    {
     "name": "stdout",
     "output_type": "stream",
     "text": [
      "🏃 View run learned-turtle-487 at: http://127.0.0.1:5000/#/experiments/2/runs/03e0da5d93a84f6ea1026fd0e4291a0f\n",
      "🧪 View experiment at: http://127.0.0.1:5000/#/experiments/2\n"
     ]
    },
    {
     "name": "stderr",
     "output_type": "stream",
     "text": [
      "/var/folders/02/7p49pcn90q5ftb99dns9v18c0000gp/T/ipykernel_80721/4268162343.py:8: FutureWarning: suggest_int() got {'step'} as positional arguments but they were expected to be given as keyword arguments.\n",
      "Positional arguments ['self', 'name', 'low', 'high', 'step', 'log'] in suggest_int() have been deprecated since v3.5.0. They will be replaced with the corresponding keyword arguments in v5.0.0, so please use the keyword specification instead. See https://github.com/optuna/optuna/releases/tag/v3.5.0 for details.\n",
      "  'n_estimators': trial.suggest_int('n_estimators', 10, 50, 1),\n",
      "/var/folders/02/7p49pcn90q5ftb99dns9v18c0000gp/T/ipykernel_80721/4268162343.py:9: FutureWarning: suggest_int() got {'step'} as positional arguments but they were expected to be given as keyword arguments.\n",
      "Positional arguments ['self', 'name', 'low', 'high', 'step', 'log'] in suggest_int() have been deprecated since v3.5.0. They will be replaced with the corresponding keyword arguments in v5.0.0, so please use the keyword specification instead. See https://github.com/optuna/optuna/releases/tag/v3.5.0 for details.\n",
      "  'max_depth': trial.suggest_int('max_depth', 1, 20, 1),\n",
      "/var/folders/02/7p49pcn90q5ftb99dns9v18c0000gp/T/ipykernel_80721/4268162343.py:10: FutureWarning: suggest_int() got {'step'} as positional arguments but they were expected to be given as keyword arguments.\n",
      "Positional arguments ['self', 'name', 'low', 'high', 'step', 'log'] in suggest_int() have been deprecated since v3.5.0. They will be replaced with the corresponding keyword arguments in v5.0.0, so please use the keyword specification instead. See https://github.com/optuna/optuna/releases/tag/v3.5.0 for details.\n",
      "  'min_samples_split': trial.suggest_int('min_samples_split', 2, 10, 1),\n",
      "/var/folders/02/7p49pcn90q5ftb99dns9v18c0000gp/T/ipykernel_80721/4268162343.py:11: FutureWarning: suggest_int() got {'step'} as positional arguments but they were expected to be given as keyword arguments.\n",
      "Positional arguments ['self', 'name', 'low', 'high', 'step', 'log'] in suggest_int() have been deprecated since v3.5.0. They will be replaced with the corresponding keyword arguments in v5.0.0, so please use the keyword specification instead. See https://github.com/optuna/optuna/releases/tag/v3.5.0 for details.\n",
      "  'min_samples_leaf': trial.suggest_int('min_samples_leaf', 1, 4, 1),\n",
      "[I 2025-09-16 21:11:19,221] Trial 77 finished with value: 5.061371918761112 and parameters: {'n_estimators': 46, 'max_depth': 12, 'min_samples_split': 7, 'min_samples_leaf': 2}. Best is trial 73 with value: 5.029438300335224.\n",
      "/var/folders/02/7p49pcn90q5ftb99dns9v18c0000gp/T/ipykernel_80721/4268162343.py:8: FutureWarning: suggest_int() got {'step'} as positional arguments but they were expected to be given as keyword arguments.\n",
      "Positional arguments ['self', 'name', 'low', 'high', 'step', 'log'] in suggest_int() have been deprecated since v3.5.0. They will be replaced with the corresponding keyword arguments in v5.0.0, so please use the keyword specification instead. See https://github.com/optuna/optuna/releases/tag/v3.5.0 for details.\n",
      "  'n_estimators': trial.suggest_int('n_estimators', 10, 50, 1),\n",
      "/var/folders/02/7p49pcn90q5ftb99dns9v18c0000gp/T/ipykernel_80721/4268162343.py:9: FutureWarning: suggest_int() got {'step'} as positional arguments but they were expected to be given as keyword arguments.\n",
      "Positional arguments ['self', 'name', 'low', 'high', 'step', 'log'] in suggest_int() have been deprecated since v3.5.0. They will be replaced with the corresponding keyword arguments in v5.0.0, so please use the keyword specification instead. See https://github.com/optuna/optuna/releases/tag/v3.5.0 for details.\n",
      "  'max_depth': trial.suggest_int('max_depth', 1, 20, 1),\n",
      "/var/folders/02/7p49pcn90q5ftb99dns9v18c0000gp/T/ipykernel_80721/4268162343.py:10: FutureWarning: suggest_int() got {'step'} as positional arguments but they were expected to be given as keyword arguments.\n",
      "Positional arguments ['self', 'name', 'low', 'high', 'step', 'log'] in suggest_int() have been deprecated since v3.5.0. They will be replaced with the corresponding keyword arguments in v5.0.0, so please use the keyword specification instead. See https://github.com/optuna/optuna/releases/tag/v3.5.0 for details.\n",
      "  'min_samples_split': trial.suggest_int('min_samples_split', 2, 10, 1),\n",
      "/var/folders/02/7p49pcn90q5ftb99dns9v18c0000gp/T/ipykernel_80721/4268162343.py:11: FutureWarning: suggest_int() got {'step'} as positional arguments but they were expected to be given as keyword arguments.\n",
      "Positional arguments ['self', 'name', 'low', 'high', 'step', 'log'] in suggest_int() have been deprecated since v3.5.0. They will be replaced with the corresponding keyword arguments in v5.0.0, so please use the keyword specification instead. See https://github.com/optuna/optuna/releases/tag/v3.5.0 for details.\n",
      "  'min_samples_leaf': trial.suggest_int('min_samples_leaf', 1, 4, 1),\n",
      "[I 2025-09-16 21:11:19,368] Trial 78 finished with value: 5.6196041291087235 and parameters: {'n_estimators': 48, 'max_depth': 4, 'min_samples_split': 5, 'min_samples_leaf': 1}. Best is trial 73 with value: 5.029438300335224.\n"
     ]
    },
    {
     "name": "stdout",
     "output_type": "stream",
     "text": [
      "🏃 View run bold-ox-981 at: http://127.0.0.1:5000/#/experiments/2/runs/454d573f7a5d4d7ab95a0f405d4908e9\n",
      "🧪 View experiment at: http://127.0.0.1:5000/#/experiments/2\n",
      "🏃 View run amusing-gull-359 at: http://127.0.0.1:5000/#/experiments/2/runs/5b9043daac1c493896e1d872bcce95c3\n",
      "🧪 View experiment at: http://127.0.0.1:5000/#/experiments/2\n"
     ]
    },
    {
     "name": "stderr",
     "output_type": "stream",
     "text": [
      "/var/folders/02/7p49pcn90q5ftb99dns9v18c0000gp/T/ipykernel_80721/4268162343.py:8: FutureWarning: suggest_int() got {'step'} as positional arguments but they were expected to be given as keyword arguments.\n",
      "Positional arguments ['self', 'name', 'low', 'high', 'step', 'log'] in suggest_int() have been deprecated since v3.5.0. They will be replaced with the corresponding keyword arguments in v5.0.0, so please use the keyword specification instead. See https://github.com/optuna/optuna/releases/tag/v3.5.0 for details.\n",
      "  'n_estimators': trial.suggest_int('n_estimators', 10, 50, 1),\n",
      "/var/folders/02/7p49pcn90q5ftb99dns9v18c0000gp/T/ipykernel_80721/4268162343.py:9: FutureWarning: suggest_int() got {'step'} as positional arguments but they were expected to be given as keyword arguments.\n",
      "Positional arguments ['self', 'name', 'low', 'high', 'step', 'log'] in suggest_int() have been deprecated since v3.5.0. They will be replaced with the corresponding keyword arguments in v5.0.0, so please use the keyword specification instead. See https://github.com/optuna/optuna/releases/tag/v3.5.0 for details.\n",
      "  'max_depth': trial.suggest_int('max_depth', 1, 20, 1),\n",
      "/var/folders/02/7p49pcn90q5ftb99dns9v18c0000gp/T/ipykernel_80721/4268162343.py:10: FutureWarning: suggest_int() got {'step'} as positional arguments but they were expected to be given as keyword arguments.\n",
      "Positional arguments ['self', 'name', 'low', 'high', 'step', 'log'] in suggest_int() have been deprecated since v3.5.0. They will be replaced with the corresponding keyword arguments in v5.0.0, so please use the keyword specification instead. See https://github.com/optuna/optuna/releases/tag/v3.5.0 for details.\n",
      "  'min_samples_split': trial.suggest_int('min_samples_split', 2, 10, 1),\n",
      "/var/folders/02/7p49pcn90q5ftb99dns9v18c0000gp/T/ipykernel_80721/4268162343.py:11: FutureWarning: suggest_int() got {'step'} as positional arguments but they were expected to be given as keyword arguments.\n",
      "Positional arguments ['self', 'name', 'low', 'high', 'step', 'log'] in suggest_int() have been deprecated since v3.5.0. They will be replaced with the corresponding keyword arguments in v5.0.0, so please use the keyword specification instead. See https://github.com/optuna/optuna/releases/tag/v3.5.0 for details.\n",
      "  'min_samples_leaf': trial.suggest_int('min_samples_leaf', 1, 4, 1),\n",
      "[I 2025-09-16 21:11:19,564] Trial 79 finished with value: 5.047028212422144 and parameters: {'n_estimators': 23, 'max_depth': 15, 'min_samples_split': 5, 'min_samples_leaf': 2}. Best is trial 73 with value: 5.029438300335224.\n",
      "/var/folders/02/7p49pcn90q5ftb99dns9v18c0000gp/T/ipykernel_80721/4268162343.py:8: FutureWarning: suggest_int() got {'step'} as positional arguments but they were expected to be given as keyword arguments.\n",
      "Positional arguments ['self', 'name', 'low', 'high', 'step', 'log'] in suggest_int() have been deprecated since v3.5.0. They will be replaced with the corresponding keyword arguments in v5.0.0, so please use the keyword specification instead. See https://github.com/optuna/optuna/releases/tag/v3.5.0 for details.\n",
      "  'n_estimators': trial.suggest_int('n_estimators', 10, 50, 1),\n",
      "/var/folders/02/7p49pcn90q5ftb99dns9v18c0000gp/T/ipykernel_80721/4268162343.py:9: FutureWarning: suggest_int() got {'step'} as positional arguments but they were expected to be given as keyword arguments.\n",
      "Positional arguments ['self', 'name', 'low', 'high', 'step', 'log'] in suggest_int() have been deprecated since v3.5.0. They will be replaced with the corresponding keyword arguments in v5.0.0, so please use the keyword specification instead. See https://github.com/optuna/optuna/releases/tag/v3.5.0 for details.\n",
      "  'max_depth': trial.suggest_int('max_depth', 1, 20, 1),\n",
      "/var/folders/02/7p49pcn90q5ftb99dns9v18c0000gp/T/ipykernel_80721/4268162343.py:10: FutureWarning: suggest_int() got {'step'} as positional arguments but they were expected to be given as keyword arguments.\n",
      "Positional arguments ['self', 'name', 'low', 'high', 'step', 'log'] in suggest_int() have been deprecated since v3.5.0. They will be replaced with the corresponding keyword arguments in v5.0.0, so please use the keyword specification instead. See https://github.com/optuna/optuna/releases/tag/v3.5.0 for details.\n",
      "  'min_samples_split': trial.suggest_int('min_samples_split', 2, 10, 1),\n",
      "/var/folders/02/7p49pcn90q5ftb99dns9v18c0000gp/T/ipykernel_80721/4268162343.py:11: FutureWarning: suggest_int() got {'step'} as positional arguments but they were expected to be given as keyword arguments.\n",
      "Positional arguments ['self', 'name', 'low', 'high', 'step', 'log'] in suggest_int() have been deprecated since v3.5.0. They will be replaced with the corresponding keyword arguments in v5.0.0, so please use the keyword specification instead. See https://github.com/optuna/optuna/releases/tag/v3.5.0 for details.\n",
      "  'min_samples_leaf': trial.suggest_int('min_samples_leaf', 1, 4, 1),\n"
     ]
    },
    {
     "name": "stdout",
     "output_type": "stream",
     "text": [
      "🏃 View run stately-stork-674 at: http://127.0.0.1:5000/#/experiments/2/runs/f086e8839a104212ba30fabba9119454\n",
      "🧪 View experiment at: http://127.0.0.1:5000/#/experiments/2\n"
     ]
    },
    {
     "name": "stderr",
     "output_type": "stream",
     "text": [
      "[I 2025-09-16 21:11:19,869] Trial 80 finished with value: 5.046753448712581 and parameters: {'n_estimators': 42, 'max_depth': 17, 'min_samples_split': 6, 'min_samples_leaf': 2}. Best is trial 73 with value: 5.029438300335224.\n"
     ]
    },
    {
     "name": "stdout",
     "output_type": "stream",
     "text": [
      "🏃 View run secretive-skunk-176 at: http://127.0.0.1:5000/#/experiments/2/runs/aba359142a024109a7aad18664734367\n",
      "🧪 View experiment at: http://127.0.0.1:5000/#/experiments/2\n"
     ]
    },
    {
     "name": "stderr",
     "output_type": "stream",
     "text": [
      "/var/folders/02/7p49pcn90q5ftb99dns9v18c0000gp/T/ipykernel_80721/4268162343.py:8: FutureWarning: suggest_int() got {'step'} as positional arguments but they were expected to be given as keyword arguments.\n",
      "Positional arguments ['self', 'name', 'low', 'high', 'step', 'log'] in suggest_int() have been deprecated since v3.5.0. They will be replaced with the corresponding keyword arguments in v5.0.0, so please use the keyword specification instead. See https://github.com/optuna/optuna/releases/tag/v3.5.0 for details.\n",
      "  'n_estimators': trial.suggest_int('n_estimators', 10, 50, 1),\n",
      "/var/folders/02/7p49pcn90q5ftb99dns9v18c0000gp/T/ipykernel_80721/4268162343.py:9: FutureWarning: suggest_int() got {'step'} as positional arguments but they were expected to be given as keyword arguments.\n",
      "Positional arguments ['self', 'name', 'low', 'high', 'step', 'log'] in suggest_int() have been deprecated since v3.5.0. They will be replaced with the corresponding keyword arguments in v5.0.0, so please use the keyword specification instead. See https://github.com/optuna/optuna/releases/tag/v3.5.0 for details.\n",
      "  'max_depth': trial.suggest_int('max_depth', 1, 20, 1),\n",
      "/var/folders/02/7p49pcn90q5ftb99dns9v18c0000gp/T/ipykernel_80721/4268162343.py:10: FutureWarning: suggest_int() got {'step'} as positional arguments but they were expected to be given as keyword arguments.\n",
      "Positional arguments ['self', 'name', 'low', 'high', 'step', 'log'] in suggest_int() have been deprecated since v3.5.0. They will be replaced with the corresponding keyword arguments in v5.0.0, so please use the keyword specification instead. See https://github.com/optuna/optuna/releases/tag/v3.5.0 for details.\n",
      "  'min_samples_split': trial.suggest_int('min_samples_split', 2, 10, 1),\n",
      "/var/folders/02/7p49pcn90q5ftb99dns9v18c0000gp/T/ipykernel_80721/4268162343.py:11: FutureWarning: suggest_int() got {'step'} as positional arguments but they were expected to be given as keyword arguments.\n",
      "Positional arguments ['self', 'name', 'low', 'high', 'step', 'log'] in suggest_int() have been deprecated since v3.5.0. They will be replaced with the corresponding keyword arguments in v5.0.0, so please use the keyword specification instead. See https://github.com/optuna/optuna/releases/tag/v3.5.0 for details.\n",
      "  'min_samples_leaf': trial.suggest_int('min_samples_leaf', 1, 4, 1),\n",
      "[I 2025-09-16 21:11:20,203] Trial 81 finished with value: 5.031188551665347 and parameters: {'n_estimators': 50, 'max_depth': 14, 'min_samples_split': 4, 'min_samples_leaf': 2}. Best is trial 73 with value: 5.029438300335224.\n"
     ]
    },
    {
     "name": "stdout",
     "output_type": "stream",
     "text": [
      "🏃 View run defiant-duck-665 at: http://127.0.0.1:5000/#/experiments/2/runs/405f0ab4515f4a4ea8549ec5eb607969\n",
      "🧪 View experiment at: http://127.0.0.1:5000/#/experiments/2\n"
     ]
    },
    {
     "name": "stderr",
     "output_type": "stream",
     "text": [
      "/var/folders/02/7p49pcn90q5ftb99dns9v18c0000gp/T/ipykernel_80721/4268162343.py:8: FutureWarning: suggest_int() got {'step'} as positional arguments but they were expected to be given as keyword arguments.\n",
      "Positional arguments ['self', 'name', 'low', 'high', 'step', 'log'] in suggest_int() have been deprecated since v3.5.0. They will be replaced with the corresponding keyword arguments in v5.0.0, so please use the keyword specification instead. See https://github.com/optuna/optuna/releases/tag/v3.5.0 for details.\n",
      "  'n_estimators': trial.suggest_int('n_estimators', 10, 50, 1),\n",
      "/var/folders/02/7p49pcn90q5ftb99dns9v18c0000gp/T/ipykernel_80721/4268162343.py:9: FutureWarning: suggest_int() got {'step'} as positional arguments but they were expected to be given as keyword arguments.\n",
      "Positional arguments ['self', 'name', 'low', 'high', 'step', 'log'] in suggest_int() have been deprecated since v3.5.0. They will be replaced with the corresponding keyword arguments in v5.0.0, so please use the keyword specification instead. See https://github.com/optuna/optuna/releases/tag/v3.5.0 for details.\n",
      "  'max_depth': trial.suggest_int('max_depth', 1, 20, 1),\n",
      "/var/folders/02/7p49pcn90q5ftb99dns9v18c0000gp/T/ipykernel_80721/4268162343.py:10: FutureWarning: suggest_int() got {'step'} as positional arguments but they were expected to be given as keyword arguments.\n",
      "Positional arguments ['self', 'name', 'low', 'high', 'step', 'log'] in suggest_int() have been deprecated since v3.5.0. They will be replaced with the corresponding keyword arguments in v5.0.0, so please use the keyword specification instead. See https://github.com/optuna/optuna/releases/tag/v3.5.0 for details.\n",
      "  'min_samples_split': trial.suggest_int('min_samples_split', 2, 10, 1),\n",
      "/var/folders/02/7p49pcn90q5ftb99dns9v18c0000gp/T/ipykernel_80721/4268162343.py:11: FutureWarning: suggest_int() got {'step'} as positional arguments but they were expected to be given as keyword arguments.\n",
      "Positional arguments ['self', 'name', 'low', 'high', 'step', 'log'] in suggest_int() have been deprecated since v3.5.0. They will be replaced with the corresponding keyword arguments in v5.0.0, so please use the keyword specification instead. See https://github.com/optuna/optuna/releases/tag/v3.5.0 for details.\n",
      "  'min_samples_leaf': trial.suggest_int('min_samples_leaf', 1, 4, 1),\n",
      "[I 2025-09-16 21:11:20,509] Trial 82 finished with value: 5.029438300335224 and parameters: {'n_estimators': 49, 'max_depth': 14, 'min_samples_split': 5, 'min_samples_leaf': 2}. Best is trial 73 with value: 5.029438300335224.\n"
     ]
    },
    {
     "name": "stdout",
     "output_type": "stream",
     "text": [
      "🏃 View run bald-fox-450 at: http://127.0.0.1:5000/#/experiments/2/runs/68f94c0061d1486ba17451ba39bc4b74\n",
      "🧪 View experiment at: http://127.0.0.1:5000/#/experiments/2\n"
     ]
    },
    {
     "name": "stderr",
     "output_type": "stream",
     "text": [
      "/var/folders/02/7p49pcn90q5ftb99dns9v18c0000gp/T/ipykernel_80721/4268162343.py:8: FutureWarning: suggest_int() got {'step'} as positional arguments but they were expected to be given as keyword arguments.\n",
      "Positional arguments ['self', 'name', 'low', 'high', 'step', 'log'] in suggest_int() have been deprecated since v3.5.0. They will be replaced with the corresponding keyword arguments in v5.0.0, so please use the keyword specification instead. See https://github.com/optuna/optuna/releases/tag/v3.5.0 for details.\n",
      "  'n_estimators': trial.suggest_int('n_estimators', 10, 50, 1),\n",
      "/var/folders/02/7p49pcn90q5ftb99dns9v18c0000gp/T/ipykernel_80721/4268162343.py:9: FutureWarning: suggest_int() got {'step'} as positional arguments but they were expected to be given as keyword arguments.\n",
      "Positional arguments ['self', 'name', 'low', 'high', 'step', 'log'] in suggest_int() have been deprecated since v3.5.0. They will be replaced with the corresponding keyword arguments in v5.0.0, so please use the keyword specification instead. See https://github.com/optuna/optuna/releases/tag/v3.5.0 for details.\n",
      "  'max_depth': trial.suggest_int('max_depth', 1, 20, 1),\n",
      "/var/folders/02/7p49pcn90q5ftb99dns9v18c0000gp/T/ipykernel_80721/4268162343.py:10: FutureWarning: suggest_int() got {'step'} as positional arguments but they were expected to be given as keyword arguments.\n",
      "Positional arguments ['self', 'name', 'low', 'high', 'step', 'log'] in suggest_int() have been deprecated since v3.5.0. They will be replaced with the corresponding keyword arguments in v5.0.0, so please use the keyword specification instead. See https://github.com/optuna/optuna/releases/tag/v3.5.0 for details.\n",
      "  'min_samples_split': trial.suggest_int('min_samples_split', 2, 10, 1),\n",
      "/var/folders/02/7p49pcn90q5ftb99dns9v18c0000gp/T/ipykernel_80721/4268162343.py:11: FutureWarning: suggest_int() got {'step'} as positional arguments but they were expected to be given as keyword arguments.\n",
      "Positional arguments ['self', 'name', 'low', 'high', 'step', 'log'] in suggest_int() have been deprecated since v3.5.0. They will be replaced with the corresponding keyword arguments in v5.0.0, so please use the keyword specification instead. See https://github.com/optuna/optuna/releases/tag/v3.5.0 for details.\n",
      "  'min_samples_leaf': trial.suggest_int('min_samples_leaf', 1, 4, 1),\n",
      "[I 2025-09-16 21:11:20,812] Trial 83 finished with value: 5.029903540921055 and parameters: {'n_estimators': 46, 'max_depth': 15, 'min_samples_split': 5, 'min_samples_leaf': 2}. Best is trial 73 with value: 5.029438300335224.\n"
     ]
    },
    {
     "name": "stdout",
     "output_type": "stream",
     "text": [
      "🏃 View run polite-moose-585 at: http://127.0.0.1:5000/#/experiments/2/runs/20bf908ff8ad43de87736802c6755f9a\n",
      "🧪 View experiment at: http://127.0.0.1:5000/#/experiments/2\n"
     ]
    },
    {
     "name": "stderr",
     "output_type": "stream",
     "text": [
      "/var/folders/02/7p49pcn90q5ftb99dns9v18c0000gp/T/ipykernel_80721/4268162343.py:8: FutureWarning: suggest_int() got {'step'} as positional arguments but they were expected to be given as keyword arguments.\n",
      "Positional arguments ['self', 'name', 'low', 'high', 'step', 'log'] in suggest_int() have been deprecated since v3.5.0. They will be replaced with the corresponding keyword arguments in v5.0.0, so please use the keyword specification instead. See https://github.com/optuna/optuna/releases/tag/v3.5.0 for details.\n",
      "  'n_estimators': trial.suggest_int('n_estimators', 10, 50, 1),\n",
      "/var/folders/02/7p49pcn90q5ftb99dns9v18c0000gp/T/ipykernel_80721/4268162343.py:9: FutureWarning: suggest_int() got {'step'} as positional arguments but they were expected to be given as keyword arguments.\n",
      "Positional arguments ['self', 'name', 'low', 'high', 'step', 'log'] in suggest_int() have been deprecated since v3.5.0. They will be replaced with the corresponding keyword arguments in v5.0.0, so please use the keyword specification instead. See https://github.com/optuna/optuna/releases/tag/v3.5.0 for details.\n",
      "  'max_depth': trial.suggest_int('max_depth', 1, 20, 1),\n",
      "/var/folders/02/7p49pcn90q5ftb99dns9v18c0000gp/T/ipykernel_80721/4268162343.py:10: FutureWarning: suggest_int() got {'step'} as positional arguments but they were expected to be given as keyword arguments.\n",
      "Positional arguments ['self', 'name', 'low', 'high', 'step', 'log'] in suggest_int() have been deprecated since v3.5.0. They will be replaced with the corresponding keyword arguments in v5.0.0, so please use the keyword specification instead. See https://github.com/optuna/optuna/releases/tag/v3.5.0 for details.\n",
      "  'min_samples_split': trial.suggest_int('min_samples_split', 2, 10, 1),\n",
      "/var/folders/02/7p49pcn90q5ftb99dns9v18c0000gp/T/ipykernel_80721/4268162343.py:11: FutureWarning: suggest_int() got {'step'} as positional arguments but they were expected to be given as keyword arguments.\n",
      "Positional arguments ['self', 'name', 'low', 'high', 'step', 'log'] in suggest_int() have been deprecated since v3.5.0. They will be replaced with the corresponding keyword arguments in v5.0.0, so please use the keyword specification instead. See https://github.com/optuna/optuna/releases/tag/v3.5.0 for details.\n",
      "  'min_samples_leaf': trial.suggest_int('min_samples_leaf', 1, 4, 1),\n",
      "[I 2025-09-16 21:11:21,243] Trial 84 finished with value: 5.036271126575856 and parameters: {'n_estimators': 46, 'max_depth': 16, 'min_samples_split': 5, 'min_samples_leaf': 2}. Best is trial 73 with value: 5.029438300335224.\n"
     ]
    },
    {
     "name": "stdout",
     "output_type": "stream",
     "text": [
      "🏃 View run thundering-owl-29 at: http://127.0.0.1:5000/#/experiments/2/runs/0283c6bf92214539ae4ae3e923f60722\n",
      "🧪 View experiment at: http://127.0.0.1:5000/#/experiments/2\n"
     ]
    },
    {
     "name": "stderr",
     "output_type": "stream",
     "text": [
      "/var/folders/02/7p49pcn90q5ftb99dns9v18c0000gp/T/ipykernel_80721/4268162343.py:8: FutureWarning: suggest_int() got {'step'} as positional arguments but they were expected to be given as keyword arguments.\n",
      "Positional arguments ['self', 'name', 'low', 'high', 'step', 'log'] in suggest_int() have been deprecated since v3.5.0. They will be replaced with the corresponding keyword arguments in v5.0.0, so please use the keyword specification instead. See https://github.com/optuna/optuna/releases/tag/v3.5.0 for details.\n",
      "  'n_estimators': trial.suggest_int('n_estimators', 10, 50, 1),\n",
      "/var/folders/02/7p49pcn90q5ftb99dns9v18c0000gp/T/ipykernel_80721/4268162343.py:9: FutureWarning: suggest_int() got {'step'} as positional arguments but they were expected to be given as keyword arguments.\n",
      "Positional arguments ['self', 'name', 'low', 'high', 'step', 'log'] in suggest_int() have been deprecated since v3.5.0. They will be replaced with the corresponding keyword arguments in v5.0.0, so please use the keyword specification instead. See https://github.com/optuna/optuna/releases/tag/v3.5.0 for details.\n",
      "  'max_depth': trial.suggest_int('max_depth', 1, 20, 1),\n",
      "/var/folders/02/7p49pcn90q5ftb99dns9v18c0000gp/T/ipykernel_80721/4268162343.py:10: FutureWarning: suggest_int() got {'step'} as positional arguments but they were expected to be given as keyword arguments.\n",
      "Positional arguments ['self', 'name', 'low', 'high', 'step', 'log'] in suggest_int() have been deprecated since v3.5.0. They will be replaced with the corresponding keyword arguments in v5.0.0, so please use the keyword specification instead. See https://github.com/optuna/optuna/releases/tag/v3.5.0 for details.\n",
      "  'min_samples_split': trial.suggest_int('min_samples_split', 2, 10, 1),\n",
      "/var/folders/02/7p49pcn90q5ftb99dns9v18c0000gp/T/ipykernel_80721/4268162343.py:11: FutureWarning: suggest_int() got {'step'} as positional arguments but they were expected to be given as keyword arguments.\n",
      "Positional arguments ['self', 'name', 'low', 'high', 'step', 'log'] in suggest_int() have been deprecated since v3.5.0. They will be replaced with the corresponding keyword arguments in v5.0.0, so please use the keyword specification instead. See https://github.com/optuna/optuna/releases/tag/v3.5.0 for details.\n",
      "  'min_samples_leaf': trial.suggest_int('min_samples_leaf', 1, 4, 1),\n",
      "[I 2025-09-16 21:11:21,561] Trial 85 finished with value: 5.027414256600556 and parameters: {'n_estimators': 49, 'max_depth': 15, 'min_samples_split': 6, 'min_samples_leaf': 2}. Best is trial 85 with value: 5.027414256600556.\n"
     ]
    },
    {
     "name": "stdout",
     "output_type": "stream",
     "text": [
      "🏃 View run whimsical-toad-90 at: http://127.0.0.1:5000/#/experiments/2/runs/ad95c73f41814adf8efa4ec14c3407db\n",
      "🧪 View experiment at: http://127.0.0.1:5000/#/experiments/2\n"
     ]
    },
    {
     "name": "stderr",
     "output_type": "stream",
     "text": [
      "/var/folders/02/7p49pcn90q5ftb99dns9v18c0000gp/T/ipykernel_80721/4268162343.py:8: FutureWarning: suggest_int() got {'step'} as positional arguments but they were expected to be given as keyword arguments.\n",
      "Positional arguments ['self', 'name', 'low', 'high', 'step', 'log'] in suggest_int() have been deprecated since v3.5.0. They will be replaced with the corresponding keyword arguments in v5.0.0, so please use the keyword specification instead. See https://github.com/optuna/optuna/releases/tag/v3.5.0 for details.\n",
      "  'n_estimators': trial.suggest_int('n_estimators', 10, 50, 1),\n",
      "/var/folders/02/7p49pcn90q5ftb99dns9v18c0000gp/T/ipykernel_80721/4268162343.py:9: FutureWarning: suggest_int() got {'step'} as positional arguments but they were expected to be given as keyword arguments.\n",
      "Positional arguments ['self', 'name', 'low', 'high', 'step', 'log'] in suggest_int() have been deprecated since v3.5.0. They will be replaced with the corresponding keyword arguments in v5.0.0, so please use the keyword specification instead. See https://github.com/optuna/optuna/releases/tag/v3.5.0 for details.\n",
      "  'max_depth': trial.suggest_int('max_depth', 1, 20, 1),\n",
      "/var/folders/02/7p49pcn90q5ftb99dns9v18c0000gp/T/ipykernel_80721/4268162343.py:10: FutureWarning: suggest_int() got {'step'} as positional arguments but they were expected to be given as keyword arguments.\n",
      "Positional arguments ['self', 'name', 'low', 'high', 'step', 'log'] in suggest_int() have been deprecated since v3.5.0. They will be replaced with the corresponding keyword arguments in v5.0.0, so please use the keyword specification instead. See https://github.com/optuna/optuna/releases/tag/v3.5.0 for details.\n",
      "  'min_samples_split': trial.suggest_int('min_samples_split', 2, 10, 1),\n",
      "/var/folders/02/7p49pcn90q5ftb99dns9v18c0000gp/T/ipykernel_80721/4268162343.py:11: FutureWarning: suggest_int() got {'step'} as positional arguments but they were expected to be given as keyword arguments.\n",
      "Positional arguments ['self', 'name', 'low', 'high', 'step', 'log'] in suggest_int() have been deprecated since v3.5.0. They will be replaced with the corresponding keyword arguments in v5.0.0, so please use the keyword specification instead. See https://github.com/optuna/optuna/releases/tag/v3.5.0 for details.\n",
      "  'min_samples_leaf': trial.suggest_int('min_samples_leaf', 1, 4, 1),\n",
      "[I 2025-09-16 21:11:21,850] Trial 86 finished with value: 5.030893224199844 and parameters: {'n_estimators': 44, 'max_depth': 15, 'min_samples_split': 6, 'min_samples_leaf': 2}. Best is trial 85 with value: 5.027414256600556.\n"
     ]
    },
    {
     "name": "stdout",
     "output_type": "stream",
     "text": [
      "🏃 View run treasured-hog-571 at: http://127.0.0.1:5000/#/experiments/2/runs/96bad16080aa409997407f5fc9f34e4e\n",
      "🧪 View experiment at: http://127.0.0.1:5000/#/experiments/2\n"
     ]
    },
    {
     "name": "stderr",
     "output_type": "stream",
     "text": [
      "/var/folders/02/7p49pcn90q5ftb99dns9v18c0000gp/T/ipykernel_80721/4268162343.py:8: FutureWarning: suggest_int() got {'step'} as positional arguments but they were expected to be given as keyword arguments.\n",
      "Positional arguments ['self', 'name', 'low', 'high', 'step', 'log'] in suggest_int() have been deprecated since v3.5.0. They will be replaced with the corresponding keyword arguments in v5.0.0, so please use the keyword specification instead. See https://github.com/optuna/optuna/releases/tag/v3.5.0 for details.\n",
      "  'n_estimators': trial.suggest_int('n_estimators', 10, 50, 1),\n",
      "/var/folders/02/7p49pcn90q5ftb99dns9v18c0000gp/T/ipykernel_80721/4268162343.py:9: FutureWarning: suggest_int() got {'step'} as positional arguments but they were expected to be given as keyword arguments.\n",
      "Positional arguments ['self', 'name', 'low', 'high', 'step', 'log'] in suggest_int() have been deprecated since v3.5.0. They will be replaced with the corresponding keyword arguments in v5.0.0, so please use the keyword specification instead. See https://github.com/optuna/optuna/releases/tag/v3.5.0 for details.\n",
      "  'max_depth': trial.suggest_int('max_depth', 1, 20, 1),\n",
      "/var/folders/02/7p49pcn90q5ftb99dns9v18c0000gp/T/ipykernel_80721/4268162343.py:10: FutureWarning: suggest_int() got {'step'} as positional arguments but they were expected to be given as keyword arguments.\n",
      "Positional arguments ['self', 'name', 'low', 'high', 'step', 'log'] in suggest_int() have been deprecated since v3.5.0. They will be replaced with the corresponding keyword arguments in v5.0.0, so please use the keyword specification instead. See https://github.com/optuna/optuna/releases/tag/v3.5.0 for details.\n",
      "  'min_samples_split': trial.suggest_int('min_samples_split', 2, 10, 1),\n",
      "/var/folders/02/7p49pcn90q5ftb99dns9v18c0000gp/T/ipykernel_80721/4268162343.py:11: FutureWarning: suggest_int() got {'step'} as positional arguments but they were expected to be given as keyword arguments.\n",
      "Positional arguments ['self', 'name', 'low', 'high', 'step', 'log'] in suggest_int() have been deprecated since v3.5.0. They will be replaced with the corresponding keyword arguments in v5.0.0, so please use the keyword specification instead. See https://github.com/optuna/optuna/releases/tag/v3.5.0 for details.\n",
      "  'min_samples_leaf': trial.suggest_int('min_samples_leaf', 1, 4, 1),\n",
      "[I 2025-09-16 21:11:22,178] Trial 87 finished with value: 5.045747172856284 and parameters: {'n_estimators': 44, 'max_depth': 17, 'min_samples_split': 6, 'min_samples_leaf': 2}. Best is trial 85 with value: 5.027414256600556.\n"
     ]
    },
    {
     "name": "stdout",
     "output_type": "stream",
     "text": [
      "🏃 View run painted-mule-582 at: http://127.0.0.1:5000/#/experiments/2/runs/348f026589a84e99af19089ae74817f8\n",
      "🧪 View experiment at: http://127.0.0.1:5000/#/experiments/2\n"
     ]
    },
    {
     "name": "stderr",
     "output_type": "stream",
     "text": [
      "/var/folders/02/7p49pcn90q5ftb99dns9v18c0000gp/T/ipykernel_80721/4268162343.py:8: FutureWarning: suggest_int() got {'step'} as positional arguments but they were expected to be given as keyword arguments.\n",
      "Positional arguments ['self', 'name', 'low', 'high', 'step', 'log'] in suggest_int() have been deprecated since v3.5.0. They will be replaced with the corresponding keyword arguments in v5.0.0, so please use the keyword specification instead. See https://github.com/optuna/optuna/releases/tag/v3.5.0 for details.\n",
      "  'n_estimators': trial.suggest_int('n_estimators', 10, 50, 1),\n",
      "/var/folders/02/7p49pcn90q5ftb99dns9v18c0000gp/T/ipykernel_80721/4268162343.py:9: FutureWarning: suggest_int() got {'step'} as positional arguments but they were expected to be given as keyword arguments.\n",
      "Positional arguments ['self', 'name', 'low', 'high', 'step', 'log'] in suggest_int() have been deprecated since v3.5.0. They will be replaced with the corresponding keyword arguments in v5.0.0, so please use the keyword specification instead. See https://github.com/optuna/optuna/releases/tag/v3.5.0 for details.\n",
      "  'max_depth': trial.suggest_int('max_depth', 1, 20, 1),\n",
      "/var/folders/02/7p49pcn90q5ftb99dns9v18c0000gp/T/ipykernel_80721/4268162343.py:10: FutureWarning: suggest_int() got {'step'} as positional arguments but they were expected to be given as keyword arguments.\n",
      "Positional arguments ['self', 'name', 'low', 'high', 'step', 'log'] in suggest_int() have been deprecated since v3.5.0. They will be replaced with the corresponding keyword arguments in v5.0.0, so please use the keyword specification instead. See https://github.com/optuna/optuna/releases/tag/v3.5.0 for details.\n",
      "  'min_samples_split': trial.suggest_int('min_samples_split', 2, 10, 1),\n",
      "/var/folders/02/7p49pcn90q5ftb99dns9v18c0000gp/T/ipykernel_80721/4268162343.py:11: FutureWarning: suggest_int() got {'step'} as positional arguments but they were expected to be given as keyword arguments.\n",
      "Positional arguments ['self', 'name', 'low', 'high', 'step', 'log'] in suggest_int() have been deprecated since v3.5.0. They will be replaced with the corresponding keyword arguments in v5.0.0, so please use the keyword specification instead. See https://github.com/optuna/optuna/releases/tag/v3.5.0 for details.\n",
      "  'min_samples_leaf': trial.suggest_int('min_samples_leaf', 1, 4, 1),\n",
      "[I 2025-09-16 21:11:22,482] Trial 88 finished with value: 5.025963238179407 and parameters: {'n_estimators': 46, 'max_depth': 15, 'min_samples_split': 7, 'min_samples_leaf': 2}. Best is trial 88 with value: 5.025963238179407.\n"
     ]
    },
    {
     "name": "stdout",
     "output_type": "stream",
     "text": [
      "🏃 View run capricious-trout-251 at: http://127.0.0.1:5000/#/experiments/2/runs/02335f0291ce4b9cbe273d852930b11e\n",
      "🧪 View experiment at: http://127.0.0.1:5000/#/experiments/2\n"
     ]
    },
    {
     "name": "stderr",
     "output_type": "stream",
     "text": [
      "/var/folders/02/7p49pcn90q5ftb99dns9v18c0000gp/T/ipykernel_80721/4268162343.py:8: FutureWarning: suggest_int() got {'step'} as positional arguments but they were expected to be given as keyword arguments.\n",
      "Positional arguments ['self', 'name', 'low', 'high', 'step', 'log'] in suggest_int() have been deprecated since v3.5.0. They will be replaced with the corresponding keyword arguments in v5.0.0, so please use the keyword specification instead. See https://github.com/optuna/optuna/releases/tag/v3.5.0 for details.\n",
      "  'n_estimators': trial.suggest_int('n_estimators', 10, 50, 1),\n",
      "/var/folders/02/7p49pcn90q5ftb99dns9v18c0000gp/T/ipykernel_80721/4268162343.py:9: FutureWarning: suggest_int() got {'step'} as positional arguments but they were expected to be given as keyword arguments.\n",
      "Positional arguments ['self', 'name', 'low', 'high', 'step', 'log'] in suggest_int() have been deprecated since v3.5.0. They will be replaced with the corresponding keyword arguments in v5.0.0, so please use the keyword specification instead. See https://github.com/optuna/optuna/releases/tag/v3.5.0 for details.\n",
      "  'max_depth': trial.suggest_int('max_depth', 1, 20, 1),\n",
      "/var/folders/02/7p49pcn90q5ftb99dns9v18c0000gp/T/ipykernel_80721/4268162343.py:10: FutureWarning: suggest_int() got {'step'} as positional arguments but they were expected to be given as keyword arguments.\n",
      "Positional arguments ['self', 'name', 'low', 'high', 'step', 'log'] in suggest_int() have been deprecated since v3.5.0. They will be replaced with the corresponding keyword arguments in v5.0.0, so please use the keyword specification instead. See https://github.com/optuna/optuna/releases/tag/v3.5.0 for details.\n",
      "  'min_samples_split': trial.suggest_int('min_samples_split', 2, 10, 1),\n",
      "/var/folders/02/7p49pcn90q5ftb99dns9v18c0000gp/T/ipykernel_80721/4268162343.py:11: FutureWarning: suggest_int() got {'step'} as positional arguments but they were expected to be given as keyword arguments.\n",
      "Positional arguments ['self', 'name', 'low', 'high', 'step', 'log'] in suggest_int() have been deprecated since v3.5.0. They will be replaced with the corresponding keyword arguments in v5.0.0, so please use the keyword specification instead. See https://github.com/optuna/optuna/releases/tag/v3.5.0 for details.\n",
      "  'min_samples_leaf': trial.suggest_int('min_samples_leaf', 1, 4, 1),\n",
      "[I 2025-09-16 21:11:22,809] Trial 89 finished with value: 5.046024612527362 and parameters: {'n_estimators': 46, 'max_depth': 18, 'min_samples_split': 7, 'min_samples_leaf': 2}. Best is trial 88 with value: 5.025963238179407.\n"
     ]
    },
    {
     "name": "stdout",
     "output_type": "stream",
     "text": [
      "🏃 View run flawless-calf-808 at: http://127.0.0.1:5000/#/experiments/2/runs/511ed6179d1d4cfd93cb886ec4c28ba9\n",
      "🧪 View experiment at: http://127.0.0.1:5000/#/experiments/2\n"
     ]
    },
    {
     "name": "stderr",
     "output_type": "stream",
     "text": [
      "/var/folders/02/7p49pcn90q5ftb99dns9v18c0000gp/T/ipykernel_80721/4268162343.py:8: FutureWarning: suggest_int() got {'step'} as positional arguments but they were expected to be given as keyword arguments.\n",
      "Positional arguments ['self', 'name', 'low', 'high', 'step', 'log'] in suggest_int() have been deprecated since v3.5.0. They will be replaced with the corresponding keyword arguments in v5.0.0, so please use the keyword specification instead. See https://github.com/optuna/optuna/releases/tag/v3.5.0 for details.\n",
      "  'n_estimators': trial.suggest_int('n_estimators', 10, 50, 1),\n",
      "/var/folders/02/7p49pcn90q5ftb99dns9v18c0000gp/T/ipykernel_80721/4268162343.py:9: FutureWarning: suggest_int() got {'step'} as positional arguments but they were expected to be given as keyword arguments.\n",
      "Positional arguments ['self', 'name', 'low', 'high', 'step', 'log'] in suggest_int() have been deprecated since v3.5.0. They will be replaced with the corresponding keyword arguments in v5.0.0, so please use the keyword specification instead. See https://github.com/optuna/optuna/releases/tag/v3.5.0 for details.\n",
      "  'max_depth': trial.suggest_int('max_depth', 1, 20, 1),\n",
      "/var/folders/02/7p49pcn90q5ftb99dns9v18c0000gp/T/ipykernel_80721/4268162343.py:10: FutureWarning: suggest_int() got {'step'} as positional arguments but they were expected to be given as keyword arguments.\n",
      "Positional arguments ['self', 'name', 'low', 'high', 'step', 'log'] in suggest_int() have been deprecated since v3.5.0. They will be replaced with the corresponding keyword arguments in v5.0.0, so please use the keyword specification instead. See https://github.com/optuna/optuna/releases/tag/v3.5.0 for details.\n",
      "  'min_samples_split': trial.suggest_int('min_samples_split', 2, 10, 1),\n",
      "/var/folders/02/7p49pcn90q5ftb99dns9v18c0000gp/T/ipykernel_80721/4268162343.py:11: FutureWarning: suggest_int() got {'step'} as positional arguments but they were expected to be given as keyword arguments.\n",
      "Positional arguments ['self', 'name', 'low', 'high', 'step', 'log'] in suggest_int() have been deprecated since v3.5.0. They will be replaced with the corresponding keyword arguments in v5.0.0, so please use the keyword specification instead. See https://github.com/optuna/optuna/releases/tag/v3.5.0 for details.\n",
      "  'min_samples_leaf': trial.suggest_int('min_samples_leaf', 1, 4, 1),\n",
      "[I 2025-09-16 21:11:23,142] Trial 90 finished with value: 5.023630697030541 and parameters: {'n_estimators': 49, 'max_depth': 15, 'min_samples_split': 8, 'min_samples_leaf': 2}. Best is trial 90 with value: 5.023630697030541.\n"
     ]
    },
    {
     "name": "stdout",
     "output_type": "stream",
     "text": [
      "🏃 View run luxuriant-colt-328 at: http://127.0.0.1:5000/#/experiments/2/runs/4afcbeb7928d4a3998d43bc87e39a821\n",
      "🧪 View experiment at: http://127.0.0.1:5000/#/experiments/2\n"
     ]
    },
    {
     "name": "stderr",
     "output_type": "stream",
     "text": [
      "/var/folders/02/7p49pcn90q5ftb99dns9v18c0000gp/T/ipykernel_80721/4268162343.py:8: FutureWarning: suggest_int() got {'step'} as positional arguments but they were expected to be given as keyword arguments.\n",
      "Positional arguments ['self', 'name', 'low', 'high', 'step', 'log'] in suggest_int() have been deprecated since v3.5.0. They will be replaced with the corresponding keyword arguments in v5.0.0, so please use the keyword specification instead. See https://github.com/optuna/optuna/releases/tag/v3.5.0 for details.\n",
      "  'n_estimators': trial.suggest_int('n_estimators', 10, 50, 1),\n",
      "/var/folders/02/7p49pcn90q5ftb99dns9v18c0000gp/T/ipykernel_80721/4268162343.py:9: FutureWarning: suggest_int() got {'step'} as positional arguments but they were expected to be given as keyword arguments.\n",
      "Positional arguments ['self', 'name', 'low', 'high', 'step', 'log'] in suggest_int() have been deprecated since v3.5.0. They will be replaced with the corresponding keyword arguments in v5.0.0, so please use the keyword specification instead. See https://github.com/optuna/optuna/releases/tag/v3.5.0 for details.\n",
      "  'max_depth': trial.suggest_int('max_depth', 1, 20, 1),\n",
      "/var/folders/02/7p49pcn90q5ftb99dns9v18c0000gp/T/ipykernel_80721/4268162343.py:10: FutureWarning: suggest_int() got {'step'} as positional arguments but they were expected to be given as keyword arguments.\n",
      "Positional arguments ['self', 'name', 'low', 'high', 'step', 'log'] in suggest_int() have been deprecated since v3.5.0. They will be replaced with the corresponding keyword arguments in v5.0.0, so please use the keyword specification instead. See https://github.com/optuna/optuna/releases/tag/v3.5.0 for details.\n",
      "  'min_samples_split': trial.suggest_int('min_samples_split', 2, 10, 1),\n",
      "/var/folders/02/7p49pcn90q5ftb99dns9v18c0000gp/T/ipykernel_80721/4268162343.py:11: FutureWarning: suggest_int() got {'step'} as positional arguments but they were expected to be given as keyword arguments.\n",
      "Positional arguments ['self', 'name', 'low', 'high', 'step', 'log'] in suggest_int() have been deprecated since v3.5.0. They will be replaced with the corresponding keyword arguments in v5.0.0, so please use the keyword specification instead. See https://github.com/optuna/optuna/releases/tag/v3.5.0 for details.\n",
      "  'min_samples_leaf': trial.suggest_int('min_samples_leaf', 1, 4, 1),\n",
      "[I 2025-09-16 21:11:23,460] Trial 91 finished with value: 5.023630697030541 and parameters: {'n_estimators': 49, 'max_depth': 15, 'min_samples_split': 8, 'min_samples_leaf': 2}. Best is trial 90 with value: 5.023630697030541.\n"
     ]
    },
    {
     "name": "stdout",
     "output_type": "stream",
     "text": [
      "🏃 View run traveling-hog-451 at: http://127.0.0.1:5000/#/experiments/2/runs/a4e2d183753e4b6c9dc31c48bb7e0ce3\n",
      "🧪 View experiment at: http://127.0.0.1:5000/#/experiments/2\n"
     ]
    },
    {
     "name": "stderr",
     "output_type": "stream",
     "text": [
      "/var/folders/02/7p49pcn90q5ftb99dns9v18c0000gp/T/ipykernel_80721/4268162343.py:8: FutureWarning: suggest_int() got {'step'} as positional arguments but they were expected to be given as keyword arguments.\n",
      "Positional arguments ['self', 'name', 'low', 'high', 'step', 'log'] in suggest_int() have been deprecated since v3.5.0. They will be replaced with the corresponding keyword arguments in v5.0.0, so please use the keyword specification instead. See https://github.com/optuna/optuna/releases/tag/v3.5.0 for details.\n",
      "  'n_estimators': trial.suggest_int('n_estimators', 10, 50, 1),\n",
      "/var/folders/02/7p49pcn90q5ftb99dns9v18c0000gp/T/ipykernel_80721/4268162343.py:9: FutureWarning: suggest_int() got {'step'} as positional arguments but they were expected to be given as keyword arguments.\n",
      "Positional arguments ['self', 'name', 'low', 'high', 'step', 'log'] in suggest_int() have been deprecated since v3.5.0. They will be replaced with the corresponding keyword arguments in v5.0.0, so please use the keyword specification instead. See https://github.com/optuna/optuna/releases/tag/v3.5.0 for details.\n",
      "  'max_depth': trial.suggest_int('max_depth', 1, 20, 1),\n",
      "/var/folders/02/7p49pcn90q5ftb99dns9v18c0000gp/T/ipykernel_80721/4268162343.py:10: FutureWarning: suggest_int() got {'step'} as positional arguments but they were expected to be given as keyword arguments.\n",
      "Positional arguments ['self', 'name', 'low', 'high', 'step', 'log'] in suggest_int() have been deprecated since v3.5.0. They will be replaced with the corresponding keyword arguments in v5.0.0, so please use the keyword specification instead. See https://github.com/optuna/optuna/releases/tag/v3.5.0 for details.\n",
      "  'min_samples_split': trial.suggest_int('min_samples_split', 2, 10, 1),\n",
      "/var/folders/02/7p49pcn90q5ftb99dns9v18c0000gp/T/ipykernel_80721/4268162343.py:11: FutureWarning: suggest_int() got {'step'} as positional arguments but they were expected to be given as keyword arguments.\n",
      "Positional arguments ['self', 'name', 'low', 'high', 'step', 'log'] in suggest_int() have been deprecated since v3.5.0. They will be replaced with the corresponding keyword arguments in v5.0.0, so please use the keyword specification instead. See https://github.com/optuna/optuna/releases/tag/v3.5.0 for details.\n",
      "  'min_samples_leaf': trial.suggest_int('min_samples_leaf', 1, 4, 1),\n",
      "[I 2025-09-16 21:11:23,810] Trial 92 finished with value: 5.023630697030541 and parameters: {'n_estimators': 49, 'max_depth': 15, 'min_samples_split': 8, 'min_samples_leaf': 2}. Best is trial 90 with value: 5.023630697030541.\n"
     ]
    },
    {
     "name": "stdout",
     "output_type": "stream",
     "text": [
      "🏃 View run enthused-grouse-839 at: http://127.0.0.1:5000/#/experiments/2/runs/0eb0c11e2cb54db4975174c97e087d3d\n",
      "🧪 View experiment at: http://127.0.0.1:5000/#/experiments/2\n"
     ]
    },
    {
     "name": "stderr",
     "output_type": "stream",
     "text": [
      "/var/folders/02/7p49pcn90q5ftb99dns9v18c0000gp/T/ipykernel_80721/4268162343.py:8: FutureWarning: suggest_int() got {'step'} as positional arguments but they were expected to be given as keyword arguments.\n",
      "Positional arguments ['self', 'name', 'low', 'high', 'step', 'log'] in suggest_int() have been deprecated since v3.5.0. They will be replaced with the corresponding keyword arguments in v5.0.0, so please use the keyword specification instead. See https://github.com/optuna/optuna/releases/tag/v3.5.0 for details.\n",
      "  'n_estimators': trial.suggest_int('n_estimators', 10, 50, 1),\n",
      "/var/folders/02/7p49pcn90q5ftb99dns9v18c0000gp/T/ipykernel_80721/4268162343.py:9: FutureWarning: suggest_int() got {'step'} as positional arguments but they were expected to be given as keyword arguments.\n",
      "Positional arguments ['self', 'name', 'low', 'high', 'step', 'log'] in suggest_int() have been deprecated since v3.5.0. They will be replaced with the corresponding keyword arguments in v5.0.0, so please use the keyword specification instead. See https://github.com/optuna/optuna/releases/tag/v3.5.0 for details.\n",
      "  'max_depth': trial.suggest_int('max_depth', 1, 20, 1),\n",
      "/var/folders/02/7p49pcn90q5ftb99dns9v18c0000gp/T/ipykernel_80721/4268162343.py:10: FutureWarning: suggest_int() got {'step'} as positional arguments but they were expected to be given as keyword arguments.\n",
      "Positional arguments ['self', 'name', 'low', 'high', 'step', 'log'] in suggest_int() have been deprecated since v3.5.0. They will be replaced with the corresponding keyword arguments in v5.0.0, so please use the keyword specification instead. See https://github.com/optuna/optuna/releases/tag/v3.5.0 for details.\n",
      "  'min_samples_split': trial.suggest_int('min_samples_split', 2, 10, 1),\n",
      "/var/folders/02/7p49pcn90q5ftb99dns9v18c0000gp/T/ipykernel_80721/4268162343.py:11: FutureWarning: suggest_int() got {'step'} as positional arguments but they were expected to be given as keyword arguments.\n",
      "Positional arguments ['self', 'name', 'low', 'high', 'step', 'log'] in suggest_int() have been deprecated since v3.5.0. They will be replaced with the corresponding keyword arguments in v5.0.0, so please use the keyword specification instead. See https://github.com/optuna/optuna/releases/tag/v3.5.0 for details.\n",
      "  'min_samples_leaf': trial.suggest_int('min_samples_leaf', 1, 4, 1),\n",
      "[I 2025-09-16 21:11:24,153] Trial 93 finished with value: 5.0257694997127595 and parameters: {'n_estimators': 49, 'max_depth': 16, 'min_samples_split': 8, 'min_samples_leaf': 2}. Best is trial 90 with value: 5.023630697030541.\n"
     ]
    },
    {
     "name": "stdout",
     "output_type": "stream",
     "text": [
      "🏃 View run welcoming-turtle-356 at: http://127.0.0.1:5000/#/experiments/2/runs/7ef44636f5bd4b288541353cd600451d\n",
      "🧪 View experiment at: http://127.0.0.1:5000/#/experiments/2\n"
     ]
    },
    {
     "name": "stderr",
     "output_type": "stream",
     "text": [
      "/var/folders/02/7p49pcn90q5ftb99dns9v18c0000gp/T/ipykernel_80721/4268162343.py:8: FutureWarning: suggest_int() got {'step'} as positional arguments but they were expected to be given as keyword arguments.\n",
      "Positional arguments ['self', 'name', 'low', 'high', 'step', 'log'] in suggest_int() have been deprecated since v3.5.0. They will be replaced with the corresponding keyword arguments in v5.0.0, so please use the keyword specification instead. See https://github.com/optuna/optuna/releases/tag/v3.5.0 for details.\n",
      "  'n_estimators': trial.suggest_int('n_estimators', 10, 50, 1),\n",
      "/var/folders/02/7p49pcn90q5ftb99dns9v18c0000gp/T/ipykernel_80721/4268162343.py:9: FutureWarning: suggest_int() got {'step'} as positional arguments but they were expected to be given as keyword arguments.\n",
      "Positional arguments ['self', 'name', 'low', 'high', 'step', 'log'] in suggest_int() have been deprecated since v3.5.0. They will be replaced with the corresponding keyword arguments in v5.0.0, so please use the keyword specification instead. See https://github.com/optuna/optuna/releases/tag/v3.5.0 for details.\n",
      "  'max_depth': trial.suggest_int('max_depth', 1, 20, 1),\n",
      "/var/folders/02/7p49pcn90q5ftb99dns9v18c0000gp/T/ipykernel_80721/4268162343.py:10: FutureWarning: suggest_int() got {'step'} as positional arguments but they were expected to be given as keyword arguments.\n",
      "Positional arguments ['self', 'name', 'low', 'high', 'step', 'log'] in suggest_int() have been deprecated since v3.5.0. They will be replaced with the corresponding keyword arguments in v5.0.0, so please use the keyword specification instead. See https://github.com/optuna/optuna/releases/tag/v3.5.0 for details.\n",
      "  'min_samples_split': trial.suggest_int('min_samples_split', 2, 10, 1),\n",
      "/var/folders/02/7p49pcn90q5ftb99dns9v18c0000gp/T/ipykernel_80721/4268162343.py:11: FutureWarning: suggest_int() got {'step'} as positional arguments but they were expected to be given as keyword arguments.\n",
      "Positional arguments ['self', 'name', 'low', 'high', 'step', 'log'] in suggest_int() have been deprecated since v3.5.0. They will be replaced with the corresponding keyword arguments in v5.0.0, so please use the keyword specification instead. See https://github.com/optuna/optuna/releases/tag/v3.5.0 for details.\n",
      "  'min_samples_leaf': trial.suggest_int('min_samples_leaf', 1, 4, 1),\n",
      "[I 2025-09-16 21:11:24,503] Trial 94 finished with value: 5.025434987759276 and parameters: {'n_estimators': 50, 'max_depth': 16, 'min_samples_split': 8, 'min_samples_leaf': 2}. Best is trial 90 with value: 5.023630697030541.\n"
     ]
    },
    {
     "name": "stdout",
     "output_type": "stream",
     "text": [
      "🏃 View run honorable-grub-969 at: http://127.0.0.1:5000/#/experiments/2/runs/410c07956bee499f9bbf1902d560ea1d\n",
      "🧪 View experiment at: http://127.0.0.1:5000/#/experiments/2\n"
     ]
    },
    {
     "name": "stderr",
     "output_type": "stream",
     "text": [
      "/var/folders/02/7p49pcn90q5ftb99dns9v18c0000gp/T/ipykernel_80721/4268162343.py:8: FutureWarning: suggest_int() got {'step'} as positional arguments but they were expected to be given as keyword arguments.\n",
      "Positional arguments ['self', 'name', 'low', 'high', 'step', 'log'] in suggest_int() have been deprecated since v3.5.0. They will be replaced with the corresponding keyword arguments in v5.0.0, so please use the keyword specification instead. See https://github.com/optuna/optuna/releases/tag/v3.5.0 for details.\n",
      "  'n_estimators': trial.suggest_int('n_estimators', 10, 50, 1),\n",
      "/var/folders/02/7p49pcn90q5ftb99dns9v18c0000gp/T/ipykernel_80721/4268162343.py:9: FutureWarning: suggest_int() got {'step'} as positional arguments but they were expected to be given as keyword arguments.\n",
      "Positional arguments ['self', 'name', 'low', 'high', 'step', 'log'] in suggest_int() have been deprecated since v3.5.0. They will be replaced with the corresponding keyword arguments in v5.0.0, so please use the keyword specification instead. See https://github.com/optuna/optuna/releases/tag/v3.5.0 for details.\n",
      "  'max_depth': trial.suggest_int('max_depth', 1, 20, 1),\n",
      "/var/folders/02/7p49pcn90q5ftb99dns9v18c0000gp/T/ipykernel_80721/4268162343.py:10: FutureWarning: suggest_int() got {'step'} as positional arguments but they were expected to be given as keyword arguments.\n",
      "Positional arguments ['self', 'name', 'low', 'high', 'step', 'log'] in suggest_int() have been deprecated since v3.5.0. They will be replaced with the corresponding keyword arguments in v5.0.0, so please use the keyword specification instead. See https://github.com/optuna/optuna/releases/tag/v3.5.0 for details.\n",
      "  'min_samples_split': trial.suggest_int('min_samples_split', 2, 10, 1),\n",
      "/var/folders/02/7p49pcn90q5ftb99dns9v18c0000gp/T/ipykernel_80721/4268162343.py:11: FutureWarning: suggest_int() got {'step'} as positional arguments but they were expected to be given as keyword arguments.\n",
      "Positional arguments ['self', 'name', 'low', 'high', 'step', 'log'] in suggest_int() have been deprecated since v3.5.0. They will be replaced with the corresponding keyword arguments in v5.0.0, so please use the keyword specification instead. See https://github.com/optuna/optuna/releases/tag/v3.5.0 for details.\n",
      "  'min_samples_leaf': trial.suggest_int('min_samples_leaf', 1, 4, 1),\n",
      "[I 2025-09-16 21:11:24,846] Trial 95 finished with value: 5.0257694997127595 and parameters: {'n_estimators': 49, 'max_depth': 16, 'min_samples_split': 8, 'min_samples_leaf': 2}. Best is trial 90 with value: 5.023630697030541.\n"
     ]
    },
    {
     "name": "stdout",
     "output_type": "stream",
     "text": [
      "🏃 View run resilient-skunk-956 at: http://127.0.0.1:5000/#/experiments/2/runs/ec6de2babbd7443b9dde4904006594e9\n",
      "🧪 View experiment at: http://127.0.0.1:5000/#/experiments/2\n"
     ]
    },
    {
     "name": "stderr",
     "output_type": "stream",
     "text": [
      "/var/folders/02/7p49pcn90q5ftb99dns9v18c0000gp/T/ipykernel_80721/4268162343.py:8: FutureWarning: suggest_int() got {'step'} as positional arguments but they were expected to be given as keyword arguments.\n",
      "Positional arguments ['self', 'name', 'low', 'high', 'step', 'log'] in suggest_int() have been deprecated since v3.5.0. They will be replaced with the corresponding keyword arguments in v5.0.0, so please use the keyword specification instead. See https://github.com/optuna/optuna/releases/tag/v3.5.0 for details.\n",
      "  'n_estimators': trial.suggest_int('n_estimators', 10, 50, 1),\n",
      "/var/folders/02/7p49pcn90q5ftb99dns9v18c0000gp/T/ipykernel_80721/4268162343.py:9: FutureWarning: suggest_int() got {'step'} as positional arguments but they were expected to be given as keyword arguments.\n",
      "Positional arguments ['self', 'name', 'low', 'high', 'step', 'log'] in suggest_int() have been deprecated since v3.5.0. They will be replaced with the corresponding keyword arguments in v5.0.0, so please use the keyword specification instead. See https://github.com/optuna/optuna/releases/tag/v3.5.0 for details.\n",
      "  'max_depth': trial.suggest_int('max_depth', 1, 20, 1),\n",
      "/var/folders/02/7p49pcn90q5ftb99dns9v18c0000gp/T/ipykernel_80721/4268162343.py:10: FutureWarning: suggest_int() got {'step'} as positional arguments but they were expected to be given as keyword arguments.\n",
      "Positional arguments ['self', 'name', 'low', 'high', 'step', 'log'] in suggest_int() have been deprecated since v3.5.0. They will be replaced with the corresponding keyword arguments in v5.0.0, so please use the keyword specification instead. See https://github.com/optuna/optuna/releases/tag/v3.5.0 for details.\n",
      "  'min_samples_split': trial.suggest_int('min_samples_split', 2, 10, 1),\n",
      "/var/folders/02/7p49pcn90q5ftb99dns9v18c0000gp/T/ipykernel_80721/4268162343.py:11: FutureWarning: suggest_int() got {'step'} as positional arguments but they were expected to be given as keyword arguments.\n",
      "Positional arguments ['self', 'name', 'low', 'high', 'step', 'log'] in suggest_int() have been deprecated since v3.5.0. They will be replaced with the corresponding keyword arguments in v5.0.0, so please use the keyword specification instead. See https://github.com/optuna/optuna/releases/tag/v3.5.0 for details.\n",
      "  'min_samples_leaf': trial.suggest_int('min_samples_leaf', 1, 4, 1),\n",
      "[I 2025-09-16 21:11:25,180] Trial 96 finished with value: 5.0257694997127595 and parameters: {'n_estimators': 49, 'max_depth': 16, 'min_samples_split': 8, 'min_samples_leaf': 2}. Best is trial 90 with value: 5.023630697030541.\n"
     ]
    },
    {
     "name": "stdout",
     "output_type": "stream",
     "text": [
      "🏃 View run caring-tern-524 at: http://127.0.0.1:5000/#/experiments/2/runs/95b422db4f1045a6a0549aa99718b6ad\n",
      "🧪 View experiment at: http://127.0.0.1:5000/#/experiments/2\n"
     ]
    },
    {
     "name": "stderr",
     "output_type": "stream",
     "text": [
      "/var/folders/02/7p49pcn90q5ftb99dns9v18c0000gp/T/ipykernel_80721/4268162343.py:8: FutureWarning: suggest_int() got {'step'} as positional arguments but they were expected to be given as keyword arguments.\n",
      "Positional arguments ['self', 'name', 'low', 'high', 'step', 'log'] in suggest_int() have been deprecated since v3.5.0. They will be replaced with the corresponding keyword arguments in v5.0.0, so please use the keyword specification instead. See https://github.com/optuna/optuna/releases/tag/v3.5.0 for details.\n",
      "  'n_estimators': trial.suggest_int('n_estimators', 10, 50, 1),\n",
      "/var/folders/02/7p49pcn90q5ftb99dns9v18c0000gp/T/ipykernel_80721/4268162343.py:9: FutureWarning: suggest_int() got {'step'} as positional arguments but they were expected to be given as keyword arguments.\n",
      "Positional arguments ['self', 'name', 'low', 'high', 'step', 'log'] in suggest_int() have been deprecated since v3.5.0. They will be replaced with the corresponding keyword arguments in v5.0.0, so please use the keyword specification instead. See https://github.com/optuna/optuna/releases/tag/v3.5.0 for details.\n",
      "  'max_depth': trial.suggest_int('max_depth', 1, 20, 1),\n",
      "/var/folders/02/7p49pcn90q5ftb99dns9v18c0000gp/T/ipykernel_80721/4268162343.py:10: FutureWarning: suggest_int() got {'step'} as positional arguments but they were expected to be given as keyword arguments.\n",
      "Positional arguments ['self', 'name', 'low', 'high', 'step', 'log'] in suggest_int() have been deprecated since v3.5.0. They will be replaced with the corresponding keyword arguments in v5.0.0, so please use the keyword specification instead. See https://github.com/optuna/optuna/releases/tag/v3.5.0 for details.\n",
      "  'min_samples_split': trial.suggest_int('min_samples_split', 2, 10, 1),\n",
      "/var/folders/02/7p49pcn90q5ftb99dns9v18c0000gp/T/ipykernel_80721/4268162343.py:11: FutureWarning: suggest_int() got {'step'} as positional arguments but they were expected to be given as keyword arguments.\n",
      "Positional arguments ['self', 'name', 'low', 'high', 'step', 'log'] in suggest_int() have been deprecated since v3.5.0. They will be replaced with the corresponding keyword arguments in v5.0.0, so please use the keyword specification instead. See https://github.com/optuna/optuna/releases/tag/v3.5.0 for details.\n",
      "  'min_samples_leaf': trial.suggest_int('min_samples_leaf', 1, 4, 1),\n",
      "[I 2025-09-16 21:11:25,551] Trial 97 finished with value: 5.044773969289011 and parameters: {'n_estimators': 50, 'max_depth': 19, 'min_samples_split': 8, 'min_samples_leaf': 2}. Best is trial 90 with value: 5.023630697030541.\n"
     ]
    },
    {
     "name": "stdout",
     "output_type": "stream",
     "text": [
      "🏃 View run nervous-bass-38 at: http://127.0.0.1:5000/#/experiments/2/runs/f06d7dd2eb364248bed1dd175d15c0a9\n",
      "🧪 View experiment at: http://127.0.0.1:5000/#/experiments/2\n"
     ]
    },
    {
     "name": "stderr",
     "output_type": "stream",
     "text": [
      "/var/folders/02/7p49pcn90q5ftb99dns9v18c0000gp/T/ipykernel_80721/4268162343.py:8: FutureWarning: suggest_int() got {'step'} as positional arguments but they were expected to be given as keyword arguments.\n",
      "Positional arguments ['self', 'name', 'low', 'high', 'step', 'log'] in suggest_int() have been deprecated since v3.5.0. They will be replaced with the corresponding keyword arguments in v5.0.0, so please use the keyword specification instead. See https://github.com/optuna/optuna/releases/tag/v3.5.0 for details.\n",
      "  'n_estimators': trial.suggest_int('n_estimators', 10, 50, 1),\n",
      "/var/folders/02/7p49pcn90q5ftb99dns9v18c0000gp/T/ipykernel_80721/4268162343.py:9: FutureWarning: suggest_int() got {'step'} as positional arguments but they were expected to be given as keyword arguments.\n",
      "Positional arguments ['self', 'name', 'low', 'high', 'step', 'log'] in suggest_int() have been deprecated since v3.5.0. They will be replaced with the corresponding keyword arguments in v5.0.0, so please use the keyword specification instead. See https://github.com/optuna/optuna/releases/tag/v3.5.0 for details.\n",
      "  'max_depth': trial.suggest_int('max_depth', 1, 20, 1),\n",
      "/var/folders/02/7p49pcn90q5ftb99dns9v18c0000gp/T/ipykernel_80721/4268162343.py:10: FutureWarning: suggest_int() got {'step'} as positional arguments but they were expected to be given as keyword arguments.\n",
      "Positional arguments ['self', 'name', 'low', 'high', 'step', 'log'] in suggest_int() have been deprecated since v3.5.0. They will be replaced with the corresponding keyword arguments in v5.0.0, so please use the keyword specification instead. See https://github.com/optuna/optuna/releases/tag/v3.5.0 for details.\n",
      "  'min_samples_split': trial.suggest_int('min_samples_split', 2, 10, 1),\n",
      "/var/folders/02/7p49pcn90q5ftb99dns9v18c0000gp/T/ipykernel_80721/4268162343.py:11: FutureWarning: suggest_int() got {'step'} as positional arguments but they were expected to be given as keyword arguments.\n",
      "Positional arguments ['self', 'name', 'low', 'high', 'step', 'log'] in suggest_int() have been deprecated since v3.5.0. They will be replaced with the corresponding keyword arguments in v5.0.0, so please use the keyword specification instead. See https://github.com/optuna/optuna/releases/tag/v3.5.0 for details.\n",
      "  'min_samples_leaf': trial.suggest_int('min_samples_leaf', 1, 4, 1),\n",
      "[I 2025-09-16 21:11:25,883] Trial 98 finished with value: 5.0257694997127595 and parameters: {'n_estimators': 49, 'max_depth': 16, 'min_samples_split': 8, 'min_samples_leaf': 2}. Best is trial 90 with value: 5.023630697030541.\n"
     ]
    },
    {
     "name": "stdout",
     "output_type": "stream",
     "text": [
      "🏃 View run bustling-sheep-681 at: http://127.0.0.1:5000/#/experiments/2/runs/8f0d5226f92645c19d28230553b81823\n",
      "🧪 View experiment at: http://127.0.0.1:5000/#/experiments/2\n"
     ]
    },
    {
     "name": "stderr",
     "output_type": "stream",
     "text": [
      "/var/folders/02/7p49pcn90q5ftb99dns9v18c0000gp/T/ipykernel_80721/4268162343.py:8: FutureWarning: suggest_int() got {'step'} as positional arguments but they were expected to be given as keyword arguments.\n",
      "Positional arguments ['self', 'name', 'low', 'high', 'step', 'log'] in suggest_int() have been deprecated since v3.5.0. They will be replaced with the corresponding keyword arguments in v5.0.0, so please use the keyword specification instead. See https://github.com/optuna/optuna/releases/tag/v3.5.0 for details.\n",
      "  'n_estimators': trial.suggest_int('n_estimators', 10, 50, 1),\n",
      "/var/folders/02/7p49pcn90q5ftb99dns9v18c0000gp/T/ipykernel_80721/4268162343.py:9: FutureWarning: suggest_int() got {'step'} as positional arguments but they were expected to be given as keyword arguments.\n",
      "Positional arguments ['self', 'name', 'low', 'high', 'step', 'log'] in suggest_int() have been deprecated since v3.5.0. They will be replaced with the corresponding keyword arguments in v5.0.0, so please use the keyword specification instead. See https://github.com/optuna/optuna/releases/tag/v3.5.0 for details.\n",
      "  'max_depth': trial.suggest_int('max_depth', 1, 20, 1),\n",
      "/var/folders/02/7p49pcn90q5ftb99dns9v18c0000gp/T/ipykernel_80721/4268162343.py:10: FutureWarning: suggest_int() got {'step'} as positional arguments but they were expected to be given as keyword arguments.\n",
      "Positional arguments ['self', 'name', 'low', 'high', 'step', 'log'] in suggest_int() have been deprecated since v3.5.0. They will be replaced with the corresponding keyword arguments in v5.0.0, so please use the keyword specification instead. See https://github.com/optuna/optuna/releases/tag/v3.5.0 for details.\n",
      "  'min_samples_split': trial.suggest_int('min_samples_split', 2, 10, 1),\n",
      "/var/folders/02/7p49pcn90q5ftb99dns9v18c0000gp/T/ipykernel_80721/4268162343.py:11: FutureWarning: suggest_int() got {'step'} as positional arguments but they were expected to be given as keyword arguments.\n",
      "Positional arguments ['self', 'name', 'low', 'high', 'step', 'log'] in suggest_int() have been deprecated since v3.5.0. They will be replaced with the corresponding keyword arguments in v5.0.0, so please use the keyword specification instead. See https://github.com/optuna/optuna/releases/tag/v3.5.0 for details.\n",
      "  'min_samples_leaf': trial.suggest_int('min_samples_leaf', 1, 4, 1),\n",
      "[I 2025-09-16 21:11:26,236] Trial 99 finished with value: 5.032300055998638 and parameters: {'n_estimators': 49, 'max_depth': 17, 'min_samples_split': 8, 'min_samples_leaf': 2}. Best is trial 90 with value: 5.023630697030541.\n"
     ]
    },
    {
     "name": "stdout",
     "output_type": "stream",
     "text": [
      "🏃 View run tasteful-fish-581 at: http://127.0.0.1:5000/#/experiments/2/runs/36f99e7110404312910ae6f358fd260a\n",
      "🧪 View experiment at: http://127.0.0.1:5000/#/experiments/2\n"
     ]
    }
   ],
   "source": [
    "import optuna\n",
    "\n",
    "mlflow.set_experiment(\"nyc-taxi-experiment-optuna\")\n",
    "\n",
    "def objective(trial):\n",
    "    with mlflow.start_run():\n",
    "        params = {\n",
    "            'n_estimators': trial.suggest_int('n_estimators', 10, 50, 1),\n",
    "            'max_depth': trial.suggest_int('max_depth', 1, 20, 1),\n",
    "            'min_samples_split': trial.suggest_int('min_samples_split', 2, 6, 1),\n",
    "            'min_samples_leaf': trial.suggest_int('min_samples_leaf', 1, 4, 1),\n",
    "            'random_state': 42,\n",
    "            'n_jobs': -1\n",
    "        }\n",
    "        mlflow.log_params(params)\n",
    "\n",
    "        rf = RandomForestRegressor(**params)\n",
    "        rf.fit(X_train, y_train)\n",
    "        y_pred = rf.predict(X_val)\n",
    "        rmse = np.sqrt(mean_squared_error(y_val, y_pred))\n",
    "        mlflow.log_metric(\"rmse\", rmse)\n",
    "\n",
    "    return rmse\n",
    "\n",
    "sampler = optuna.samplers.TPESampler(seed=42)\n",
    "study = optuna.create_study(direction=\"minimize\", sampler=sampler)\n",
    "study.optimize(objective, n_trials=100)"
   ]
  },
  {
   "cell_type": "markdown",
   "metadata": {},
   "source": [
    "## **Explorando la MLflow UI**\n",
    "\n",
    "Ahora que hemos ejecutado la optimización, vamos a explorar la interfaz de MLflow:\n",
    "\n",
    "1. **Experimentos**: Ve a la pestaña \"Experiments\" para ver todos los experimentos\n",
    "2. **Runs**: Cada trial de Optuna aparece como un run individual\n",
    "3. **Métricas**: Compara el RMSE de todos los trials\n",
    "4. **Parámetros**: Ve cómo varían los hiperparámetros\n",
    "5. **Model Registry**: Encuentra el modelo registrado en \"Models\"\n",
    "\n",
    "### **Qué buscar en la UI:**\n",
    "- El run con el menor RMSE (mejor modelo)\n",
    "- La evolución de las métricas a lo largo de los trials\n",
    "- La importancia de cada hiperparámetro\n",
    "- Los artefactos del modelo registrado"
   ]
  },
  {
   "cell_type": "markdown",
   "metadata": {},
   "source": [
    "## **Mejor modelo**"
   ]
  },
  {
   "cell_type": "markdown",
   "metadata": {},
   "source": [
    "Cuando tenemos el mejor modelo, lo entrenamos de nuevo para despues usarlo."
   ]
  },
  {
   "cell_type": "code",
   "execution_count": 11,
   "metadata": {},
   "outputs": [
    {
     "name": "stdout",
     "output_type": "stream",
     "text": [
      "Best trial: 90\n",
      "Best value (RMSE): 5.0236\n",
      "Best params:\n",
      "  n_estimators: 49\n",
      "  max_depth: 15\n",
      "  min_samples_split: 8\n",
      "  min_samples_leaf: 2\n",
      "\n",
      "Best model RMSE: 5.0275\n"
     ]
    }
   ],
   "source": [
    "# Analyze the best trial\n",
    "print(f\"Best trial: {study.best_trial.number}\")\n",
    "print(f\"Best value (RMSE): {study.best_value:.4f}\")\n",
    "print(\"Best params:\")\n",
    "for key, value in study.best_params.items():\n",
    "    print(f\"  {key}: {value}\")\n",
    "\n",
    "# Train the best model\n",
    "best_params = study.best_params\n",
    "best_model = RandomForestRegressor(**best_params)\n",
    "best_model.fit(X_train, y_train)\n",
    "y_pred_best = best_model.predict(X_val)\n",
    "rmse_best = np.sqrt(mean_squared_error(y_val, y_pred_best))\n",
    "\n",
    "print(f\"\\nBest model RMSE: {rmse_best:.4f}\")"
   ]
  },
  {
   "cell_type": "markdown",
   "metadata": {},
   "source": [
    "## **Visualizando la optimización de optuna**"
   ]
  },
  {
   "cell_type": "code",
   "execution_count": 17,
   "metadata": {},
   "outputs": [
    {
     "name": "stderr",
     "output_type": "stream",
     "text": [
      "/var/folders/02/7p49pcn90q5ftb99dns9v18c0000gp/T/ipykernel_38977/602149405.py:6: ExperimentalWarning: plot_optimization_history is experimental (supported from v2.2.0). The interface can change in the future.\n",
      "  optuna.visualization.matplotlib.plot_optimization_history(study)\n"
     ]
    },
    {
     "data": {
      "text/plain": [
       "<Axes: title={'center': 'Optimization History Plot'}, xlabel='Trial', ylabel='Objective Value'>"
      ]
     },
     "execution_count": 17,
     "metadata": {},
     "output_type": "execute_result"
    },
    {
     "data": {
      "image/png": "[encoded data removed]",
      "text/plain": [
       "<Figure size 640x480 with 1 Axes>"
      ]
     },
     "metadata": {},
     "output_type": "display_data"
    }
   ],
   "source": [
    "# Visualize optimization history\n",
    "import matplotlib.pyplot as plt\n",
    "\n",
    "\n",
    "# Optimization history\n",
    "optuna.visualization.matplotlib.plot_optimization_history(study)\n",
    "\n"
   ]
  },
  {
   "cell_type": "code",
   "execution_count": 19,
   "metadata": {},
   "outputs": [
    {
     "name": "stderr",
     "output_type": "stream",
     "text": [
      "/var/folders/02/7p49pcn90q5ftb99dns9v18c0000gp/T/ipykernel_38977/82623574.py:1: ExperimentalWarning: plot_param_importances is experimental (supported from v2.2.0). The interface can change in the future.\n",
      "  optuna.visualization.matplotlib.plot_param_importances(study)\n",
      "2025/09/03 22:02:57 INFO mlflow.utils.autologging_utils: Created MLflow autologging run with ID '5d2d05490db74d9e8f05af63750e2eba', which will track hyperparameters, performance metrics, model artifacts, and lineage information for the current sklearn workflow\n",
      "2025/09/03 22:02:59 WARNING mlflow.utils.environment: Failed to resolve installed pip version. ``pip`` will be added to conda.yaml environment spec without a version specifier.\n"
     ]
    },
    {
     "name": "stdout",
     "output_type": "stream",
     "text": [
      "🏃 View run glamorous-elk-818 at: http://127.0.0.1:5000/#/experiments/3/runs/5d2d05490db74d9e8f05af63750e2eba\n",
      "🧪 View experiment at: http://127.0.0.1:5000/#/experiments/3\n"
     ]
    },
    {
     "data": {
      "text/plain": [
       "<Axes: title={'left': 'Hyperparameter Importances'}, xlabel='Hyperparameter Importance', ylabel='Hyperparameter'>"
      ]
     },
     "execution_count": 19,
     "metadata": {},
     "output_type": "execute_result"
    },
    {
     "data": {
      "image/png": "[encoded data removed]",
      "text/plain": [
       "<Figure size 640x480 with 1 Axes>"
      ]
     },
     "metadata": {},
     "output_type": "display_data"
    }
   ],
   "source": [
    "optuna.visualization.matplotlib.plot_param_importances(study)\n"
   ]
  },
  {
   "cell_type": "markdown",
   "metadata": {},
   "source": [
    "# **Usando el model registry para guardar el mejor modelo y \"ponerlo\" en producción**"
   ]
  },
  {
   "cell_type": "markdown",
   "metadata": {},
   "source": []
  },
  {
   "cell_type": "markdown",
   "metadata": {},
   "source": [
    "Podemos usar autlog de sklearn para captar la mayor cantidad de parametros y asi tener un modelo altamente replicable"
   ]
  },
  {
   "cell_type": "markdown",
   "metadata": {},
   "source": [
    "La importancia del model registry es ya no solamente pensar en la experimentación, sino que al final, después de haber encontrado el mejor modelo pushearlo a nuestro model registry y poder usarlo en producción."
   ]
  },
  {
   "cell_type": "code",
   "execution_count": 20,
   "metadata": {},
   "outputs": [
    {
     "name": "stderr",
     "output_type": "stream",
     "text": [
      "2025/09/03 22:13:13 WARNING mlflow.models.model: `artifact_path` is deprecated. Please use `name` instead.\n",
      "2025/09/03 22:13:15 WARNING mlflow.utils.environment: Failed to resolve installed pip version. ``pip`` will be added to conda.yaml environment spec without a version specifier.\n",
      "\u001b[31m2025/09/03 22:13:15 WARNING mlflow.models.model: Model logged without a signature and input example. Please set `input_example` parameter when logging the model to auto infer the model signature.\u001b[0m\n",
      "Successfully registered model 'nyc-taxi-rf-optimized'.\n",
      "2025/09/03 22:13:15 INFO mlflow.store.model_registry.abstract_store: Waiting up to 300 seconds for model version to finish creation. Model name: nyc-taxi-rf-optimized, version 1\n",
      "Created version '1' of model 'nyc-taxi-rf-optimized'.\n",
      "2025/09/03 22:13:15 WARNING mlflow.models.model: `artifact_path` is deprecated. Please use `name` instead.\n",
      "2025/09/03 22:13:15 WARNING mlflow.sklearn: Model was missing function: predict. Not logging python_function flavor!\n",
      "2025/09/03 22:13:16 WARNING mlflow.utils.environment: Failed to resolve installed pip version. ``pip`` will be added to conda.yaml environment spec without a version specifier.\n",
      "\u001b[31m2025/09/03 22:13:16 WARNING mlflow.models.model: Model logged without a signature and input example. Please set `input_example` parameter when logging the model to auto infer the model signature.\u001b[0m\n",
      "Successfully registered model 'nyc-taxi-preprocessor'.\n",
      "2025/09/03 22:13:16 INFO mlflow.store.model_registry.abstract_store: Waiting up to 300 seconds for model version to finish creation. Model name: nyc-taxi-preprocessor, version 1\n"
     ]
    },
    {
     "name": "stdout",
     "output_type": "stream",
     "text": [
      "🏃 View run overjoyed-wasp-649 at: http://127.0.0.1:5000/#/experiments/3/runs/25696e3de5aa4e53a9ddd4efcb225ca2\n",
      "🧪 View experiment at: http://127.0.0.1:5000/#/experiments/3\n"
     ]
    },
    {
     "name": "stderr",
     "output_type": "stream",
     "text": [
      "Created version '1' of model 'nyc-taxi-preprocessor'.\n"
     ]
    }
   ],
   "source": [
    "# Register the best model\n",
    "with mlflow.start_run(run_id=study.best_trial.user_attrs.get('mlflow_run_id')):\n",
    "    # Log the model\n",
    "    mlflow.sklearn.log_model(\n",
    "        best_model, \n",
    "        \"model\",\n",
    "        registered_model_name=\"nyc-taxi-rf-optimized\"\n",
    "    )\n",
    "    \n",
    "    # Log preprocessing pipeline\n",
    "    mlflow.sklearn.log_model(\n",
    "        preprocessor, \n",
    "        \"preprocessor\",\n",
    "        registered_model_name=\"nyc-taxi-preprocessor\"\n",
    "    )"
   ]
  }
 ],
 "metadata": {
  "kernelspec": {
   "display_name": ".venv",
   "language": "python",
   "name": "python3"
  },
  "language_info": {
   "codemirror_mode": {
    "name": "ipython",
    "version": 3
   },
   "file_extension": ".py",
   "mimetype": "text/x-python",
   "name": "python",
   "nbconvert_exporter": "python",
   "pygments_lexer": "ipython3",
   "version": "3.11.11"
  }
 },
 "nbformat": 4,
 "nbformat_minor": 4
}
